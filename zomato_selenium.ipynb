{
 "cells": [
  {
   "cell_type": "code",
   "execution_count": 1,
   "metadata": {},
   "outputs": [],
   "source": [
    "from selenium import webdriver\n",
    "from selenium.webdriver.common.by import By\n",
    "from selenium.webdriver.support.ui import WebDriverWait\n",
    "from selenium.webdriver.support import expected_conditions as EC\n",
    "from selenium.common.exceptions import TimeoutException\n",
    "from selenium.webdriver.common.keys import Keys\n",
    "from selenium.webdriver.chrome.options import Options\n",
    "import time\n",
    "import calendar\n",
    "import pandas  as pd \n",
    "from tqdm import tqdm"
   ]
  },
  {
   "cell_type": "code",
   "execution_count": 2,
   "metadata": {},
   "outputs": [],
   "source": [
    "url = 'https://www.zomato.com/jakarta/kelapa-gading-restaurants'\n",
    "driver = webdriver.Chrome(executable_path='chromedriver.exe')\n",
    "\n",
    "chrome_options = Options()\n",
    "chrome_options.add_argument(\"--disable-popup-blocking\")\n",
    "driver.get(url)"
   ]
  },
  {
   "cell_type": "code",
   "execution_count": 3,
   "metadata": {},
   "outputs": [
    {
     "name": "stdout",
     "output_type": "stream",
     "text": [
      "0 4569 ok\n",
      "4569 12717 ok\n",
      "12717 20865 ok\n",
      "20865 45309 ok\n",
      "45309 50198 ok\n",
      "50198 55087 ok\n",
      "55087 58346 ok\n",
      "58346 58346 ok\n"
     ]
    }
   ],
   "source": [
    "# last_height = driver.execute_script(\"return document.body.scrollHeight\")\n",
    "last_height = 0\n",
    "\n",
    "while True:\n",
    "    # Scroll down to bottom\n",
    "#     driver.execute_script(\"window.scrollTo(0, document.body.scrollHeight);\")\n",
    "    driver.execute_script(\"window.scrollBy({}, {});\".format(last_height,last_height+100))\n",
    "    # Wait to load page\n",
    "    time.sleep(10)\n",
    "    # Calculate new scroll height and compare with last scroll height\n",
    "    new_height = driver.execute_script(\"return document.body.scrollHeight\")\n",
    "    print(last_height, new_height,'ok')\n",
    "    if new_height == last_height:\n",
    "        break\n",
    "    last_height = new_height"
   ]
  },
  {
   "cell_type": "code",
   "execution_count": 4,
   "metadata": {},
   "outputs": [
    {
     "data": {
      "text/plain": [
       "20865"
      ]
     },
     "execution_count": 4,
     "metadata": {},
     "output_type": "execute_result"
    }
   ],
   "source": [
    "last_height"
   ]
  },
  {
   "cell_type": "code",
   "execution_count": 4,
   "metadata": {},
   "outputs": [
    {
     "name": "stdout",
     "output_type": "stream",
     "text": [
      "2898\n"
     ]
    }
   ],
   "source": [
    "prev_height = driver.execute_script('return document.body.scrollHeight')\n",
    "print(prev_height)"
   ]
  },
  {
   "cell_type": "code",
   "execution_count": 5,
   "metadata": {},
   "outputs": [],
   "source": [
    "driver.execute_script('window.scrollTo(0, document.body.scrollHeight)')\n",
    "time.sleep(3)"
   ]
  },
  {
   "cell_type": "code",
   "execution_count": 6,
   "metadata": {},
   "outputs": [
    {
     "name": "stdout",
     "output_type": "stream",
     "text": [
      "30580\n"
     ]
    }
   ],
   "source": [
    "new_height = driver.execute_script('return document.body.scrollHeight')\n",
    "print(new_height)"
   ]
  },
  {
   "cell_type": "code",
   "execution_count": 4,
   "metadata": {},
   "outputs": [],
   "source": [
    "lnks=driver.find_elements_by_xpath(\"//a[@href]\")\n",
    "restaurant_link = [] \n",
    "\n",
    "for lnk in lnks:\n",
    "    if 'info' in lnk.get_attribute(\"href\"): \n",
    "        restaurant_link.append(lnk.get_attribute(\"href\"))\n",
    "    else : \n",
    "        pass \n",
    "restaurant_link = list(set(restaurant_link))"
   ]
  },
  {
   "cell_type": "code",
   "execution_count": 5,
   "metadata": {},
   "outputs": [
    {
     "data": {
      "text/plain": [
       "417"
      ]
     },
     "execution_count": 5,
     "metadata": {},
     "output_type": "execute_result"
    }
   ],
   "source": [
    "len(restaurant_link)"
   ]
  },
  {
   "cell_type": "code",
   "execution_count": null,
   "metadata": {},
   "outputs": [],
   "source": [
    "for item in html_soup.find_all('p', {'class': re.compile(r'cunMUz')}):\n",
    "    print (item.text)"
   ]
  },
  {
   "cell_type": "code",
   "execution_count": 2,
   "metadata": {},
   "outputs": [],
   "source": [
    "def extract_main_page(url):\n",
    "#     url = 'https://www.zomato.com/jakarta/kelapa-gading-restaurants'\n",
    "    driver = webdriver.Chrome(executable_path='chromedriver.exe')\n",
    "\n",
    "    chrome_options = Options()\n",
    "    chrome_options.add_argument(\"--disable-popup-blocking\")\n",
    "    driver.get(url)\n",
    "    \n",
    "    time.sleep(3)\n",
    "    # scroll until the end of the page\n",
    "    \n",
    "    # method 1 \n",
    "#     page = driver.find_element_by_tag_name(\"html\")\n",
    "#     page.send_keys(Keys.END)\n",
    "\n",
    "#     time.sleep(120)\n",
    "    \n",
    "    # method 2 \n",
    "    \n",
    "    last_height = 0\n",
    "    while True:\n",
    "        # Scroll down to bottom\n",
    "        driver.execute_script(\"window.scrollBy({}, {});\".format(last_height,last_height+100))\n",
    "        # Wait to load page\n",
    "        time.sleep(5)\n",
    "        # Calculate new scroll height and compare with last scroll height\n",
    "        new_height = driver.execute_script(\"return document.body.scrollHeight\")\n",
    "#         print(last_height, new_height,'ok')\n",
    "        if new_height == last_height:\n",
    "            break\n",
    "        last_height = new_height\n",
    "    \n",
    "    # get all restaurants url \n",
    "    lnks=driver.find_elements_by_xpath(\"//a[@href]\")\n",
    "    restaurant_link = [] \n",
    "\n",
    "    for lnk in lnks:\n",
    "        if 'info' in lnk.get_attribute(\"href\"): \n",
    "            restaurant_link.append(lnk.get_attribute(\"href\"))\n",
    "        else : \n",
    "            pass \n",
    "    restaurant_link = list(set(restaurant_link))\n",
    "    \n",
    "    driver.close()\n",
    "    return restaurant_link"
   ]
  },
  {
   "cell_type": "code",
   "execution_count": 3,
   "metadata": {},
   "outputs": [],
   "source": [
    "df = pd.read_csv('jak_area.txt')"
   ]
  },
  {
   "cell_type": "code",
   "execution_count": 4,
   "metadata": {},
   "outputs": [
    {
     "data": {
      "text/plain": [
       "'https://www.zomato.com/jakarta/kelapa-gading-restaurants'"
      ]
     },
     "execution_count": 4,
     "metadata": {},
     "output_type": "execute_result"
    }
   ],
   "source": [
    "df['url'].loc[0]"
   ]
  },
  {
   "cell_type": "code",
   "execution_count": 5,
   "metadata": {},
   "outputs": [
    {
     "name": "stderr",
     "output_type": "stream",
     "text": [
      "19it [21:07, 66.73s/it]\n"
     ]
    }
   ],
   "source": [
    "restaurant_list = []\n",
    "for item in tqdm(df.itertuples()):\n",
    "    tmp = {} \n",
    "    tmp['url'] = item.url\n",
    "    tmp['link'] = extract_main_page(item.url)\n",
    "    restaurant_list.append(tmp)\n",
    "    time.sleep(3)"
   ]
  },
  {
   "cell_type": "code",
   "execution_count": 5,
   "metadata": {},
   "outputs": [],
   "source": [
    "# restaurant_list[0]"
   ]
  },
  {
   "cell_type": "code",
   "execution_count": 6,
   "metadata": {},
   "outputs": [
    {
     "name": "stdout",
     "output_type": "stream",
     "text": [
      "dict_keys(['url', 'link']) 56\n",
      "dict_keys(['url', 'link']) 48\n",
      "dict_keys(['url', 'link']) 50\n",
      "dict_keys(['url', 'link']) 51\n",
      "dict_keys(['url', 'link']) 56\n",
      "dict_keys(['url', 'link']) 50\n",
      "dict_keys(['url', 'link']) 49\n",
      "dict_keys(['url', 'link']) 61\n",
      "dict_keys(['url', 'link']) 50\n",
      "dict_keys(['url', 'link']) 51\n",
      "dict_keys(['url', 'link']) 47\n",
      "dict_keys(['url', 'link']) 51\n",
      "dict_keys(['url', 'link']) 51\n",
      "dict_keys(['url', 'link']) 55\n",
      "dict_keys(['url', 'link']) 52\n",
      "dict_keys(['url', 'link']) 48\n",
      "dict_keys(['url', 'link']) 52\n",
      "dict_keys(['url', 'link']) 49\n",
      "dict_keys(['url', 'link']) 55\n"
     ]
    }
   ],
   "source": [
    "for item in restaurant_list:\n",
    "    print(item.keys(), len(list(item.values())[0]))"
   ]
  },
  {
   "cell_type": "code",
   "execution_count": 9,
   "metadata": {},
   "outputs": [],
   "source": [
    "# for key, value in restaurant_list.items():\n",
    "#     print (key, len(value))"
   ]
  },
  {
   "cell_type": "code",
   "execution_count": 6,
   "metadata": {},
   "outputs": [],
   "source": [
    "tes = pd.DataFrame(restaurant_list)\n",
    "tes['total'] = tes['link'].apply(len)"
   ]
  },
  {
   "cell_type": "code",
   "execution_count": 7,
   "metadata": {},
   "outputs": [
    {
     "data": {
      "text/plain": [
       "8545"
      ]
     },
     "execution_count": 7,
     "metadata": {},
     "output_type": "execute_result"
    }
   ],
   "source": [
    "tes['total'].sum()"
   ]
  },
  {
   "cell_type": "code",
   "execution_count": 14,
   "metadata": {},
   "outputs": [
    {
     "data": {
      "text/html": [
       "<div>\n",
       "<style scoped>\n",
       "    .dataframe tbody tr th:only-of-type {\n",
       "        vertical-align: middle;\n",
       "    }\n",
       "\n",
       "    .dataframe tbody tr th {\n",
       "        vertical-align: top;\n",
       "    }\n",
       "\n",
       "    .dataframe thead th {\n",
       "        text-align: right;\n",
       "    }\n",
       "</style>\n",
       "<table border=\"1\" class=\"dataframe\">\n",
       "  <thead>\n",
       "    <tr style=\"text-align: right;\">\n",
       "      <th></th>\n",
       "      <th>url</th>\n",
       "      <th>link</th>\n",
       "      <th>total</th>\n",
       "    </tr>\n",
       "  </thead>\n",
       "  <tbody>\n",
       "    <tr>\n",
       "      <th>0</th>\n",
       "      <td>https://www.zomato.com/jakarta/kelapa-gading-r...</td>\n",
       "      <td>[https://www.zomato.com/jakarta/kohicha-cafe-k...</td>\n",
       "      <td>501</td>\n",
       "    </tr>\n",
       "    <tr>\n",
       "      <th>1</th>\n",
       "      <td>https://www.zomato.com/jakarta/tebet-restaurants</td>\n",
       "      <td>[https://www.zomato.com/jakarta/rumah-makan-ot...</td>\n",
       "      <td>501</td>\n",
       "    </tr>\n",
       "    <tr>\n",
       "      <th>2</th>\n",
       "      <td>https://www.zomato.com/jakarta/thamrin-restaur...</td>\n",
       "      <td>[https://www.zomato.com/jakarta/asef-teppanyak...</td>\n",
       "      <td>501</td>\n",
       "    </tr>\n",
       "    <tr>\n",
       "      <th>3</th>\n",
       "      <td>https://www.zomato.com/jakarta/senopati-restau...</td>\n",
       "      <td>[https://www.zomato.com/jakarta/shabu-hachi-ga...</td>\n",
       "      <td>501</td>\n",
       "    </tr>\n",
       "    <tr>\n",
       "      <th>4</th>\n",
       "      <td>https://www.zomato.com/jakarta/tanjung-duren-r...</td>\n",
       "      <td>[https://www.zomato.com/jakarta/bakmi-ayam-asu...</td>\n",
       "      <td>501</td>\n",
       "    </tr>\n",
       "    <tr>\n",
       "      <th>5</th>\n",
       "      <td>https://www.zomato.com/jakarta/senayan-restaur...</td>\n",
       "      <td>[https://www.zomato.com/jakarta/bottega-ristor...</td>\n",
       "      <td>499</td>\n",
       "    </tr>\n",
       "    <tr>\n",
       "      <th>6</th>\n",
       "      <td>https://www.zomato.com/jakarta/kemang-restaurants</td>\n",
       "      <td>[https://www.zomato.com/jakarta/point-coffee-k...</td>\n",
       "      <td>501</td>\n",
       "    </tr>\n",
       "    <tr>\n",
       "      <th>7</th>\n",
       "      <td>https://www.zomato.com/jakarta/pantai-indah-ka...</td>\n",
       "      <td>[https://www.zomato.com/jakarta/sop-konro-kare...</td>\n",
       "      <td>501</td>\n",
       "    </tr>\n",
       "    <tr>\n",
       "      <th>8</th>\n",
       "      <td>https://www.zomato.com/jakarta/menteng-restaur...</td>\n",
       "      <td>[https://www.zomato.com/jakarta/dconsulate-lou...</td>\n",
       "      <td>501</td>\n",
       "    </tr>\n",
       "    <tr>\n",
       "      <th>9</th>\n",
       "      <td>https://www.zomato.com/jakarta/gandaria-restau...</td>\n",
       "      <td>[https://www.zomato.com/jakarta/sei-sapi-kana-...</td>\n",
       "      <td>501</td>\n",
       "    </tr>\n",
       "    <tr>\n",
       "      <th>10</th>\n",
       "      <td>https://www.zomato.com/jakarta/scbd-restaurants</td>\n",
       "      <td>[https://www.zomato.com/jakarta/country-style-...</td>\n",
       "      <td>21</td>\n",
       "    </tr>\n",
       "    <tr>\n",
       "      <th>11</th>\n",
       "      <td>https://www.zomato.com/jakarta/kuningan-restau...</td>\n",
       "      <td>[https://www.zomato.com/jakarta/wingstop-kunin...</td>\n",
       "      <td>501</td>\n",
       "    </tr>\n",
       "    <tr>\n",
       "      <th>12</th>\n",
       "      <td>https://www.zomato.com/jakarta/sudirman-restau...</td>\n",
       "      <td>[https://www.zomato.com/jakarta/bilik-kopi-sud...</td>\n",
       "      <td>21</td>\n",
       "    </tr>\n",
       "    <tr>\n",
       "      <th>13</th>\n",
       "      <td>https://www.zomato.com/jakarta/pondok-indah-re...</td>\n",
       "      <td>[https://www.zomato.com/jakarta/dapur-cek-nung...</td>\n",
       "      <td>501</td>\n",
       "    </tr>\n",
       "    <tr>\n",
       "      <th>14</th>\n",
       "      <td>https://www.zomato.com/jakarta/fatmawati-resta...</td>\n",
       "      <td>[https://www.zomato.com/jakarta/dotto-coffee-1...</td>\n",
       "      <td>501</td>\n",
       "    </tr>\n",
       "    <tr>\n",
       "      <th>15</th>\n",
       "      <td>https://www.zomato.com/jakarta/pluit-restaurants</td>\n",
       "      <td>[https://www.zomato.com/jakarta/mokka-coffee-c...</td>\n",
       "      <td>501</td>\n",
       "    </tr>\n",
       "    <tr>\n",
       "      <th>16</th>\n",
       "      <td>https://www.zomato.com/jakarta/setiabudi-resta...</td>\n",
       "      <td>[https://www.zomato.com/jakarta/dconsulate-lou...</td>\n",
       "      <td>501</td>\n",
       "    </tr>\n",
       "    <tr>\n",
       "      <th>17</th>\n",
       "      <td>https://www.zomato.com/jakarta/cikini-restaurants</td>\n",
       "      <td>[https://www.zomato.com/jakarta/dconsulate-lou...</td>\n",
       "      <td>489</td>\n",
       "    </tr>\n",
       "    <tr>\n",
       "      <th>18</th>\n",
       "      <td>https://www.zomato.com/jakarta/dharmawangsa-re...</td>\n",
       "      <td>[https://www.zomato.com/jakarta/point-coffee-k...</td>\n",
       "      <td>501</td>\n",
       "    </tr>\n",
       "  </tbody>\n",
       "</table>\n",
       "</div>"
      ],
      "text/plain": [
       "                                                  url  \\\n",
       "0   https://www.zomato.com/jakarta/kelapa-gading-r...   \n",
       "1    https://www.zomato.com/jakarta/tebet-restaurants   \n",
       "2   https://www.zomato.com/jakarta/thamrin-restaur...   \n",
       "3   https://www.zomato.com/jakarta/senopati-restau...   \n",
       "4   https://www.zomato.com/jakarta/tanjung-duren-r...   \n",
       "5   https://www.zomato.com/jakarta/senayan-restaur...   \n",
       "6   https://www.zomato.com/jakarta/kemang-restaurants   \n",
       "7   https://www.zomato.com/jakarta/pantai-indah-ka...   \n",
       "8   https://www.zomato.com/jakarta/menteng-restaur...   \n",
       "9   https://www.zomato.com/jakarta/gandaria-restau...   \n",
       "10    https://www.zomato.com/jakarta/scbd-restaurants   \n",
       "11  https://www.zomato.com/jakarta/kuningan-restau...   \n",
       "12  https://www.zomato.com/jakarta/sudirman-restau...   \n",
       "13  https://www.zomato.com/jakarta/pondok-indah-re...   \n",
       "14  https://www.zomato.com/jakarta/fatmawati-resta...   \n",
       "15   https://www.zomato.com/jakarta/pluit-restaurants   \n",
       "16  https://www.zomato.com/jakarta/setiabudi-resta...   \n",
       "17  https://www.zomato.com/jakarta/cikini-restaurants   \n",
       "18  https://www.zomato.com/jakarta/dharmawangsa-re...   \n",
       "\n",
       "                                                 link  total  \n",
       "0   [https://www.zomato.com/jakarta/kohicha-cafe-k...    501  \n",
       "1   [https://www.zomato.com/jakarta/rumah-makan-ot...    501  \n",
       "2   [https://www.zomato.com/jakarta/asef-teppanyak...    501  \n",
       "3   [https://www.zomato.com/jakarta/shabu-hachi-ga...    501  \n",
       "4   [https://www.zomato.com/jakarta/bakmi-ayam-asu...    501  \n",
       "5   [https://www.zomato.com/jakarta/bottega-ristor...    499  \n",
       "6   [https://www.zomato.com/jakarta/point-coffee-k...    501  \n",
       "7   [https://www.zomato.com/jakarta/sop-konro-kare...    501  \n",
       "8   [https://www.zomato.com/jakarta/dconsulate-lou...    501  \n",
       "9   [https://www.zomato.com/jakarta/sei-sapi-kana-...    501  \n",
       "10  [https://www.zomato.com/jakarta/country-style-...     21  \n",
       "11  [https://www.zomato.com/jakarta/wingstop-kunin...    501  \n",
       "12  [https://www.zomato.com/jakarta/bilik-kopi-sud...     21  \n",
       "13  [https://www.zomato.com/jakarta/dapur-cek-nung...    501  \n",
       "14  [https://www.zomato.com/jakarta/dotto-coffee-1...    501  \n",
       "15  [https://www.zomato.com/jakarta/mokka-coffee-c...    501  \n",
       "16  [https://www.zomato.com/jakarta/dconsulate-lou...    501  \n",
       "17  [https://www.zomato.com/jakarta/dconsulate-lou...    489  \n",
       "18  [https://www.zomato.com/jakarta/point-coffee-k...    501  "
      ]
     },
     "execution_count": 14,
     "metadata": {},
     "output_type": "execute_result"
    }
   ],
   "source": [
    "tes"
   ]
  },
  {
   "cell_type": "code",
   "execution_count": 14,
   "metadata": {},
   "outputs": [
    {
     "data": {
      "text/plain": [
       "'https://www.zomato.com/jakarta/thamrin-restaurants'"
      ]
     },
     "execution_count": 14,
     "metadata": {},
     "output_type": "execute_result"
    }
   ],
   "source": [
    "tes.iloc[2]['url']"
   ]
  },
  {
   "cell_type": "code",
   "execution_count": 12,
   "metadata": {},
   "outputs": [],
   "source": [
    "tes.to_pickle('restaurant_raw2.pickle')"
   ]
  },
  {
   "cell_type": "code",
   "execution_count": null,
   "metadata": {},
   "outputs": [],
   "source": []
  }
 ],
 "metadata": {
  "kernelspec": {
   "display_name": "Python 3",
   "language": "python",
   "name": "python3"
  },
  "language_info": {
   "codemirror_mode": {
    "name": "ipython",
    "version": 3
   },
   "file_extension": ".py",
   "mimetype": "text/x-python",
   "name": "python",
   "nbconvert_exporter": "python",
   "pygments_lexer": "ipython3",
   "version": "3.6.9"
  }
 },
 "nbformat": 4,
 "nbformat_minor": 4
}
