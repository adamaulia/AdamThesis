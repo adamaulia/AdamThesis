{
 "cells": [
  {
   "cell_type": "code",
   "execution_count": 1,
   "id": "d5905f9c-fbe5-42c0-8b2d-b05d5348a333",
   "metadata": {},
   "outputs": [],
   "source": [
    "import pandas as pd "
   ]
  },
  {
   "cell_type": "code",
   "execution_count": 47,
   "id": "688b1821-ab8d-4d21-951d-ec57278d4e01",
   "metadata": {},
   "outputs": [],
   "source": [
    "inputfile = 'data/3_clean_zomato_gof_ori_1000.csv'\n",
    "outputfile = 'data/3_clean_zomato_gof_ori_1000_sampling.csv'"
   ]
  },
  {
   "cell_type": "code",
   "execution_count": 48,
   "id": "858bf9be-2288-411d-af5c-534650358291",
   "metadata": {},
   "outputs": [],
   "source": [
    "df = pd.read_csv(inputfile)\n",
    "df = df[df['rating']>0]"
   ]
  },
  {
   "cell_type": "code",
   "execution_count": 49,
   "id": "fafb52cb-4a61-464a-bc36-64fd860ec75b",
   "metadata": {},
   "outputs": [
    {
     "data": {
      "text/html": [
       "<div>\n",
       "<style scoped>\n",
       "    .dataframe tbody tr th:only-of-type {\n",
       "        vertical-align: middle;\n",
       "    }\n",
       "\n",
       "    .dataframe tbody tr th {\n",
       "        vertical-align: top;\n",
       "    }\n",
       "\n",
       "    .dataframe thead th {\n",
       "        text-align: right;\n",
       "    }\n",
       "</style>\n",
       "<table border=\"1\" class=\"dataframe\">\n",
       "  <thead>\n",
       "    <tr style=\"text-align: right;\">\n",
       "      <th></th>\n",
       "      <th>index</th>\n",
       "      <th>url</th>\n",
       "      <th>rest_price_idr</th>\n",
       "      <th>review</th>\n",
       "      <th>lat</th>\n",
       "      <th>long</th>\n",
       "      <th>is_chain</th>\n",
       "      <th>rating</th>\n",
       "      <th>alcohol</th>\n",
       "      <th>delivery</th>\n",
       "      <th>...</th>\n",
       "      <th>d_1000_mosque</th>\n",
       "      <th>d_1000_park</th>\n",
       "      <th>d_1000_restaurant</th>\n",
       "      <th>d_1000_school</th>\n",
       "      <th>d_1000_store</th>\n",
       "      <th>d_1000_supermarket</th>\n",
       "      <th>d_1000_train_station</th>\n",
       "      <th>en_1000</th>\n",
       "      <th>n_compt_1000</th>\n",
       "      <th>avg_n_rest</th>\n",
       "    </tr>\n",
       "  </thead>\n",
       "  <tbody>\n",
       "    <tr>\n",
       "      <th>0</th>\n",
       "      <td>0</td>\n",
       "      <td>https://www.zomato.com/jakarta/wakacao-1-kelap...</td>\n",
       "      <td>150000</td>\n",
       "      <td>56.0</td>\n",
       "      <td>-6.167531</td>\n",
       "      <td>106.901752</td>\n",
       "      <td>1</td>\n",
       "      <td>3.8</td>\n",
       "      <td>0.0</td>\n",
       "      <td>0.0</td>\n",
       "      <td>...</td>\n",
       "      <td>8.0</td>\n",
       "      <td>17.0</td>\n",
       "      <td>75.0</td>\n",
       "      <td>35.0</td>\n",
       "      <td>56.0</td>\n",
       "      <td>18.0</td>\n",
       "      <td>0.0</td>\n",
       "      <td>2.434447</td>\n",
       "      <td>0.173913</td>\n",
       "      <td>3.643750</td>\n",
       "    </tr>\n",
       "    <tr>\n",
       "      <th>1</th>\n",
       "      <td>1</td>\n",
       "      <td>https://www.zomato.com/jakarta/the-coffee-bean...</td>\n",
       "      <td>110000</td>\n",
       "      <td>61.0</td>\n",
       "      <td>-6.157341</td>\n",
       "      <td>106.907888</td>\n",
       "      <td>1</td>\n",
       "      <td>3.0</td>\n",
       "      <td>0.0</td>\n",
       "      <td>0.0</td>\n",
       "      <td>...</td>\n",
       "      <td>6.0</td>\n",
       "      <td>16.0</td>\n",
       "      <td>110.0</td>\n",
       "      <td>41.0</td>\n",
       "      <td>77.0</td>\n",
       "      <td>33.0</td>\n",
       "      <td>0.0</td>\n",
       "      <td>2.218667</td>\n",
       "      <td>0.129944</td>\n",
       "      <td>3.713043</td>\n",
       "    </tr>\n",
       "    <tr>\n",
       "      <th>2</th>\n",
       "      <td>2</td>\n",
       "      <td>https://www.zomato.com/jakarta/angke-kelapa-ga...</td>\n",
       "      <td>450000</td>\n",
       "      <td>363.0</td>\n",
       "      <td>-6.152638</td>\n",
       "      <td>106.892576</td>\n",
       "      <td>0</td>\n",
       "      <td>4.5</td>\n",
       "      <td>0.0</td>\n",
       "      <td>0.0</td>\n",
       "      <td>...</td>\n",
       "      <td>17.0</td>\n",
       "      <td>2.0</td>\n",
       "      <td>48.0</td>\n",
       "      <td>42.0</td>\n",
       "      <td>40.0</td>\n",
       "      <td>22.0</td>\n",
       "      <td>0.0</td>\n",
       "      <td>2.388436</td>\n",
       "      <td>0.152941</td>\n",
       "      <td>3.676923</td>\n",
       "    </tr>\n",
       "    <tr>\n",
       "      <th>3</th>\n",
       "      <td>3</td>\n",
       "      <td>https://www.zomato.com/jakarta/ikan-nila-pak-u...</td>\n",
       "      <td>100000</td>\n",
       "      <td>113.0</td>\n",
       "      <td>-6.163588</td>\n",
       "      <td>106.903689</td>\n",
       "      <td>0</td>\n",
       "      <td>3.9</td>\n",
       "      <td>0.0</td>\n",
       "      <td>1.0</td>\n",
       "      <td>...</td>\n",
       "      <td>8.0</td>\n",
       "      <td>16.0</td>\n",
       "      <td>76.0</td>\n",
       "      <td>49.0</td>\n",
       "      <td>58.0</td>\n",
       "      <td>26.0</td>\n",
       "      <td>0.0</td>\n",
       "      <td>2.323356</td>\n",
       "      <td>0.049505</td>\n",
       "      <td>3.700000</td>\n",
       "    </tr>\n",
       "    <tr>\n",
       "      <th>4</th>\n",
       "      <td>4</td>\n",
       "      <td>https://www.zomato.com/jakarta/hong-kong-sheng...</td>\n",
       "      <td>220000</td>\n",
       "      <td>257.0</td>\n",
       "      <td>-6.157255</td>\n",
       "      <td>106.908430</td>\n",
       "      <td>1</td>\n",
       "      <td>4.1</td>\n",
       "      <td>0.0</td>\n",
       "      <td>0.0</td>\n",
       "      <td>...</td>\n",
       "      <td>2.0</td>\n",
       "      <td>16.0</td>\n",
       "      <td>37.0</td>\n",
       "      <td>35.0</td>\n",
       "      <td>46.0</td>\n",
       "      <td>25.0</td>\n",
       "      <td>0.0</td>\n",
       "      <td>2.283379</td>\n",
       "      <td>0.216867</td>\n",
       "      <td>3.755556</td>\n",
       "    </tr>\n",
       "  </tbody>\n",
       "</table>\n",
       "<p>5 rows × 68 columns</p>\n",
       "</div>"
      ],
      "text/plain": [
       "   index                                                url  rest_price_idr  \\\n",
       "0      0  https://www.zomato.com/jakarta/wakacao-1-kelap...          150000   \n",
       "1      1  https://www.zomato.com/jakarta/the-coffee-bean...          110000   \n",
       "2      2  https://www.zomato.com/jakarta/angke-kelapa-ga...          450000   \n",
       "3      3  https://www.zomato.com/jakarta/ikan-nila-pak-u...          100000   \n",
       "4      4  https://www.zomato.com/jakarta/hong-kong-sheng...          220000   \n",
       "\n",
       "   review       lat        long  is_chain  rating  alcohol  delivery  ...  \\\n",
       "0    56.0 -6.167531  106.901752         1     3.8      0.0       0.0  ...   \n",
       "1    61.0 -6.157341  106.907888         1     3.0      0.0       0.0  ...   \n",
       "2   363.0 -6.152638  106.892576         0     4.5      0.0       0.0  ...   \n",
       "3   113.0 -6.163588  106.903689         0     3.9      0.0       1.0  ...   \n",
       "4   257.0 -6.157255  106.908430         1     4.1      0.0       0.0  ...   \n",
       "\n",
       "   d_1000_mosque  d_1000_park  d_1000_restaurant  d_1000_school  d_1000_store  \\\n",
       "0            8.0         17.0               75.0           35.0          56.0   \n",
       "1            6.0         16.0              110.0           41.0          77.0   \n",
       "2           17.0          2.0               48.0           42.0          40.0   \n",
       "3            8.0         16.0               76.0           49.0          58.0   \n",
       "4            2.0         16.0               37.0           35.0          46.0   \n",
       "\n",
       "   d_1000_supermarket  d_1000_train_station   en_1000  n_compt_1000  \\\n",
       "0                18.0                   0.0  2.434447      0.173913   \n",
       "1                33.0                   0.0  2.218667      0.129944   \n",
       "2                22.0                   0.0  2.388436      0.152941   \n",
       "3                26.0                   0.0  2.323356      0.049505   \n",
       "4                25.0                   0.0  2.283379      0.216867   \n",
       "\n",
       "   avg_n_rest  \n",
       "0    3.643750  \n",
       "1    3.713043  \n",
       "2    3.676923  \n",
       "3    3.700000  \n",
       "4    3.755556  \n",
       "\n",
       "[5 rows x 68 columns]"
      ]
     },
     "execution_count": 49,
     "metadata": {},
     "output_type": "execute_result"
    }
   ],
   "source": [
    "df.head()"
   ]
  },
  {
   "cell_type": "code",
   "execution_count": 50,
   "id": "11506f4f-b555-420e-b3a9-817a953083d9",
   "metadata": {},
   "outputs": [
    {
     "data": {
      "text/plain": [
       "<AxesSubplot:ylabel='Frequency'>"
      ]
     },
     "execution_count": 50,
     "metadata": {},
     "output_type": "execute_result"
    },
    {
     "data": {
      "image/png": "[encoded data removed]",
      "text/plain": [
       "<Figure size 432x288 with 1 Axes>"
      ]
     },
     "metadata": {
      "needs_background": "light"
     },
     "output_type": "display_data"
    }
   ],
   "source": [
    "df['rating'].plot(kind='hist')"
   ]
  },
  {
   "cell_type": "code",
   "execution_count": 51,
   "id": "ee3f69eb-c705-4c45-97d7-54436957ac64",
   "metadata": {},
   "outputs": [],
   "source": [
    "df_lower_1 = df[df['rating']<2.7]\n",
    "df_lower_2 = df[(df['rating'] >= 2.7) & (df['rating'] < 3.3) ]\n",
    "df_midd = df[ (df['rating'] >= 3.3) & (df['rating'] < 4.0) ] \n",
    "df_upp1 = df[ (df['rating'] >= 4.0) & (df['rating'] < 4.5) ] \n",
    "df_upp2 = df[ df['rating'] >= 4.5] "
   ]
  },
  {
   "cell_type": "code",
   "execution_count": 52,
   "id": "267c487e-0437-43b0-afe3-b490836e1ba1",
   "metadata": {},
   "outputs": [
    {
     "data": {
      "text/plain": [
       "((199, 68), (1185, 68), (2921, 68), (1420, 68), (188, 68))"
      ]
     },
     "execution_count": 52,
     "metadata": {},
     "output_type": "execute_result"
    }
   ],
   "source": [
    "df_lower_1.shape , df_lower_2.shape,  df_midd.shape, df_upp1.shape, df_upp2.shape "
   ]
  },
  {
   "cell_type": "code",
   "execution_count": 53,
   "id": "7f4eac2e-50da-4678-84cd-ccfa32b38cd5",
   "metadata": {},
   "outputs": [],
   "source": [
    "def sampling (df_input, sampling_row, iteration):\n",
    "    result = []\n",
    "    for i in range(iteration):\n",
    "          result.append(df_input.sample(sampling_row))\n",
    "    df_result = pd.concat(result)\n",
    "    return df_result "
   ]
  },
  {
   "cell_type": "code",
   "execution_count": 54,
   "id": "61c1f78b-93c9-4fa2-a314-3c146cfc46c2",
   "metadata": {},
   "outputs": [],
   "source": [
    "# lower 1 \n",
    "df_lower1 = sampling(df_lower_1, 2, 900)"
   ]
  },
  {
   "cell_type": "code",
   "execution_count": 55,
   "id": "61891b59-4a87-4ae3-a1ed-b1ec35ac8942",
   "metadata": {},
   "outputs": [],
   "source": [
    "# lower 2\n",
    "df_lower2 = sampling(df_lower_2, 2, 800)"
   ]
  },
  {
   "cell_type": "code",
   "execution_count": 56,
   "id": "988700e0-3431-41d6-9e4c-9e87a4065347",
   "metadata": {},
   "outputs": [],
   "source": [
    "# upper 1 \n",
    "df_upper1 = sampling(df_upp1, 2, 700)"
   ]
  },
  {
   "cell_type": "code",
   "execution_count": 57,
   "id": "675fe5e3-8fe9-46ff-8a49-243d6b181974",
   "metadata": {},
   "outputs": [],
   "source": [
    "# upper 2 \n",
    "df_upper2 = sampling(df_upp2, 2, 700)"
   ]
  },
  {
   "cell_type": "code",
   "execution_count": 58,
   "id": "a7d02b2c-1e06-4272-a413-d6d81f8f51b8",
   "metadata": {},
   "outputs": [],
   "source": [
    "df_result = pd.concat([df_lower1,df_lower2,df_midd,df_upper1,df_upper2])"
   ]
  },
  {
   "cell_type": "code",
   "execution_count": 59,
   "id": "84593629-5971-4bfc-a1d7-649d73aaebf5",
   "metadata": {},
   "outputs": [
    {
     "data": {
      "text/plain": [
       "(9121, 68)"
      ]
     },
     "execution_count": 59,
     "metadata": {},
     "output_type": "execute_result"
    }
   ],
   "source": [
    "df_result.shape"
   ]
  },
  {
   "cell_type": "code",
   "execution_count": 60,
   "id": "3590954c-1871-4436-b50d-8e8a9123d30c",
   "metadata": {},
   "outputs": [
    {
     "data": {
      "text/plain": [
       "<AxesSubplot:ylabel='Frequency'>"
      ]
     },
     "execution_count": 60,
     "metadata": {},
     "output_type": "execute_result"
    },
    {
     "data": {
      "image/png": "[encoded data removed]",
      "text/plain": [
       "<Figure size 432x288 with 1 Axes>"
      ]
     },
     "metadata": {
      "needs_background": "light"
     },
     "output_type": "display_data"
    }
   ],
   "source": [
    "df_result['rating'].plot(kind='hist')"
   ]
  },
  {
   "cell_type": "code",
   "execution_count": 61,
   "id": "c37563d4-61e7-4ee9-99ef-c209beba4cab",
   "metadata": {},
   "outputs": [],
   "source": [
    "df.to_csv(outputfile)"
   ]
  },
  {
   "cell_type": "code",
   "execution_count": null,
   "id": "acdde72f-bf31-46da-9c13-650a274ba61b",
   "metadata": {},
   "outputs": [],
   "source": []
  }
 ],
 "metadata": {
  "kernelspec": {
   "display_name": "Python 3.8.8 ('base')",
   "language": "python",
   "name": "python3"
  },
  "language_info": {
   "codemirror_mode": {
    "name": "ipython",
    "version": 3
   },
   "file_extension": ".py",
   "mimetype": "text/x-python",
   "name": "python",
   "nbconvert_exporter": "python",
   "pygments_lexer": "ipython3",
   "version": "3.8.8"
  },
  "vscode": {
   "interpreter": {
    "hash": "9980599ad9850bdffd342280c0ae1db934122879fcb1d3c5fb59c8802b20124c"
   }
  }
 },
 "nbformat": 4,
 "nbformat_minor": 5
}
