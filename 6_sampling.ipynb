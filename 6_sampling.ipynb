{
 "cells": [
  {
   "cell_type": "code",
   "execution_count": 1,
   "id": "d5905f9c-fbe5-42c0-8b2d-b05d5348a333",
   "metadata": {},
   "outputs": [],
   "source": [
    "import pandas as pd "
   ]
  },
  {
   "cell_type": "code",
   "execution_count": 97,
   "id": "688b1821-ab8d-4d21-951d-ec57278d4e01",
   "metadata": {},
   "outputs": [],
   "source": [
    "inputfile = 'data/3_clean_zomato_feat.csv'\n",
    "outputfile = 'data/3_clean_zomato_sampling.csv'"
   ]
  },
  {
   "cell_type": "code",
   "execution_count": 98,
   "id": "858bf9be-2288-411d-af5c-534650358291",
   "metadata": {},
   "outputs": [],
   "source": [
    "df = pd.read_csv(inputfile)\n",
    "df = df[df['rating']>0]"
   ]
  },
  {
   "cell_type": "code",
   "execution_count": 99,
   "id": "fafb52cb-4a61-464a-bc36-64fd860ec75b",
   "metadata": {},
   "outputs": [
    {
     "data": {
      "text/html": [
       "<div>\n",
       "<style scoped>\n",
       "    .dataframe tbody tr th:only-of-type {\n",
       "        vertical-align: middle;\n",
       "    }\n",
       "\n",
       "    .dataframe tbody tr th {\n",
       "        vertical-align: top;\n",
       "    }\n",
       "\n",
       "    .dataframe thead th {\n",
       "        text-align: right;\n",
       "    }\n",
       "</style>\n",
       "<table border=\"1\" class=\"dataframe\">\n",
       "  <thead>\n",
       "    <tr style=\"text-align: right;\">\n",
       "      <th></th>\n",
       "      <th>index</th>\n",
       "      <th>url</th>\n",
       "      <th>rest_price_idr</th>\n",
       "      <th>review</th>\n",
       "      <th>lat</th>\n",
       "      <th>long</th>\n",
       "      <th>is_chain</th>\n",
       "      <th>rating</th>\n",
       "      <th>new_code_res_type</th>\n",
       "      <th>rank_res_type</th>\n",
       "      <th>new_code_fac</th>\n",
       "      <th>rank_fac</th>\n",
       "    </tr>\n",
       "  </thead>\n",
       "  <tbody>\n",
       "    <tr>\n",
       "      <th>0</th>\n",
       "      <td>0</td>\n",
       "      <td>https://www.zomato.com/jakarta/wakacao-1-kelap...</td>\n",
       "      <td>150000</td>\n",
       "      <td>56.0</td>\n",
       "      <td>-6.167531</td>\n",
       "      <td>106.901752</td>\n",
       "      <td>0</td>\n",
       "      <td>3.8</td>\n",
       "      <td>4</td>\n",
       "      <td>0</td>\n",
       "      <td>4</td>\n",
       "      <td>0</td>\n",
       "    </tr>\n",
       "    <tr>\n",
       "      <th>1</th>\n",
       "      <td>1</td>\n",
       "      <td>https://www.zomato.com/jakarta/the-coffee-bean...</td>\n",
       "      <td>110000</td>\n",
       "      <td>61.0</td>\n",
       "      <td>-6.157341</td>\n",
       "      <td>106.907888</td>\n",
       "      <td>1</td>\n",
       "      <td>3.0</td>\n",
       "      <td>0</td>\n",
       "      <td>91</td>\n",
       "      <td>0</td>\n",
       "      <td>883</td>\n",
       "    </tr>\n",
       "    <tr>\n",
       "      <th>2</th>\n",
       "      <td>2</td>\n",
       "      <td>https://www.zomato.com/jakarta/angke-kelapa-ga...</td>\n",
       "      <td>450000</td>\n",
       "      <td>363.0</td>\n",
       "      <td>-6.152638</td>\n",
       "      <td>106.892576</td>\n",
       "      <td>0</td>\n",
       "      <td>4.5</td>\n",
       "      <td>2</td>\n",
       "      <td>2</td>\n",
       "      <td>0</td>\n",
       "      <td>625</td>\n",
       "    </tr>\n",
       "    <tr>\n",
       "      <th>3</th>\n",
       "      <td>3</td>\n",
       "      <td>https://www.zomato.com/jakarta/ikan-nila-pak-u...</td>\n",
       "      <td>100000</td>\n",
       "      <td>113.0</td>\n",
       "      <td>-6.163588</td>\n",
       "      <td>106.903689</td>\n",
       "      <td>0</td>\n",
       "      <td>3.9</td>\n",
       "      <td>0</td>\n",
       "      <td>20</td>\n",
       "      <td>0</td>\n",
       "      <td>4</td>\n",
       "    </tr>\n",
       "    <tr>\n",
       "      <th>4</th>\n",
       "      <td>4</td>\n",
       "      <td>https://www.zomato.com/jakarta/hong-kong-sheng...</td>\n",
       "      <td>220000</td>\n",
       "      <td>257.0</td>\n",
       "      <td>-6.157255</td>\n",
       "      <td>106.908430</td>\n",
       "      <td>1</td>\n",
       "      <td>4.1</td>\n",
       "      <td>0</td>\n",
       "      <td>261</td>\n",
       "      <td>0</td>\n",
       "      <td>86</td>\n",
       "    </tr>\n",
       "  </tbody>\n",
       "</table>\n",
       "</div>"
      ],
      "text/plain": [
       "   index                                                url  rest_price_idr  \\\n",
       "0      0  https://www.zomato.com/jakarta/wakacao-1-kelap...          150000   \n",
       "1      1  https://www.zomato.com/jakarta/the-coffee-bean...          110000   \n",
       "2      2  https://www.zomato.com/jakarta/angke-kelapa-ga...          450000   \n",
       "3      3  https://www.zomato.com/jakarta/ikan-nila-pak-u...          100000   \n",
       "4      4  https://www.zomato.com/jakarta/hong-kong-sheng...          220000   \n",
       "\n",
       "   review       lat        long  is_chain  rating  new_code_res_type  \\\n",
       "0    56.0 -6.167531  106.901752         0     3.8                  4   \n",
       "1    61.0 -6.157341  106.907888         1     3.0                  0   \n",
       "2   363.0 -6.152638  106.892576         0     4.5                  2   \n",
       "3   113.0 -6.163588  106.903689         0     3.9                  0   \n",
       "4   257.0 -6.157255  106.908430         1     4.1                  0   \n",
       "\n",
       "   rank_res_type  new_code_fac  rank_fac  \n",
       "0              0             4         0  \n",
       "1             91             0       883  \n",
       "2              2             0       625  \n",
       "3             20             0         4  \n",
       "4            261             0        86  "
      ]
     },
     "execution_count": 99,
     "metadata": {},
     "output_type": "execute_result"
    }
   ],
   "source": [
    "df.head()"
   ]
  },
  {
   "cell_type": "code",
   "execution_count": 100,
   "id": "11506f4f-b555-420e-b3a9-817a953083d9",
   "metadata": {},
   "outputs": [
    {
     "data": {
      "text/plain": [
       "<AxesSubplot:ylabel='Frequency'>"
      ]
     },
     "execution_count": 100,
     "metadata": {},
     "output_type": "execute_result"
    },
    {
     "data": {
      "image/png": "[encoded data removed]",
      "text/plain": [
       "<Figure size 432x288 with 1 Axes>"
      ]
     },
     "metadata": {
      "needs_background": "light"
     },
     "output_type": "display_data"
    }
   ],
   "source": [
    "df['rating'].plot(kind='hist')"
   ]
  },
  {
   "cell_type": "code",
   "execution_count": 101,
   "id": "ee3f69eb-c705-4c45-97d7-54436957ac64",
   "metadata": {},
   "outputs": [],
   "source": [
    "df_lower_1 = df[df['rating']<2.7]\n",
    "df_lower_2 = df[(df['rating'] >= 2.7) & (df['rating'] < 3.3) ]\n",
    "df_midd = df[ (df['rating'] >= 3.3) & (df['rating'] < 4.0) ] \n",
    "df_upp1 = df[ (df['rating'] >= 4.0) & (df['rating'] < 4.5) ] \n",
    "df_upp2 = df[ df['rating'] >= 4.5] "
   ]
  },
  {
   "cell_type": "code",
   "execution_count": 102,
   "id": "267c487e-0437-43b0-afe3-b490836e1ba1",
   "metadata": {},
   "outputs": [
    {
     "data": {
      "text/plain": [
       "((199, 12), (1185, 12), (2920, 12), (1365, 12), (133, 12))"
      ]
     },
     "execution_count": 102,
     "metadata": {},
     "output_type": "execute_result"
    }
   ],
   "source": [
    "df_lower_1.shape , df_lower_2.shape,  df_midd.shape, df_upp1.shape, df_upp2.shape "
   ]
  },
  {
   "cell_type": "code",
   "execution_count": 103,
   "id": "7f4eac2e-50da-4678-84cd-ccfa32b38cd5",
   "metadata": {},
   "outputs": [],
   "source": [
    "def sampling (df_input, sampling_row, iteration):\n",
    "    result = []\n",
    "    for i in range(iteration):\n",
    "          result.append(df_input.sample(sampling_row))\n",
    "    df_result = pd.concat(result)\n",
    "    return df_result "
   ]
  },
  {
   "cell_type": "code",
   "execution_count": 104,
   "id": "61c1f78b-93c9-4fa2-a314-3c146cfc46c2",
   "metadata": {},
   "outputs": [],
   "source": [
    "# lower 1 \n",
    "df_lower1 = sampling(df_lower_1, 2, 900)"
   ]
  },
  {
   "cell_type": "code",
   "execution_count": 105,
   "id": "61891b59-4a87-4ae3-a1ed-b1ec35ac8942",
   "metadata": {},
   "outputs": [],
   "source": [
    "# lower 2\n",
    "df_lower2 = sampling(df_lower_2, 2, 800)"
   ]
  },
  {
   "cell_type": "code",
   "execution_count": 106,
   "id": "988700e0-3431-41d6-9e4c-9e87a4065347",
   "metadata": {},
   "outputs": [],
   "source": [
    "# upper 1 \n",
    "df_upper1 = sampling(df_upp1, 2, 700)"
   ]
  },
  {
   "cell_type": "code",
   "execution_count": 107,
   "id": "675fe5e3-8fe9-46ff-8a49-243d6b181974",
   "metadata": {},
   "outputs": [],
   "source": [
    "# upper 2 \n",
    "df_upper2 = sampling(df_upp2, 2, 700)"
   ]
  },
  {
   "cell_type": "code",
   "execution_count": 108,
   "id": "a7d02b2c-1e06-4272-a413-d6d81f8f51b8",
   "metadata": {},
   "outputs": [],
   "source": [
    "df_result = pd.concat([df_lower1,df_lower2,df_midd,df_upper1,df_upper2])"
   ]
  },
  {
   "cell_type": "code",
   "execution_count": 109,
   "id": "84593629-5971-4bfc-a1d7-649d73aaebf5",
   "metadata": {},
   "outputs": [
    {
     "data": {
      "text/plain": [
       "(9120, 12)"
      ]
     },
     "execution_count": 109,
     "metadata": {},
     "output_type": "execute_result"
    }
   ],
   "source": [
    "df_result.shape"
   ]
  },
  {
   "cell_type": "code",
   "execution_count": 110,
   "id": "3590954c-1871-4436-b50d-8e8a9123d30c",
   "metadata": {},
   "outputs": [
    {
     "data": {
      "text/plain": [
       "<AxesSubplot:ylabel='Frequency'>"
      ]
     },
     "execution_count": 110,
     "metadata": {},
     "output_type": "execute_result"
    },
    {
     "data": {
      "image/png": "[encoded data removed]",
      "text/plain": [
       "<Figure size 432x288 with 1 Axes>"
      ]
     },
     "metadata": {
      "needs_background": "light"
     },
     "output_type": "display_data"
    }
   ],
   "source": [
    "df_result['rating'].plot(kind='hist')"
   ]
  },
  {
   "cell_type": "code",
   "execution_count": 111,
   "id": "c37563d4-61e7-4ee9-99ef-c209beba4cab",
   "metadata": {},
   "outputs": [],
   "source": [
    "df.to_csv(outputfile)"
   ]
  },
  {
   "cell_type": "code",
   "execution_count": null,
   "id": "acdde72f-bf31-46da-9c13-650a274ba61b",
   "metadata": {},
   "outputs": [],
   "source": []
  }
 ],
 "metadata": {
  "kernelspec": {
   "display_name": "Python 3 (ipykernel)",
   "language": "python",
   "name": "python3"
  },
  "language_info": {
   "codemirror_mode": {
    "name": "ipython",
    "version": 3
   },
   "file_extension": ".py",
   "mimetype": "text/x-python",
   "name": "python",
   "nbconvert_exporter": "python",
   "pygments_lexer": "ipython3",
   "version": "3.9.7"
  }
 },
 "nbformat": 4,
 "nbformat_minor": 5
}
