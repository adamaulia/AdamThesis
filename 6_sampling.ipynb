{
 "cells": [
  {
   "cell_type": "code",
   "execution_count": 1,
   "id": "d5905f9c-fbe5-42c0-8b2d-b05d5348a333",
   "metadata": {},
   "outputs": [],
   "source": [
    "import pandas as pd "
   ]
  },
  {
   "cell_type": "code",
   "execution_count": 39,
   "id": "688b1821-ab8d-4d21-951d-ec57278d4e01",
   "metadata": {},
   "outputs": [],
   "source": [
    "inputfile = 'data/3_clean_zomato_feat_ori_train.csv'\n",
    "outputfile = 'data/3_clean_zomato_feat_ori_sampling_train.csv'"
   ]
  },
  {
   "cell_type": "code",
   "execution_count": 40,
   "id": "858bf9be-2288-411d-af5c-534650358291",
   "metadata": {},
   "outputs": [],
   "source": [
    "df = pd.read_csv(inputfile)\n",
    "df = df[df['rating']>0]"
   ]
  },
  {
   "cell_type": "code",
   "execution_count": 41,
   "id": "fafb52cb-4a61-464a-bc36-64fd860ec75b",
   "metadata": {},
   "outputs": [
    {
     "data": {
      "text/html": [
       "<div>\n",
       "<style scoped>\n",
       "    .dataframe tbody tr th:only-of-type {\n",
       "        vertical-align: middle;\n",
       "    }\n",
       "\n",
       "    .dataframe tbody tr th {\n",
       "        vertical-align: top;\n",
       "    }\n",
       "\n",
       "    .dataframe thead th {\n",
       "        text-align: right;\n",
       "    }\n",
       "</style>\n",
       "<table border=\"1\" class=\"dataframe\">\n",
       "  <thead>\n",
       "    <tr style=\"text-align: right;\">\n",
       "      <th></th>\n",
       "      <th>index</th>\n",
       "      <th>url</th>\n",
       "      <th>rest_price_idr</th>\n",
       "      <th>review</th>\n",
       "      <th>lat</th>\n",
       "      <th>long</th>\n",
       "      <th>is_chain</th>\n",
       "      <th>alcohol</th>\n",
       "      <th>delivery</th>\n",
       "      <th>entertainment</th>\n",
       "      <th>...</th>\n",
       "      <th>mid_east</th>\n",
       "      <th>noodle</th>\n",
       "      <th>others_type</th>\n",
       "      <th>seafood</th>\n",
       "      <th>snacks</th>\n",
       "      <th>special_food</th>\n",
       "      <th>street_food</th>\n",
       "      <th>tea</th>\n",
       "      <th>western</th>\n",
       "      <th>rating</th>\n",
       "    </tr>\n",
       "  </thead>\n",
       "  <tbody>\n",
       "    <tr>\n",
       "      <th>0</th>\n",
       "      <td>5122</td>\n",
       "      <td>https://www.zomato.com/jakarta/may-star-penjar...</td>\n",
       "      <td>300000</td>\n",
       "      <td>144.0</td>\n",
       "      <td>-6.127206</td>\n",
       "      <td>106.791299</td>\n",
       "      <td>1</td>\n",
       "      <td>1.0</td>\n",
       "      <td>0.0</td>\n",
       "      <td>1.0</td>\n",
       "      <td>...</td>\n",
       "      <td>0.0</td>\n",
       "      <td>0.0</td>\n",
       "      <td>0.0</td>\n",
       "      <td>0.0</td>\n",
       "      <td>0.0</td>\n",
       "      <td>0.0</td>\n",
       "      <td>0.0</td>\n",
       "      <td>0.0</td>\n",
       "      <td>0.0</td>\n",
       "      <td>3.9</td>\n",
       "    </tr>\n",
       "    <tr>\n",
       "      <th>1</th>\n",
       "      <td>3004</td>\n",
       "      <td>https://www.zomato.com/jakarta/shigeru-pantai-...</td>\n",
       "      <td>100000</td>\n",
       "      <td>187.0</td>\n",
       "      <td>-6.109828</td>\n",
       "      <td>106.740279</td>\n",
       "      <td>1</td>\n",
       "      <td>0.0</td>\n",
       "      <td>1.0</td>\n",
       "      <td>0.0</td>\n",
       "      <td>...</td>\n",
       "      <td>0.0</td>\n",
       "      <td>0.0</td>\n",
       "      <td>0.0</td>\n",
       "      <td>0.0</td>\n",
       "      <td>0.0</td>\n",
       "      <td>0.0</td>\n",
       "      <td>0.0</td>\n",
       "      <td>0.0</td>\n",
       "      <td>0.0</td>\n",
       "      <td>3.9</td>\n",
       "    </tr>\n",
       "    <tr>\n",
       "      <th>2</th>\n",
       "      <td>3838</td>\n",
       "      <td>https://www.zomato.com/jakarta/ruths-chris-ste...</td>\n",
       "      <td>1900000</td>\n",
       "      <td>569.0</td>\n",
       "      <td>-6.224840</td>\n",
       "      <td>106.824214</td>\n",
       "      <td>0</td>\n",
       "      <td>1.0</td>\n",
       "      <td>0.0</td>\n",
       "      <td>0.0</td>\n",
       "      <td>...</td>\n",
       "      <td>0.0</td>\n",
       "      <td>0.0</td>\n",
       "      <td>0.0</td>\n",
       "      <td>0.0</td>\n",
       "      <td>0.0</td>\n",
       "      <td>0.0</td>\n",
       "      <td>0.0</td>\n",
       "      <td>0.0</td>\n",
       "      <td>1.0</td>\n",
       "      <td>4.6</td>\n",
       "    </tr>\n",
       "    <tr>\n",
       "      <th>3</th>\n",
       "      <td>3216</td>\n",
       "      <td>https://www.zomato.com/jakarta/holycow-steak-h...</td>\n",
       "      <td>400000</td>\n",
       "      <td>259.0</td>\n",
       "      <td>-6.244192</td>\n",
       "      <td>106.783964</td>\n",
       "      <td>1</td>\n",
       "      <td>0.0</td>\n",
       "      <td>0.0</td>\n",
       "      <td>0.0</td>\n",
       "      <td>...</td>\n",
       "      <td>0.0</td>\n",
       "      <td>0.0</td>\n",
       "      <td>0.0</td>\n",
       "      <td>0.0</td>\n",
       "      <td>0.0</td>\n",
       "      <td>0.0</td>\n",
       "      <td>0.0</td>\n",
       "      <td>0.0</td>\n",
       "      <td>1.0</td>\n",
       "      <td>3.0</td>\n",
       "    </tr>\n",
       "    <tr>\n",
       "      <th>4</th>\n",
       "      <td>1509</td>\n",
       "      <td>https://www.zomato.com/jakarta/txoko-senopati/...</td>\n",
       "      <td>500000</td>\n",
       "      <td>172.0</td>\n",
       "      <td>-6.233866</td>\n",
       "      <td>106.812572</td>\n",
       "      <td>0</td>\n",
       "      <td>1.0</td>\n",
       "      <td>1.0</td>\n",
       "      <td>0.0</td>\n",
       "      <td>...</td>\n",
       "      <td>0.0</td>\n",
       "      <td>0.0</td>\n",
       "      <td>0.0</td>\n",
       "      <td>0.0</td>\n",
       "      <td>0.0</td>\n",
       "      <td>0.0</td>\n",
       "      <td>0.0</td>\n",
       "      <td>0.0</td>\n",
       "      <td>1.0</td>\n",
       "      <td>4.5</td>\n",
       "    </tr>\n",
       "  </tbody>\n",
       "</table>\n",
       "<p>5 rows × 47 columns</p>\n",
       "</div>"
      ],
      "text/plain": [
       "   index                                                url  rest_price_idr  \\\n",
       "0   5122  https://www.zomato.com/jakarta/may-star-penjar...          300000   \n",
       "1   3004  https://www.zomato.com/jakarta/shigeru-pantai-...          100000   \n",
       "2   3838  https://www.zomato.com/jakarta/ruths-chris-ste...         1900000   \n",
       "3   3216  https://www.zomato.com/jakarta/holycow-steak-h...          400000   \n",
       "4   1509  https://www.zomato.com/jakarta/txoko-senopati/...          500000   \n",
       "\n",
       "   review       lat        long  is_chain  alcohol  delivery  entertainment  \\\n",
       "0   144.0 -6.127206  106.791299         1      1.0       0.0            1.0   \n",
       "1   187.0 -6.109828  106.740279         1      0.0       1.0            0.0   \n",
       "2   569.0 -6.224840  106.824214         0      1.0       0.0            0.0   \n",
       "3   259.0 -6.244192  106.783964         1      0.0       0.0            0.0   \n",
       "4   172.0 -6.233866  106.812572         0      1.0       1.0            0.0   \n",
       "\n",
       "   ...  mid_east  noodle  others_type  seafood  snacks  special_food  \\\n",
       "0  ...       0.0     0.0          0.0      0.0     0.0           0.0   \n",
       "1  ...       0.0     0.0          0.0      0.0     0.0           0.0   \n",
       "2  ...       0.0     0.0          0.0      0.0     0.0           0.0   \n",
       "3  ...       0.0     0.0          0.0      0.0     0.0           0.0   \n",
       "4  ...       0.0     0.0          0.0      0.0     0.0           0.0   \n",
       "\n",
       "   street_food  tea  western  rating  \n",
       "0          0.0  0.0      0.0     3.9  \n",
       "1          0.0  0.0      0.0     3.9  \n",
       "2          0.0  0.0      1.0     4.6  \n",
       "3          0.0  0.0      1.0     3.0  \n",
       "4          0.0  0.0      1.0     4.5  \n",
       "\n",
       "[5 rows x 47 columns]"
      ]
     },
     "execution_count": 41,
     "metadata": {},
     "output_type": "execute_result"
    }
   ],
   "source": [
    "df.head()"
   ]
  },
  {
   "cell_type": "code",
   "execution_count": 42,
   "id": "11506f4f-b555-420e-b3a9-817a953083d9",
   "metadata": {},
   "outputs": [
    {
     "data": {
      "text/plain": [
       "<AxesSubplot:ylabel='Frequency'>"
      ]
     },
     "execution_count": 42,
     "metadata": {},
     "output_type": "execute_result"
    },
    {
     "data": {
      "image/png": "[encoded data removed]",
      "text/plain": [
       "<Figure size 432x288 with 1 Axes>"
      ]
     },
     "metadata": {
      "needs_background": "light"
     },
     "output_type": "display_data"
    }
   ],
   "source": [
    "df['rating'].plot(kind='hist')"
   ]
  },
  {
   "cell_type": "code",
   "execution_count": 43,
   "id": "ee3f69eb-c705-4c45-97d7-54436957ac64",
   "metadata": {},
   "outputs": [],
   "source": [
    "df_lower_1 = df[df['rating']<2.7]\n",
    "df_lower_2 = df[(df['rating'] >= 2.7) & (df['rating'] < 3.3) ]\n",
    "df_midd = df[ (df['rating'] >= 3.3) & (df['rating'] < 4.0) ] \n",
    "df_upp1 = df[ (df['rating'] >= 4.0) & (df['rating'] < 4.5) ] \n",
    "df_upp2 = df[ df['rating'] >= 4.5] "
   ]
  },
  {
   "cell_type": "code",
   "execution_count": 44,
   "id": "267c487e-0437-43b0-afe3-b490836e1ba1",
   "metadata": {},
   "outputs": [
    {
     "data": {
      "text/plain": [
       "((152, 47), (970, 47), (2319, 47), (1143, 47), (146, 47))"
      ]
     },
     "execution_count": 44,
     "metadata": {},
     "output_type": "execute_result"
    }
   ],
   "source": [
    "df_lower_1.shape , df_lower_2.shape,  df_midd.shape, df_upp1.shape, df_upp2.shape "
   ]
  },
  {
   "cell_type": "code",
   "execution_count": 45,
   "id": "7f4eac2e-50da-4678-84cd-ccfa32b38cd5",
   "metadata": {},
   "outputs": [],
   "source": [
    "def sampling (df_input, sampling_row, iteration):\n",
    "    result = []\n",
    "    for i in range(iteration):\n",
    "          result.append(df_input.sample(sampling_row))\n",
    "    df_result = pd.concat(result)\n",
    "    return df_result "
   ]
  },
  {
   "cell_type": "code",
   "execution_count": 46,
   "id": "61c1f78b-93c9-4fa2-a314-3c146cfc46c2",
   "metadata": {},
   "outputs": [],
   "source": [
    "# lower 1 \n",
    "df_lower1 = sampling(df_lower_1, 2, 900)\n",
    "\n",
    "# lower 2\n",
    "df_lower2 = sampling(df_lower_2, 2, 800)\n",
    "\n",
    "# upper 1 \n",
    "df_upper1 = sampling(df_upp1, 2, 700)\n",
    "\n",
    "# upper 2 \n",
    "df_upper2 = sampling(df_upp2, 2, 700)"
   ]
  },
  {
   "cell_type": "code",
   "execution_count": 47,
   "id": "a7d02b2c-1e06-4272-a413-d6d81f8f51b8",
   "metadata": {},
   "outputs": [],
   "source": [
    "df_result = pd.concat([df_lower1,df_lower2,df_midd,df_upper1,df_upper2])"
   ]
  },
  {
   "cell_type": "code",
   "execution_count": 48,
   "id": "84593629-5971-4bfc-a1d7-649d73aaebf5",
   "metadata": {},
   "outputs": [
    {
     "data": {
      "text/plain": [
       "(8519, 47)"
      ]
     },
     "execution_count": 48,
     "metadata": {},
     "output_type": "execute_result"
    }
   ],
   "source": [
    "df_result.shape"
   ]
  },
  {
   "cell_type": "code",
   "execution_count": 49,
   "id": "3590954c-1871-4436-b50d-8e8a9123d30c",
   "metadata": {},
   "outputs": [
    {
     "data": {
      "text/plain": [
       "<AxesSubplot:ylabel='Frequency'>"
      ]
     },
     "execution_count": 49,
     "metadata": {},
     "output_type": "execute_result"
    },
    {
     "data": {
      "image/png": "[encoded data removed]",
      "text/plain": [
       "<Figure size 432x288 with 1 Axes>"
      ]
     },
     "metadata": {
      "needs_background": "light"
     },
     "output_type": "display_data"
    }
   ],
   "source": [
    "df_result['rating'].plot(kind='hist')"
   ]
  },
  {
   "cell_type": "code",
   "execution_count": 50,
   "id": "c37563d4-61e7-4ee9-99ef-c209beba4cab",
   "metadata": {},
   "outputs": [],
   "source": [
    "df_result.to_csv(outputfile, index=False)"
   ]
  },
  {
   "cell_type": "code",
   "execution_count": null,
   "id": "acdde72f-bf31-46da-9c13-650a274ba61b",
   "metadata": {},
   "outputs": [],
   "source": []
  }
 ],
 "metadata": {
  "kernelspec": {
   "display_name": "Python 3.8.8 ('base')",
   "language": "python",
   "name": "python3"
  },
  "language_info": {
   "codemirror_mode": {
    "name": "ipython",
    "version": 3
   },
   "file_extension": ".py",
   "mimetype": "text/x-python",
   "name": "python",
   "nbconvert_exporter": "python",
   "pygments_lexer": "ipython3",
   "version": "3.8.8"
  },
  "vscode": {
   "interpreter": {
    "hash": "9980599ad9850bdffd342280c0ae1db934122879fcb1d3c5fb59c8802b20124c"
   }
  }
 },
 "nbformat": 4,
 "nbformat_minor": 5
}
