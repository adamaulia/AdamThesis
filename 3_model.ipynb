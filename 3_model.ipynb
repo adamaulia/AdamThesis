{
 "cells": [
  {
   "cell_type": "code",
   "execution_count": 97,
   "metadata": {},
   "outputs": [],
   "source": [
    "import pandas as pd \n",
    "from sklearn.ensemble import RandomForestRegressor, RandomForestClassifier\n",
    "from sklearn.model_selection import train_test_split\n",
    "from sklearn.metrics import mean_squared_error, mean_absolute_error, r2_score\n",
    "import numpy as np \n",
    "from sklearn.preprocessing import MinMaxScaler\n",
    "import seaborn as sns "
   ]
  },
  {
   "cell_type": "code",
   "execution_count": 12,
   "metadata": {},
   "outputs": [],
   "source": [
    "df = pd.read_csv('3_clean_zomato_feat.csv')\n",
    "df['rest_price_idr'] = df['rest_price_idr'] / 1000\n",
    "df['rest_price_idr'] = df['rest_price_idr'].astype(int)"
   ]
  },
  {
   "cell_type": "code",
   "execution_count": 87,
   "metadata": {},
   "outputs": [
    {
     "data": {
      "text/plain": [
       "0"
      ]
     },
     "execution_count": 87,
     "metadata": {},
     "output_type": "execute_result"
    }
   ],
   "source": [
    "df['rating'].isnull().sum()"
   ]
  },
  {
   "cell_type": "code",
   "execution_count": 13,
   "metadata": {},
   "outputs": [
    {
     "data": {
      "text/html": [
       "<div>\n",
       "<style scoped>\n",
       "    .dataframe tbody tr th:only-of-type {\n",
       "        vertical-align: middle;\n",
       "    }\n",
       "\n",
       "    .dataframe tbody tr th {\n",
       "        vertical-align: top;\n",
       "    }\n",
       "\n",
       "    .dataframe thead th {\n",
       "        text-align: right;\n",
       "    }\n",
       "</style>\n",
       "<table border=\"1\" class=\"dataframe\">\n",
       "  <thead>\n",
       "    <tr style=\"text-align: right;\">\n",
       "      <th></th>\n",
       "      <th>index</th>\n",
       "      <th>url</th>\n",
       "      <th>rest_price_idr</th>\n",
       "      <th>review</th>\n",
       "      <th>lat</th>\n",
       "      <th>long</th>\n",
       "      <th>rating</th>\n",
       "      <th>new_code_res_type</th>\n",
       "      <th>rank_res_type</th>\n",
       "      <th>new_code_fac</th>\n",
       "      <th>rank_fac</th>\n",
       "    </tr>\n",
       "  </thead>\n",
       "  <tbody>\n",
       "    <tr>\n",
       "      <th>0</th>\n",
       "      <td>0</td>\n",
       "      <td>https://www.zomato.com/jakarta/wakacao-1-kelap...</td>\n",
       "      <td>150</td>\n",
       "      <td>56.0</td>\n",
       "      <td>-6.167531</td>\n",
       "      <td>106.901752</td>\n",
       "      <td>3.8</td>\n",
       "      <td>4</td>\n",
       "      <td>0</td>\n",
       "      <td>4</td>\n",
       "      <td>0</td>\n",
       "    </tr>\n",
       "    <tr>\n",
       "      <th>1</th>\n",
       "      <td>1</td>\n",
       "      <td>https://www.zomato.com/jakarta/the-coffee-bean...</td>\n",
       "      <td>110</td>\n",
       "      <td>61.0</td>\n",
       "      <td>-6.157341</td>\n",
       "      <td>106.907888</td>\n",
       "      <td>3.0</td>\n",
       "      <td>0</td>\n",
       "      <td>89</td>\n",
       "      <td>0</td>\n",
       "      <td>1422</td>\n",
       "    </tr>\n",
       "    <tr>\n",
       "      <th>2</th>\n",
       "      <td>2</td>\n",
       "      <td>https://www.zomato.com/jakarta/angke-kelapa-ga...</td>\n",
       "      <td>450</td>\n",
       "      <td>363.0</td>\n",
       "      <td>-6.152638</td>\n",
       "      <td>106.892576</td>\n",
       "      <td>4.5</td>\n",
       "      <td>2</td>\n",
       "      <td>2</td>\n",
       "      <td>0</td>\n",
       "      <td>1498</td>\n",
       "    </tr>\n",
       "    <tr>\n",
       "      <th>3</th>\n",
       "      <td>3</td>\n",
       "      <td>https://www.zomato.com/jakarta/ikan-nila-pak-u...</td>\n",
       "      <td>100</td>\n",
       "      <td>113.0</td>\n",
       "      <td>-6.163588</td>\n",
       "      <td>106.903689</td>\n",
       "      <td>3.9</td>\n",
       "      <td>0</td>\n",
       "      <td>20</td>\n",
       "      <td>0</td>\n",
       "      <td>4</td>\n",
       "    </tr>\n",
       "    <tr>\n",
       "      <th>4</th>\n",
       "      <td>4</td>\n",
       "      <td>https://www.zomato.com/jakarta/hong-kong-sheng...</td>\n",
       "      <td>220</td>\n",
       "      <td>257.0</td>\n",
       "      <td>-6.157255</td>\n",
       "      <td>106.908430</td>\n",
       "      <td>4.1</td>\n",
       "      <td>0</td>\n",
       "      <td>279</td>\n",
       "      <td>0</td>\n",
       "      <td>83</td>\n",
       "    </tr>\n",
       "  </tbody>\n",
       "</table>\n",
       "</div>"
      ],
      "text/plain": [
       "   index                                                url  rest_price_idr  \\\n",
       "0      0  https://www.zomato.com/jakarta/wakacao-1-kelap...             150   \n",
       "1      1  https://www.zomato.com/jakarta/the-coffee-bean...             110   \n",
       "2      2  https://www.zomato.com/jakarta/angke-kelapa-ga...             450   \n",
       "3      3  https://www.zomato.com/jakarta/ikan-nila-pak-u...             100   \n",
       "4      4  https://www.zomato.com/jakarta/hong-kong-sheng...             220   \n",
       "\n",
       "   review       lat        long  rating  new_code_res_type  rank_res_type  \\\n",
       "0    56.0 -6.167531  106.901752     3.8                  4              0   \n",
       "1    61.0 -6.157341  106.907888     3.0                  0             89   \n",
       "2   363.0 -6.152638  106.892576     4.5                  2              2   \n",
       "3   113.0 -6.163588  106.903689     3.9                  0             20   \n",
       "4   257.0 -6.157255  106.908430     4.1                  0            279   \n",
       "\n",
       "   new_code_fac  rank_fac  \n",
       "0             4         0  \n",
       "1             0      1422  \n",
       "2             0      1498  \n",
       "3             0         4  \n",
       "4             0        83  "
      ]
     },
     "execution_count": 13,
     "metadata": {},
     "output_type": "execute_result"
    }
   ],
   "source": [
    "df.head()"
   ]
  },
  {
   "cell_type": "code",
   "execution_count": 14,
   "metadata": {},
   "outputs": [
    {
     "name": "stdout",
     "output_type": "stream",
     "text": [
      "<class 'pandas.core.frame.DataFrame'>\n",
      "RangeIndex: 5803 entries, 0 to 5802\n",
      "Data columns (total 11 columns):\n",
      " #   Column             Non-Null Count  Dtype  \n",
      "---  ------             --------------  -----  \n",
      " 0   index              5803 non-null   int64  \n",
      " 1   url                5803 non-null   object \n",
      " 2   rest_price_idr     5803 non-null   int32  \n",
      " 3   review             5803 non-null   float64\n",
      " 4   lat                5803 non-null   float64\n",
      " 5   long               5803 non-null   float64\n",
      " 6   rating             5803 non-null   float64\n",
      " 7   new_code_res_type  5803 non-null   int64  \n",
      " 8   rank_res_type      5803 non-null   int64  \n",
      " 9   new_code_fac       5803 non-null   int64  \n",
      " 10  rank_fac           5803 non-null   int64  \n",
      "dtypes: float64(4), int32(1), int64(5), object(1)\n",
      "memory usage: 476.2+ KB\n"
     ]
    }
   ],
   "source": [
    "df.info()"
   ]
  },
  {
   "cell_type": "code",
   "execution_count": 15,
   "metadata": {},
   "outputs": [
    {
     "data": {
      "text/plain": [
       "index                0\n",
       "url                  0\n",
       "rest_price_idr       0\n",
       "review               0\n",
       "lat                  0\n",
       "long                 0\n",
       "rating               0\n",
       "new_code_res_type    0\n",
       "rank_res_type        0\n",
       "new_code_fac         0\n",
       "rank_fac             0\n",
       "dtype: int64"
      ]
     },
     "execution_count": 15,
     "metadata": {},
     "output_type": "execute_result"
    }
   ],
   "source": [
    "df.isnull().sum()"
   ]
  },
  {
   "cell_type": "code",
   "execution_count": 81,
   "metadata": {},
   "outputs": [],
   "source": [
    "# scaler = MinMaxScaler()\n",
    "# Y = scaler.fit_transform(df[['rating']])\n",
    "# X_train, X_test, y_train, y_test = train_test_split(df.drop(['url','index','rating','lat','long','review'],axis=1), Y, test_size=0.3, random_state=42)\n",
    "\n",
    "\n",
    "X_train, X_test, y_train, y_test = train_test_split(df.drop(['url','index','rating','lat','long','review','new_code_res_type','new_code_fac'],axis=1), df['rating'], test_size=0.3, random_state=42)"
   ]
  },
  {
   "cell_type": "code",
   "execution_count": 82,
   "metadata": {},
   "outputs": [
    {
     "data": {
      "text/html": [
       "<div>\n",
       "<style scoped>\n",
       "    .dataframe tbody tr th:only-of-type {\n",
       "        vertical-align: middle;\n",
       "    }\n",
       "\n",
       "    .dataframe tbody tr th {\n",
       "        vertical-align: top;\n",
       "    }\n",
       "\n",
       "    .dataframe thead th {\n",
       "        text-align: right;\n",
       "    }\n",
       "</style>\n",
       "<table border=\"1\" class=\"dataframe\">\n",
       "  <thead>\n",
       "    <tr style=\"text-align: right;\">\n",
       "      <th></th>\n",
       "      <th>rest_price_idr</th>\n",
       "      <th>rank_res_type</th>\n",
       "      <th>rank_fac</th>\n",
       "    </tr>\n",
       "  </thead>\n",
       "  <tbody>\n",
       "    <tr>\n",
       "      <th>2618</th>\n",
       "      <td>70</td>\n",
       "      <td>11</td>\n",
       "      <td>1</td>\n",
       "    </tr>\n",
       "    <tr>\n",
       "      <th>5076</th>\n",
       "      <td>150</td>\n",
       "      <td>322</td>\n",
       "      <td>378</td>\n",
       "    </tr>\n",
       "    <tr>\n",
       "      <th>1293</th>\n",
       "      <td>300</td>\n",
       "      <td>36</td>\n",
       "      <td>94</td>\n",
       "    </tr>\n",
       "    <tr>\n",
       "      <th>5142</th>\n",
       "      <td>50</td>\n",
       "      <td>88</td>\n",
       "      <td>5</td>\n",
       "    </tr>\n",
       "    <tr>\n",
       "      <th>4851</th>\n",
       "      <td>400</td>\n",
       "      <td>291</td>\n",
       "      <td>287</td>\n",
       "    </tr>\n",
       "  </tbody>\n",
       "</table>\n",
       "</div>"
      ],
      "text/plain": [
       "      rest_price_idr  rank_res_type  rank_fac\n",
       "2618              70             11         1\n",
       "5076             150            322       378\n",
       "1293             300             36        94\n",
       "5142              50             88         5\n",
       "4851             400            291       287"
      ]
     },
     "execution_count": 82,
     "metadata": {},
     "output_type": "execute_result"
    }
   ],
   "source": [
    "X_train.head()"
   ]
  },
  {
   "cell_type": "code",
   "execution_count": 83,
   "metadata": {},
   "outputs": [
    {
     "data": {
      "text/plain": [
       "RandomForestRegressor(n_estimators=50, random_state=0)"
      ]
     },
     "execution_count": 83,
     "metadata": {},
     "output_type": "execute_result"
    }
   ],
   "source": [
    "regr = RandomForestRegressor(random_state=0,n_estimators=50)\n",
    "# regr = RandomForestClassifier()\n",
    "regr.fit(X_train, y_train)"
   ]
  },
  {
   "cell_type": "code",
   "execution_count": 84,
   "metadata": {},
   "outputs": [
    {
     "name": "stdout",
     "output_type": "stream",
     "text": [
      " MAE 0.3736060671585749 \n",
      " MSE 0.2294530064000696 \n",
      " R2 0.7959733162795617 \n"
     ]
    }
   ],
   "source": [
    "y_result_test = regr.predict(X_test)\n",
    "y_result_train = regr.predict(X_train)\n",
    "print(' MAE {} '.format(mean_absolute_error(y_result_test,y_test)))\n",
    "print(' MSE {} '.format(mean_squared_error(y_result_test,y_test)))\n",
    "print(' R2 {} '.format(r2_score(y_train,y_result_train)))"
   ]
  },
  {
   "cell_type": "code",
   "execution_count": 103,
   "metadata": {},
   "outputs": [],
   "source": [
    "# result_train = pd.DataFrame()\n",
    "# result_train['score'] = y_result_train\n",
    "# result_train['type'] = 'train'\n",
    "# result_train['idx'] = result_train.shape[0]\n",
    "\n",
    "result_test = pd.DataFrame()\n",
    "result_test['score'] = y_result_test\n",
    "result_test['type'] = 'test'\n",
    "result_test['idx'] = np.arange(result_test.shape[0])\n",
    "\n",
    "result_test2 = pd.DataFrame()\n",
    "result_test2['score'] = y_test\n",
    "result_test2['type'] = 'train'\n",
    "result_test2['idx'] = np.arange(result_test2.shape[0])\n",
    "\n",
    "\n",
    "\n",
    "df_result = pd.concat([result_test2,result_test])\n",
    "# result = pd.DataFrame({'predict':y_result_test,'real':y_test})\n",
    "# result['predict'] = y_result_test\n",
    "# result['real'] = y_test"
   ]
  },
  {
   "cell_type": "code",
   "execution_count": 104,
   "metadata": {},
   "outputs": [
    {
     "data": {
      "text/html": [
       "<div>\n",
       "<style scoped>\n",
       "    .dataframe tbody tr th:only-of-type {\n",
       "        vertical-align: middle;\n",
       "    }\n",
       "\n",
       "    .dataframe tbody tr th {\n",
       "        vertical-align: top;\n",
       "    }\n",
       "\n",
       "    .dataframe thead th {\n",
       "        text-align: right;\n",
       "    }\n",
       "</style>\n",
       "<table border=\"1\" class=\"dataframe\">\n",
       "  <thead>\n",
       "    <tr style=\"text-align: right;\">\n",
       "      <th></th>\n",
       "      <th>score</th>\n",
       "      <th>type</th>\n",
       "      <th>idx</th>\n",
       "    </tr>\n",
       "  </thead>\n",
       "  <tbody>\n",
       "    <tr>\n",
       "      <th>3739</th>\n",
       "      <td>3.300000</td>\n",
       "      <td>train</td>\n",
       "      <td>0</td>\n",
       "    </tr>\n",
       "    <tr>\n",
       "      <th>1103</th>\n",
       "      <td>3.400000</td>\n",
       "      <td>train</td>\n",
       "      <td>1</td>\n",
       "    </tr>\n",
       "    <tr>\n",
       "      <th>812</th>\n",
       "      <td>2.700000</td>\n",
       "      <td>train</td>\n",
       "      <td>2</td>\n",
       "    </tr>\n",
       "    <tr>\n",
       "      <th>1632</th>\n",
       "      <td>3.600000</td>\n",
       "      <td>train</td>\n",
       "      <td>3</td>\n",
       "    </tr>\n",
       "    <tr>\n",
       "      <th>1128</th>\n",
       "      <td>3.000000</td>\n",
       "      <td>train</td>\n",
       "      <td>4</td>\n",
       "    </tr>\n",
       "    <tr>\n",
       "      <th>...</th>\n",
       "      <td>...</td>\n",
       "      <td>...</td>\n",
       "      <td>...</td>\n",
       "    </tr>\n",
       "    <tr>\n",
       "      <th>1736</th>\n",
       "      <td>3.553350</td>\n",
       "      <td>test</td>\n",
       "      <td>1736</td>\n",
       "    </tr>\n",
       "    <tr>\n",
       "      <th>1737</th>\n",
       "      <td>3.498000</td>\n",
       "      <td>test</td>\n",
       "      <td>1737</td>\n",
       "    </tr>\n",
       "    <tr>\n",
       "      <th>1738</th>\n",
       "      <td>3.876667</td>\n",
       "      <td>test</td>\n",
       "      <td>1738</td>\n",
       "    </tr>\n",
       "    <tr>\n",
       "      <th>1739</th>\n",
       "      <td>3.512000</td>\n",
       "      <td>test</td>\n",
       "      <td>1739</td>\n",
       "    </tr>\n",
       "    <tr>\n",
       "      <th>1740</th>\n",
       "      <td>3.326800</td>\n",
       "      <td>test</td>\n",
       "      <td>1740</td>\n",
       "    </tr>\n",
       "  </tbody>\n",
       "</table>\n",
       "<p>3482 rows × 3 columns</p>\n",
       "</div>"
      ],
      "text/plain": [
       "         score   type   idx\n",
       "3739  3.300000  train     0\n",
       "1103  3.400000  train     1\n",
       "812   2.700000  train     2\n",
       "1632  3.600000  train     3\n",
       "1128  3.000000  train     4\n",
       "...        ...    ...   ...\n",
       "1736  3.553350   test  1736\n",
       "1737  3.498000   test  1737\n",
       "1738  3.876667   test  1738\n",
       "1739  3.512000   test  1739\n",
       "1740  3.326800   test  1740\n",
       "\n",
       "[3482 rows x 3 columns]"
      ]
     },
     "execution_count": 104,
     "metadata": {},
     "output_type": "execute_result"
    }
   ],
   "source": [
    "df_result"
   ]
  },
  {
   "cell_type": "code",
   "execution_count": 107,
   "metadata": {},
   "outputs": [
    {
     "data": {
      "text/plain": [
       "<AxesSubplot:xlabel='idx', ylabel='score'>"
      ]
     },
     "execution_count": 107,
     "metadata": {},
     "output_type": "execute_result"
    },
    {
     "data": {
      "image/png": "[encoded data removed]",
      "text/plain": [
       "<Figure size 432x288 with 1 Axes>"
      ]
     },
     "metadata": {
      "needs_background": "light"
     },
     "output_type": "display_data"
    }
   ],
   "source": [
    "sns.lineplot(data=df_result, x=\"idx\", y='score', hue=\"type\")"
   ]
  },
  {
   "cell_type": "code",
   "execution_count": null,
   "metadata": {},
   "outputs": [],
   "source": []
  }
 ],
 "metadata": {
  "kernelspec": {
   "display_name": "Python 3.8.8 ('base')",
   "language": "python",
   "name": "python3"
  },
  "language_info": {
   "codemirror_mode": {
    "name": "ipython",
    "version": 3
   },
   "file_extension": ".py",
   "mimetype": "text/x-python",
   "name": "python",
   "nbconvert_exporter": "python",
   "pygments_lexer": "ipython3",
   "version": "3.8.8"
  },
  "orig_nbformat": 4,
  "vscode": {
   "interpreter": {
    "hash": "9980599ad9850bdffd342280c0ae1db934122879fcb1d3c5fb59c8802b20124c"
   }
  }
 },
 "nbformat": 4,
 "nbformat_minor": 2
}
