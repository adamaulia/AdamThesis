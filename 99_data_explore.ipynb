{
 "cells": [
  {
   "cell_type": "code",
   "execution_count": 1,
   "metadata": {},
   "outputs": [],
   "source": [
    "import pandas as pd "
   ]
  },
  {
   "cell_type": "code",
   "execution_count": 11,
   "metadata": {},
   "outputs": [],
   "source": [
    "# combine jakarta and outer jakarta dataset \n",
    "df_bod = pd.read_csv('data/2_bodebek_restaurant_detail3.csv')\n",
    "df_jak = pd.read_csv('data/2_jak_rest_detail.csv')\n",
    "\n",
    "df_combine = pd.concat([df_jak,df_bod]).reset_index()\n",
    "\n",
    "df_combine.to_csv('data/2_jbdtk_rest_detail.csv',index=False)"
   ]
  },
  {
   "cell_type": "code",
   "execution_count": 12,
   "metadata": {},
   "outputs": [
    {
     "data": {
      "text/html": [
       "<div>\n",
       "<style scoped>\n",
       "    .dataframe tbody tr th:only-of-type {\n",
       "        vertical-align: middle;\n",
       "    }\n",
       "\n",
       "    .dataframe tbody tr th {\n",
       "        vertical-align: top;\n",
       "    }\n",
       "\n",
       "    .dataframe thead th {\n",
       "        text-align: right;\n",
       "    }\n",
       "</style>\n",
       "<table border=\"1\" class=\"dataframe\">\n",
       "  <thead>\n",
       "    <tr style=\"text-align: right;\">\n",
       "      <th></th>\n",
       "      <th>index</th>\n",
       "      <th>url</th>\n",
       "      <th>title</th>\n",
       "      <th>rest_type</th>\n",
       "      <th>rest_price</th>\n",
       "      <th>rest_facility</th>\n",
       "      <th>rest_longlat</th>\n",
       "      <th>rating</th>\n",
       "      <th>review</th>\n",
       "    </tr>\n",
       "  </thead>\n",
       "  <tbody>\n",
       "    <tr>\n",
       "      <th>0</th>\n",
       "      <td>0</td>\n",
       "      <td>https://www.zomato.com/jakarta/wakacao-1-kelap...</td>\n",
       "      <td>Wakacao</td>\n",
       "      <td>Indonesian</td>\n",
       "      <td>Rp150.000 for two people (approx.)</td>\n",
       "      <td>Takeaway Available|Indoor Seating|No Alcohol A...</td>\n",
       "      <td>['https://www.google.com/maps/dir/?api=1&amp;desti...</td>\n",
       "      <td>3.8</td>\n",
       "      <td>56</td>\n",
       "    </tr>\n",
       "    <tr>\n",
       "      <th>1</th>\n",
       "      <td>1</td>\n",
       "      <td>https://www.zomato.com/jakarta/the-coffee-bean...</td>\n",
       "      <td>The Coffee Bean &amp; Tea Leaf</td>\n",
       "      <td>Coffee|Tea|Desserts|American|Italian</td>\n",
       "      <td>Rp110.000 for two people (approx.)</td>\n",
       "      <td>Takeaway Available|Indoor Seating|Brunch|Wifi|...</td>\n",
       "      <td>['https://www.google.com/maps/dir/?api=1&amp;desti...</td>\n",
       "      <td>3</td>\n",
       "      <td>61</td>\n",
       "    </tr>\n",
       "    <tr>\n",
       "      <th>2</th>\n",
       "      <td>2</td>\n",
       "      <td>https://www.zomato.com/jakarta/angke-kelapa-ga...</td>\n",
       "      <td>Angke Kelapa Gading</td>\n",
       "      <td>Chinese</td>\n",
       "      <td>Rp450.000 for two people (approx.)</td>\n",
       "      <td>Indoor Seating|Wifi|Valet Parking Available|Pr...</td>\n",
       "      <td>['https://www.google.com/maps/dir/?api=1&amp;desti...</td>\n",
       "      <td>4.5</td>\n",
       "      <td>363</td>\n",
       "    </tr>\n",
       "    <tr>\n",
       "      <th>3</th>\n",
       "      <td>3</td>\n",
       "      <td>https://www.zomato.com/jakarta/ikan-nila-pak-u...</td>\n",
       "      <td>Ikan Nila Pak Ugi</td>\n",
       "      <td>Seafood</td>\n",
       "      <td>Rp100.000 for two people (approx.)</td>\n",
       "      <td>Home Delivery|Takeaway Available|Indoor Seatin...</td>\n",
       "      <td>['https://www.google.com/maps/dir/?api=1&amp;desti...</td>\n",
       "      <td>3.9</td>\n",
       "      <td>113</td>\n",
       "    </tr>\n",
       "    <tr>\n",
       "      <th>4</th>\n",
       "      <td>4</td>\n",
       "      <td>https://www.zomato.com/jakarta/hong-kong-sheng...</td>\n",
       "      <td>Hong Kong Sheng Kee Dessert</td>\n",
       "      <td>Chinese|Dimsum|Desserts</td>\n",
       "      <td>Rp220.000 for two people (approx.)</td>\n",
       "      <td>Takeaway Available|Table booking recommended|I...</td>\n",
       "      <td>['https://www.google.com/maps/dir/?api=1&amp;desti...</td>\n",
       "      <td>4.1</td>\n",
       "      <td>257</td>\n",
       "    </tr>\n",
       "  </tbody>\n",
       "</table>\n",
       "</div>"
      ],
      "text/plain": [
       "   index                                                url  \\\n",
       "0      0  https://www.zomato.com/jakarta/wakacao-1-kelap...   \n",
       "1      1  https://www.zomato.com/jakarta/the-coffee-bean...   \n",
       "2      2  https://www.zomato.com/jakarta/angke-kelapa-ga...   \n",
       "3      3  https://www.zomato.com/jakarta/ikan-nila-pak-u...   \n",
       "4      4  https://www.zomato.com/jakarta/hong-kong-sheng...   \n",
       "\n",
       "                         title                             rest_type  \\\n",
       "0                      Wakacao                            Indonesian   \n",
       "1   The Coffee Bean & Tea Leaf  Coffee|Tea|Desserts|American|Italian   \n",
       "2          Angke Kelapa Gading                               Chinese   \n",
       "3            Ikan Nila Pak Ugi                               Seafood   \n",
       "4  Hong Kong Sheng Kee Dessert               Chinese|Dimsum|Desserts   \n",
       "\n",
       "                           rest_price  \\\n",
       "0  Rp150.000 for two people (approx.)   \n",
       "1  Rp110.000 for two people (approx.)   \n",
       "2  Rp450.000 for two people (approx.)   \n",
       "3  Rp100.000 for two people (approx.)   \n",
       "4  Rp220.000 for two people (approx.)   \n",
       "\n",
       "                                       rest_facility  \\\n",
       "0  Takeaway Available|Indoor Seating|No Alcohol A...   \n",
       "1  Takeaway Available|Indoor Seating|Brunch|Wifi|...   \n",
       "2  Indoor Seating|Wifi|Valet Parking Available|Pr...   \n",
       "3  Home Delivery|Takeaway Available|Indoor Seatin...   \n",
       "4  Takeaway Available|Table booking recommended|I...   \n",
       "\n",
       "                                        rest_longlat rating review  \n",
       "0  ['https://www.google.com/maps/dir/?api=1&desti...    3.8     56  \n",
       "1  ['https://www.google.com/maps/dir/?api=1&desti...      3     61  \n",
       "2  ['https://www.google.com/maps/dir/?api=1&desti...    4.5    363  \n",
       "3  ['https://www.google.com/maps/dir/?api=1&desti...    3.9    113  \n",
       "4  ['https://www.google.com/maps/dir/?api=1&desti...    4.1    257  "
      ]
     },
     "execution_count": 12,
     "metadata": {},
     "output_type": "execute_result"
    }
   ],
   "source": [
    "df_combine.head()"
   ]
  },
  {
   "cell_type": "code",
   "execution_count": 18,
   "metadata": {},
   "outputs": [],
   "source": [
    "# compare raw data \n",
    "\n",
    "df1 = pd.read_pickle('../../dataset/restaurant_raw.pickle')\n",
    "df2 = pd.read_pickle('../../dataset/restaurant_raw2.pickle')\n",
    "df3 = pd.read_pickle('../../dataset/restaurant_raw3.pickle')"
   ]
  },
  {
   "cell_type": "code",
   "execution_count": 19,
   "metadata": {},
   "outputs": [],
   "source": [
    "df1_exp = df1.explode('link')\n",
    "df2_exp = df2.explode('link')\n",
    "df3_exp = df3.explode('link')"
   ]
  },
  {
   "cell_type": "code",
   "execution_count": 23,
   "metadata": {},
   "outputs": [
    {
     "data": {
      "text/plain": [
       "((7043, 3), (8545, 3), (6171, 3))"
      ]
     },
     "execution_count": 23,
     "metadata": {},
     "output_type": "execute_result"
    }
   ],
   "source": [
    "df1_exp.shape, df2_exp.shape, df3_exp.shape"
   ]
  },
  {
   "cell_type": "code",
   "execution_count": 24,
   "metadata": {},
   "outputs": [],
   "source": [
    "df_union = pd.concat([df1_exp,df2_exp,df3_exp]).drop_duplicates()"
   ]
  },
  {
   "cell_type": "code",
   "execution_count": 25,
   "metadata": {},
   "outputs": [
    {
     "data": {
      "text/plain": [
       "(10560, 3)"
      ]
     },
     "execution_count": 25,
     "metadata": {},
     "output_type": "execute_result"
    }
   ],
   "source": [
    "df_union.shape"
   ]
  },
  {
   "cell_type": "code",
   "execution_count": 26,
   "metadata": {},
   "outputs": [],
   "source": [
    "df_union.columns = ['district','rest_url','count']"
   ]
  },
  {
   "cell_type": "code",
   "execution_count": 27,
   "metadata": {},
   "outputs": [
    {
     "data": {
      "text/html": [
       "<div>\n",
       "<style scoped>\n",
       "    .dataframe tbody tr th:only-of-type {\n",
       "        vertical-align: middle;\n",
       "    }\n",
       "\n",
       "    .dataframe tbody tr th {\n",
       "        vertical-align: top;\n",
       "    }\n",
       "\n",
       "    .dataframe thead th {\n",
       "        text-align: right;\n",
       "    }\n",
       "</style>\n",
       "<table border=\"1\" class=\"dataframe\">\n",
       "  <thead>\n",
       "    <tr style=\"text-align: right;\">\n",
       "      <th></th>\n",
       "      <th>district</th>\n",
       "      <th>rest_url</th>\n",
       "      <th>count</th>\n",
       "    </tr>\n",
       "  </thead>\n",
       "  <tbody>\n",
       "    <tr>\n",
       "      <th>0</th>\n",
       "      <td>https://www.zomato.com/jakarta/kelapa-gading-r...</td>\n",
       "      <td>https://www.zomato.com/jakarta/wakacao-1-kelap...</td>\n",
       "      <td>501</td>\n",
       "    </tr>\n",
       "    <tr>\n",
       "      <th>0</th>\n",
       "      <td>https://www.zomato.com/jakarta/kelapa-gading-r...</td>\n",
       "      <td>https://www.zomato.com/jakarta/the-coffee-bean...</td>\n",
       "      <td>501</td>\n",
       "    </tr>\n",
       "    <tr>\n",
       "      <th>0</th>\n",
       "      <td>https://www.zomato.com/jakarta/kelapa-gading-r...</td>\n",
       "      <td>https://www.zomato.com/jakarta/angke-kelapa-ga...</td>\n",
       "      <td>501</td>\n",
       "    </tr>\n",
       "    <tr>\n",
       "      <th>0</th>\n",
       "      <td>https://www.zomato.com/jakarta/kelapa-gading-r...</td>\n",
       "      <td>https://www.zomato.com/jakarta/ikan-nila-pak-u...</td>\n",
       "      <td>501</td>\n",
       "    </tr>\n",
       "    <tr>\n",
       "      <th>0</th>\n",
       "      <td>https://www.zomato.com/jakarta/kelapa-gading-r...</td>\n",
       "      <td>https://www.zomato.com/jakarta/hong-kong-sheng...</td>\n",
       "      <td>501</td>\n",
       "    </tr>\n",
       "  </tbody>\n",
       "</table>\n",
       "</div>"
      ],
      "text/plain": [
       "                                            district  \\\n",
       "0  https://www.zomato.com/jakarta/kelapa-gading-r...   \n",
       "0  https://www.zomato.com/jakarta/kelapa-gading-r...   \n",
       "0  https://www.zomato.com/jakarta/kelapa-gading-r...   \n",
       "0  https://www.zomato.com/jakarta/kelapa-gading-r...   \n",
       "0  https://www.zomato.com/jakarta/kelapa-gading-r...   \n",
       "\n",
       "                                            rest_url  count  \n",
       "0  https://www.zomato.com/jakarta/wakacao-1-kelap...    501  \n",
       "0  https://www.zomato.com/jakarta/the-coffee-bean...    501  \n",
       "0  https://www.zomato.com/jakarta/angke-kelapa-ga...    501  \n",
       "0  https://www.zomato.com/jakarta/ikan-nila-pak-u...    501  \n",
       "0  https://www.zomato.com/jakarta/hong-kong-sheng...    501  "
      ]
     },
     "execution_count": 27,
     "metadata": {},
     "output_type": "execute_result"
    }
   ],
   "source": [
    "df_union.head()"
   ]
  },
  {
   "cell_type": "code",
   "execution_count": 30,
   "metadata": {},
   "outputs": [],
   "source": [
    "df_union.to_csv('jakarta_rest.csv',index=False)"
   ]
  },
  {
   "cell_type": "code",
   "execution_count": 39,
   "metadata": {},
   "outputs": [],
   "source": [
    "tes_df = pd.read_csv('jakarta_restaurant_detail.csv')\n",
    "tes_df2 = pd.read_csv('jakarta_restaurant_detail2.csv')\n",
    "tes_df3 = pd.read_csv('jakarta_restaurant_detail3.csv')\n",
    "tes_df_uni = pd.concat([tes_df,tes_df2,tes_df3]).drop_duplicates()"
   ]
  },
  {
   "cell_type": "code",
   "execution_count": 41,
   "metadata": {},
   "outputs": [
    {
     "data": {
      "text/plain": [
       "url               0\n",
       "title             2\n",
       "rest_type         2\n",
       "rest_price       12\n",
       "rest_facility    11\n",
       "rest_longlat      0\n",
       "rating            2\n",
       "review            0\n",
       "dtype: int64"
      ]
     },
     "execution_count": 41,
     "metadata": {},
     "output_type": "execute_result"
    }
   ],
   "source": [
    "tes_df_uni.isnull().sum()"
   ]
  },
  {
   "cell_type": "code",
   "execution_count": 40,
   "metadata": {},
   "outputs": [
    {
     "data": {
      "text/plain": [
       "((3024, 8), (5223, 8), (5335, 8), (7305, 8))"
      ]
     },
     "execution_count": 40,
     "metadata": {},
     "output_type": "execute_result"
    }
   ],
   "source": [
    "tes_df.shape, tes_df2.shape, tes_df3.shape, tes_df_uni.shape"
   ]
  },
  {
   "cell_type": "code",
   "execution_count": 33,
   "metadata": {},
   "outputs": [
    {
     "data": {
      "text/html": [
       "<div>\n",
       "<style scoped>\n",
       "    .dataframe tbody tr th:only-of-type {\n",
       "        vertical-align: middle;\n",
       "    }\n",
       "\n",
       "    .dataframe tbody tr th {\n",
       "        vertical-align: top;\n",
       "    }\n",
       "\n",
       "    .dataframe thead th {\n",
       "        text-align: right;\n",
       "    }\n",
       "</style>\n",
       "<table border=\"1\" class=\"dataframe\">\n",
       "  <thead>\n",
       "    <tr style=\"text-align: right;\">\n",
       "      <th></th>\n",
       "      <th>url</th>\n",
       "      <th>title</th>\n",
       "      <th>rest_type</th>\n",
       "      <th>rest_price</th>\n",
       "      <th>rest_facility</th>\n",
       "      <th>rest_longlat</th>\n",
       "      <th>rating</th>\n",
       "      <th>review</th>\n",
       "    </tr>\n",
       "  </thead>\n",
       "  <tbody>\n",
       "    <tr>\n",
       "      <th>0</th>\n",
       "      <td>https://www.zomato.com/jakarta/wakacao-1-kelap...</td>\n",
       "      <td>Wakacao</td>\n",
       "      <td>Indonesian</td>\n",
       "      <td>Rp150.000 for two people (approx.)</td>\n",
       "      <td>Takeaway Available|Indoor Seating|No Alcohol A...</td>\n",
       "      <td>['https://www.google.com/maps/dir/?api=1&amp;desti...</td>\n",
       "      <td>3.8</td>\n",
       "      <td>56</td>\n",
       "    </tr>\n",
       "    <tr>\n",
       "      <th>1</th>\n",
       "      <td>https://www.zomato.com/jakarta/the-coffee-bean...</td>\n",
       "      <td>The Coffee Bean &amp; Tea Leaf</td>\n",
       "      <td>Coffee|Tea|Desserts|American|Italian</td>\n",
       "      <td>Rp110.000 for two people (approx.)</td>\n",
       "      <td>Takeaway Available|Indoor Seating|Brunch|Wifi|...</td>\n",
       "      <td>['https://www.google.com/maps/dir/?api=1&amp;desti...</td>\n",
       "      <td>3.0</td>\n",
       "      <td>61</td>\n",
       "    </tr>\n",
       "    <tr>\n",
       "      <th>2</th>\n",
       "      <td>https://www.zomato.com/jakarta/angke-kelapa-ga...</td>\n",
       "      <td>Angke Kelapa Gading</td>\n",
       "      <td>Chinese</td>\n",
       "      <td>Rp450.000 for two people (approx.)</td>\n",
       "      <td>Indoor Seating|Wifi|Valet Parking Available|Pr...</td>\n",
       "      <td>['https://www.google.com/maps/dir/?api=1&amp;desti...</td>\n",
       "      <td>4.5</td>\n",
       "      <td>363</td>\n",
       "    </tr>\n",
       "    <tr>\n",
       "      <th>3</th>\n",
       "      <td>https://www.zomato.com/jakarta/ikan-nila-pak-u...</td>\n",
       "      <td>Ikan Nila Pak Ugi</td>\n",
       "      <td>Seafood</td>\n",
       "      <td>Rp100.000 for two people (approx.)</td>\n",
       "      <td>Home Delivery|Takeaway Available|Indoor Seatin...</td>\n",
       "      <td>['https://www.google.com/maps/dir/?api=1&amp;desti...</td>\n",
       "      <td>3.9</td>\n",
       "      <td>113</td>\n",
       "    </tr>\n",
       "    <tr>\n",
       "      <th>4</th>\n",
       "      <td>https://www.zomato.com/jakarta/hong-kong-sheng...</td>\n",
       "      <td>Hong Kong Sheng Kee Dessert</td>\n",
       "      <td>Chinese|Dimsum|Desserts</td>\n",
       "      <td>Rp220.000 for two people (approx.)</td>\n",
       "      <td>Takeaway Available|Table booking recommended|I...</td>\n",
       "      <td>['https://www.google.com/maps/dir/?api=1&amp;desti...</td>\n",
       "      <td>4.1</td>\n",
       "      <td>257</td>\n",
       "    </tr>\n",
       "  </tbody>\n",
       "</table>\n",
       "</div>"
      ],
      "text/plain": [
       "                                                 url  \\\n",
       "0  https://www.zomato.com/jakarta/wakacao-1-kelap...   \n",
       "1  https://www.zomato.com/jakarta/the-coffee-bean...   \n",
       "2  https://www.zomato.com/jakarta/angke-kelapa-ga...   \n",
       "3  https://www.zomato.com/jakarta/ikan-nila-pak-u...   \n",
       "4  https://www.zomato.com/jakarta/hong-kong-sheng...   \n",
       "\n",
       "                         title                             rest_type  \\\n",
       "0                      Wakacao                            Indonesian   \n",
       "1   The Coffee Bean & Tea Leaf  Coffee|Tea|Desserts|American|Italian   \n",
       "2          Angke Kelapa Gading                               Chinese   \n",
       "3            Ikan Nila Pak Ugi                               Seafood   \n",
       "4  Hong Kong Sheng Kee Dessert               Chinese|Dimsum|Desserts   \n",
       "\n",
       "                           rest_price  \\\n",
       "0  Rp150.000 for two people (approx.)   \n",
       "1  Rp110.000 for two people (approx.)   \n",
       "2  Rp450.000 for two people (approx.)   \n",
       "3  Rp100.000 for two people (approx.)   \n",
       "4  Rp220.000 for two people (approx.)   \n",
       "\n",
       "                                       rest_facility  \\\n",
       "0  Takeaway Available|Indoor Seating|No Alcohol A...   \n",
       "1  Takeaway Available|Indoor Seating|Brunch|Wifi|...   \n",
       "2  Indoor Seating|Wifi|Valet Parking Available|Pr...   \n",
       "3  Home Delivery|Takeaway Available|Indoor Seatin...   \n",
       "4  Takeaway Available|Table booking recommended|I...   \n",
       "\n",
       "                                        rest_longlat rating review  \n",
       "0  ['https://www.google.com/maps/dir/?api=1&desti...    3.8     56  \n",
       "1  ['https://www.google.com/maps/dir/?api=1&desti...    3.0     61  \n",
       "2  ['https://www.google.com/maps/dir/?api=1&desti...    4.5    363  \n",
       "3  ['https://www.google.com/maps/dir/?api=1&desti...    3.9    113  \n",
       "4  ['https://www.google.com/maps/dir/?api=1&desti...    4.1    257  "
      ]
     },
     "execution_count": 33,
     "metadata": {},
     "output_type": "execute_result"
    }
   ],
   "source": [
    "tes_df.head()"
   ]
  },
  {
   "cell_type": "code",
   "execution_count": 34,
   "metadata": {},
   "outputs": [
    {
     "data": {
      "text/html": [
       "<div>\n",
       "<style scoped>\n",
       "    .dataframe tbody tr th:only-of-type {\n",
       "        vertical-align: middle;\n",
       "    }\n",
       "\n",
       "    .dataframe tbody tr th {\n",
       "        vertical-align: top;\n",
       "    }\n",
       "\n",
       "    .dataframe thead th {\n",
       "        text-align: right;\n",
       "    }\n",
       "</style>\n",
       "<table border=\"1\" class=\"dataframe\">\n",
       "  <thead>\n",
       "    <tr style=\"text-align: right;\">\n",
       "      <th></th>\n",
       "      <th>url</th>\n",
       "      <th>title</th>\n",
       "      <th>rest_type</th>\n",
       "      <th>rest_price</th>\n",
       "      <th>rest_facility</th>\n",
       "      <th>rest_longlat</th>\n",
       "      <th>rating</th>\n",
       "      <th>review</th>\n",
       "    </tr>\n",
       "  </thead>\n",
       "  <tbody>\n",
       "    <tr>\n",
       "      <th>0</th>\n",
       "      <td>https://www.zomato.com/jakarta/mie-jowo-ireng-...</td>\n",
       "      <td>Mie Jowo Ireng Manis</td>\n",
       "      <td>Jawa</td>\n",
       "      <td>Rp70.000 for two people (approx.)</td>\n",
       "      <td>Takeaway Available|Indoor Seating</td>\n",
       "      <td>['https://www.google.com/maps/dir/?api=1&amp;desti...</td>\n",
       "      <td>-</td>\n",
       "      <td>0</td>\n",
       "    </tr>\n",
       "    <tr>\n",
       "      <th>1</th>\n",
       "      <td>https://www.zomato.com/jakarta/chopstix-gandar...</td>\n",
       "      <td>Chopstix</td>\n",
       "      <td>Peranakan|Chinese</td>\n",
       "      <td>Rp120.000 for two people (approx.)</td>\n",
       "      <td>Takeaway Available|Indoor Seating|Table bookin...</td>\n",
       "      <td>['https://www.google.com/maps/dir/?api=1&amp;desti...</td>\n",
       "      <td>2.9</td>\n",
       "      <td>90</td>\n",
       "    </tr>\n",
       "    <tr>\n",
       "      <th>2</th>\n",
       "      <td>https://www.zomato.com/jakarta/the-coffee-bean...</td>\n",
       "      <td>The Coffee Bean &amp; Tea Leaf</td>\n",
       "      <td>Coffee|Tea|Desserts|American|Italian</td>\n",
       "      <td>Rp110.000 for two people (approx.)</td>\n",
       "      <td>Takeaway Available|Indoor Seating|Wifi|No Alco...</td>\n",
       "      <td>['https://www.google.com/maps/dir/?api=1&amp;desti...</td>\n",
       "      <td>2.8</td>\n",
       "      <td>26</td>\n",
       "    </tr>\n",
       "    <tr>\n",
       "      <th>3</th>\n",
       "      <td>https://www.zomato.com/jakarta/gaya-gelato-gan...</td>\n",
       "      <td>Gaya Gelato</td>\n",
       "      <td>Ice Cream|Desserts</td>\n",
       "      <td>Rp80.000 for two people (approx.)</td>\n",
       "      <td>Takeaway Available|Indoor Seating|Desserts and...</td>\n",
       "      <td>['https://www.google.com/maps/dir/?api=1&amp;desti...</td>\n",
       "      <td>4.1</td>\n",
       "      <td>98</td>\n",
       "    </tr>\n",
       "    <tr>\n",
       "      <th>4</th>\n",
       "      <td>https://www.zomato.com/jakarta/mamayu-kitchen-...</td>\n",
       "      <td>Mamayu Kitchen</td>\n",
       "      <td>Asian</td>\n",
       "      <td>Rp100.000 for two people (approx.)</td>\n",
       "      <td>Takeaway Available|Indoor Seating|No Alcohol A...</td>\n",
       "      <td>['https://www.google.com/maps/dir/?api=1&amp;desti...</td>\n",
       "      <td>3.5</td>\n",
       "      <td>27</td>\n",
       "    </tr>\n",
       "  </tbody>\n",
       "</table>\n",
       "</div>"
      ],
      "text/plain": [
       "                                                 url  \\\n",
       "0  https://www.zomato.com/jakarta/mie-jowo-ireng-...   \n",
       "1  https://www.zomato.com/jakarta/chopstix-gandar...   \n",
       "2  https://www.zomato.com/jakarta/the-coffee-bean...   \n",
       "3  https://www.zomato.com/jakarta/gaya-gelato-gan...   \n",
       "4  https://www.zomato.com/jakarta/mamayu-kitchen-...   \n",
       "\n",
       "                        title                             rest_type  \\\n",
       "0        Mie Jowo Ireng Manis                                  Jawa   \n",
       "1                    Chopstix                     Peranakan|Chinese   \n",
       "2  The Coffee Bean & Tea Leaf  Coffee|Tea|Desserts|American|Italian   \n",
       "3                 Gaya Gelato                    Ice Cream|Desserts   \n",
       "4              Mamayu Kitchen                                 Asian   \n",
       "\n",
       "                           rest_price  \\\n",
       "0   Rp70.000 for two people (approx.)   \n",
       "1  Rp120.000 for two people (approx.)   \n",
       "2  Rp110.000 for two people (approx.)   \n",
       "3   Rp80.000 for two people (approx.)   \n",
       "4  Rp100.000 for two people (approx.)   \n",
       "\n",
       "                                       rest_facility  \\\n",
       "0                  Takeaway Available|Indoor Seating   \n",
       "1  Takeaway Available|Indoor Seating|Table bookin...   \n",
       "2  Takeaway Available|Indoor Seating|Wifi|No Alco...   \n",
       "3  Takeaway Available|Indoor Seating|Desserts and...   \n",
       "4  Takeaway Available|Indoor Seating|No Alcohol A...   \n",
       "\n",
       "                                        rest_longlat rating review  \n",
       "0  ['https://www.google.com/maps/dir/?api=1&desti...      -      0  \n",
       "1  ['https://www.google.com/maps/dir/?api=1&desti...    2.9     90  \n",
       "2  ['https://www.google.com/maps/dir/?api=1&desti...    2.8     26  \n",
       "3  ['https://www.google.com/maps/dir/?api=1&desti...    4.1     98  \n",
       "4  ['https://www.google.com/maps/dir/?api=1&desti...    3.5     27  "
      ]
     },
     "execution_count": 34,
     "metadata": {},
     "output_type": "execute_result"
    }
   ],
   "source": [
    "tes_df2.head()"
   ]
  },
  {
   "cell_type": "code",
   "execution_count": 42,
   "metadata": {},
   "outputs": [],
   "source": [
    "tes_df_uni.to_csv('3_jak_rest_detail.csv',index=False)"
   ]
  },
  {
   "cell_type": "code",
   "execution_count": null,
   "metadata": {},
   "outputs": [],
   "source": []
  }
 ],
 "metadata": {
  "kernelspec": {
   "display_name": "Python 3.8.8 ('base')",
   "language": "python",
   "name": "python3"
  },
  "language_info": {
   "codemirror_mode": {
    "name": "ipython",
    "version": 3
   },
   "file_extension": ".py",
   "mimetype": "text/x-python",
   "name": "python",
   "nbconvert_exporter": "python",
   "pygments_lexer": "ipython3",
   "version": "3.8.8"
  },
  "vscode": {
   "interpreter": {
    "hash": "9980599ad9850bdffd342280c0ae1db934122879fcb1d3c5fb59c8802b20124c"
   }
  }
 },
 "nbformat": 4,
 "nbformat_minor": 4
}
