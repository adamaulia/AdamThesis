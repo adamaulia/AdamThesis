{
 "cells": [
  {
   "cell_type": "code",
   "execution_count": 8,
   "metadata": {},
   "outputs": [],
   "source": [
    "import pandas as pd \n",
    "import re "
   ]
  },
  {
   "cell_type": "code",
   "execution_count": 25,
   "metadata": {},
   "outputs": [
    {
     "data": {
      "text/plain": [
       "(7305, 8)"
      ]
     },
     "execution_count": 25,
     "metadata": {},
     "output_type": "execute_result"
    }
   ],
   "source": [
    "df = pd.read_csv('2_jak_rest_detail.csv')\n",
    "df.shape"
   ]
  },
  {
   "cell_type": "code",
   "execution_count": 26,
   "metadata": {},
   "outputs": [
    {
     "data": {
      "text/html": [
       "<div>\n",
       "<style scoped>\n",
       "    .dataframe tbody tr th:only-of-type {\n",
       "        vertical-align: middle;\n",
       "    }\n",
       "\n",
       "    .dataframe tbody tr th {\n",
       "        vertical-align: top;\n",
       "    }\n",
       "\n",
       "    .dataframe thead th {\n",
       "        text-align: right;\n",
       "    }\n",
       "</style>\n",
       "<table border=\"1\" class=\"dataframe\">\n",
       "  <thead>\n",
       "    <tr style=\"text-align: right;\">\n",
       "      <th></th>\n",
       "      <th>url</th>\n",
       "      <th>title</th>\n",
       "      <th>rest_type</th>\n",
       "      <th>rest_price</th>\n",
       "      <th>rest_facility</th>\n",
       "      <th>rest_longlat</th>\n",
       "      <th>rating</th>\n",
       "      <th>review</th>\n",
       "    </tr>\n",
       "  </thead>\n",
       "  <tbody>\n",
       "    <tr>\n",
       "      <th>0</th>\n",
       "      <td>https://www.zomato.com/jakarta/wakacao-1-kelap...</td>\n",
       "      <td>Wakacao</td>\n",
       "      <td>Indonesian</td>\n",
       "      <td>Rp150.000 for two people (approx.)</td>\n",
       "      <td>Takeaway Available|Indoor Seating|No Alcohol A...</td>\n",
       "      <td>['https://www.google.com/maps/dir/?api=1&amp;desti...</td>\n",
       "      <td>3.8</td>\n",
       "      <td>56</td>\n",
       "    </tr>\n",
       "    <tr>\n",
       "      <th>1</th>\n",
       "      <td>https://www.zomato.com/jakarta/the-coffee-bean...</td>\n",
       "      <td>The Coffee Bean &amp; Tea Leaf</td>\n",
       "      <td>Coffee|Tea|Desserts|American|Italian</td>\n",
       "      <td>Rp110.000 for two people (approx.)</td>\n",
       "      <td>Takeaway Available|Indoor Seating|Brunch|Wifi|...</td>\n",
       "      <td>['https://www.google.com/maps/dir/?api=1&amp;desti...</td>\n",
       "      <td>3</td>\n",
       "      <td>61</td>\n",
       "    </tr>\n",
       "    <tr>\n",
       "      <th>2</th>\n",
       "      <td>https://www.zomato.com/jakarta/angke-kelapa-ga...</td>\n",
       "      <td>Angke Kelapa Gading</td>\n",
       "      <td>Chinese</td>\n",
       "      <td>Rp450.000 for two people (approx.)</td>\n",
       "      <td>Indoor Seating|Wifi|Valet Parking Available|Pr...</td>\n",
       "      <td>['https://www.google.com/maps/dir/?api=1&amp;desti...</td>\n",
       "      <td>4.5</td>\n",
       "      <td>363</td>\n",
       "    </tr>\n",
       "    <tr>\n",
       "      <th>3</th>\n",
       "      <td>https://www.zomato.com/jakarta/ikan-nila-pak-u...</td>\n",
       "      <td>Ikan Nila Pak Ugi</td>\n",
       "      <td>Seafood</td>\n",
       "      <td>Rp100.000 for two people (approx.)</td>\n",
       "      <td>Home Delivery|Takeaway Available|Indoor Seatin...</td>\n",
       "      <td>['https://www.google.com/maps/dir/?api=1&amp;desti...</td>\n",
       "      <td>3.9</td>\n",
       "      <td>113</td>\n",
       "    </tr>\n",
       "    <tr>\n",
       "      <th>4</th>\n",
       "      <td>https://www.zomato.com/jakarta/hong-kong-sheng...</td>\n",
       "      <td>Hong Kong Sheng Kee Dessert</td>\n",
       "      <td>Chinese|Dimsum|Desserts</td>\n",
       "      <td>Rp220.000 for two people (approx.)</td>\n",
       "      <td>Takeaway Available|Table booking recommended|I...</td>\n",
       "      <td>['https://www.google.com/maps/dir/?api=1&amp;desti...</td>\n",
       "      <td>4.1</td>\n",
       "      <td>257</td>\n",
       "    </tr>\n",
       "  </tbody>\n",
       "</table>\n",
       "</div>"
      ],
      "text/plain": [
       "                                                 url  \\\n",
       "0  https://www.zomato.com/jakarta/wakacao-1-kelap...   \n",
       "1  https://www.zomato.com/jakarta/the-coffee-bean...   \n",
       "2  https://www.zomato.com/jakarta/angke-kelapa-ga...   \n",
       "3  https://www.zomato.com/jakarta/ikan-nila-pak-u...   \n",
       "4  https://www.zomato.com/jakarta/hong-kong-sheng...   \n",
       "\n",
       "                         title                             rest_type  \\\n",
       "0                      Wakacao                            Indonesian   \n",
       "1   The Coffee Bean & Tea Leaf  Coffee|Tea|Desserts|American|Italian   \n",
       "2          Angke Kelapa Gading                               Chinese   \n",
       "3            Ikan Nila Pak Ugi                               Seafood   \n",
       "4  Hong Kong Sheng Kee Dessert               Chinese|Dimsum|Desserts   \n",
       "\n",
       "                           rest_price  \\\n",
       "0  Rp150.000 for two people (approx.)   \n",
       "1  Rp110.000 for two people (approx.)   \n",
       "2  Rp450.000 for two people (approx.)   \n",
       "3  Rp100.000 for two people (approx.)   \n",
       "4  Rp220.000 for two people (approx.)   \n",
       "\n",
       "                                       rest_facility  \\\n",
       "0  Takeaway Available|Indoor Seating|No Alcohol A...   \n",
       "1  Takeaway Available|Indoor Seating|Brunch|Wifi|...   \n",
       "2  Indoor Seating|Wifi|Valet Parking Available|Pr...   \n",
       "3  Home Delivery|Takeaway Available|Indoor Seatin...   \n",
       "4  Takeaway Available|Table booking recommended|I...   \n",
       "\n",
       "                                        rest_longlat rating review  \n",
       "0  ['https://www.google.com/maps/dir/?api=1&desti...    3.8     56  \n",
       "1  ['https://www.google.com/maps/dir/?api=1&desti...      3     61  \n",
       "2  ['https://www.google.com/maps/dir/?api=1&desti...    4.5    363  \n",
       "3  ['https://www.google.com/maps/dir/?api=1&desti...    3.9    113  \n",
       "4  ['https://www.google.com/maps/dir/?api=1&desti...    4.1    257  "
      ]
     },
     "execution_count": 26,
     "metadata": {},
     "output_type": "execute_result"
    }
   ],
   "source": [
    "df.head()"
   ]
  },
  {
   "cell_type": "code",
   "execution_count": 35,
   "metadata": {},
   "outputs": [],
   "source": [
    "def clean_long_lat(str_input):\n",
    "    try :\n",
    "        result = str_input.split('=')[-1] \n",
    "        result = result.replace(']','')\n",
    "        result = result.replace('[','')   \n",
    "        result = result.replace(\"'\",\"\")   \n",
    "        return result \n",
    "    except : \n",
    "        return 'error'\n",
    "\n",
    "def extract_lat(str_input):\n",
    "    try : \n",
    "        return float(str_input.split(',')[0])\n",
    "    except:\n",
    "        return 0 \n",
    "\n",
    "\n",
    "def extract_long(str_input):\n",
    "    try : \n",
    "        return float(str_input.split(',')[1])\n",
    "    except:\n",
    "        return 0 "
   ]
  },
  {
   "cell_type": "code",
   "execution_count": 41,
   "metadata": {},
   "outputs": [],
   "source": [
    "# separate lat long from url \n",
    "df['rest_longlat2'] = df['rest_longlat'].apply(clean_long_lat)\n",
    "\n",
    "df['lat'] = df['rest_longlat2'].apply(extract_lat)\n",
    "df['long'] = df['rest_longlat2'].apply(extract_long)\n",
    "\n",
    "# remove non longlat \n",
    "df2 = df[df['rest_longlat']!='[]']"
   ]
  },
  {
   "cell_type": "code",
   "execution_count": 40,
   "metadata": {},
   "outputs": [
    {
     "data": {
      "text/plain": [
       "(15, 11)"
      ]
     },
     "execution_count": 40,
     "metadata": {},
     "output_type": "execute_result"
    }
   ],
   "source": [
    "# df[df['rest_longlat2']=='error']\n",
    "df.head()\n",
    "\n"
   ]
  },
  {
   "cell_type": "code",
   "execution_count": null,
   "metadata": {},
   "outputs": [],
   "source": []
  }
 ],
 "metadata": {
  "kernelspec": {
   "display_name": "Python 3.8.8 ('base')",
   "language": "python",
   "name": "python3"
  },
  "language_info": {
   "codemirror_mode": {
    "name": "ipython",
    "version": 3
   },
   "file_extension": ".py",
   "mimetype": "text/x-python",
   "name": "python",
   "nbconvert_exporter": "python",
   "pygments_lexer": "ipython3",
   "version": "3.8.8"
  },
  "orig_nbformat": 4,
  "vscode": {
   "interpreter": {
    "hash": "9980599ad9850bdffd342280c0ae1db934122879fcb1d3c5fb59c8802b20124c"
   }
  }
 },
 "nbformat": 4,
 "nbformat_minor": 2
}
