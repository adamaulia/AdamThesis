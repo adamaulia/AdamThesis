{
 "cells": [
  {
   "cell_type": "code",
   "execution_count": 8,
   "metadata": {},
   "outputs": [],
   "source": [
    "import pandas as pd \n",
    "import re \n",
    "from geolib import geohash\n",
    "from haversine import haversine, Unit\n",
    "from math import radians, cos, sin, asin, sqrt\n",
    "import numpy as np"
   ]
  },
  {
   "cell_type": "code",
   "execution_count": 9,
   "metadata": {},
   "outputs": [
    {
     "data": {
      "text/plain": [
       "(7305, 9)"
      ]
     },
     "execution_count": 9,
     "metadata": {},
     "output_type": "execute_result"
    }
   ],
   "source": [
    "df = pd.read_csv('2_jak_rest_detail.csv')\n",
    "df = df.reset_index()\n",
    "df.shape"
   ]
  },
  {
   "cell_type": "code",
   "execution_count": 10,
   "metadata": {},
   "outputs": [
    {
     "data": {
      "text/html": [
       "<div>\n",
       "<style scoped>\n",
       "    .dataframe tbody tr th:only-of-type {\n",
       "        vertical-align: middle;\n",
       "    }\n",
       "\n",
       "    .dataframe tbody tr th {\n",
       "        vertical-align: top;\n",
       "    }\n",
       "\n",
       "    .dataframe thead th {\n",
       "        text-align: right;\n",
       "    }\n",
       "</style>\n",
       "<table border=\"1\" class=\"dataframe\">\n",
       "  <thead>\n",
       "    <tr style=\"text-align: right;\">\n",
       "      <th></th>\n",
       "      <th>index</th>\n",
       "      <th>url</th>\n",
       "      <th>title</th>\n",
       "      <th>rest_type</th>\n",
       "      <th>rest_price</th>\n",
       "      <th>rest_facility</th>\n",
       "      <th>rest_longlat</th>\n",
       "      <th>rating</th>\n",
       "      <th>review</th>\n",
       "    </tr>\n",
       "  </thead>\n",
       "  <tbody>\n",
       "    <tr>\n",
       "      <th>0</th>\n",
       "      <td>0</td>\n",
       "      <td>https://www.zomato.com/jakarta/wakacao-1-kelap...</td>\n",
       "      <td>Wakacao</td>\n",
       "      <td>Indonesian</td>\n",
       "      <td>Rp150.000 for two people (approx.)</td>\n",
       "      <td>Takeaway Available|Indoor Seating|No Alcohol A...</td>\n",
       "      <td>['https://www.google.com/maps/dir/?api=1&amp;desti...</td>\n",
       "      <td>3.8</td>\n",
       "      <td>56</td>\n",
       "    </tr>\n",
       "    <tr>\n",
       "      <th>1</th>\n",
       "      <td>1</td>\n",
       "      <td>https://www.zomato.com/jakarta/the-coffee-bean...</td>\n",
       "      <td>The Coffee Bean &amp; Tea Leaf</td>\n",
       "      <td>Coffee|Tea|Desserts|American|Italian</td>\n",
       "      <td>Rp110.000 for two people (approx.)</td>\n",
       "      <td>Takeaway Available|Indoor Seating|Brunch|Wifi|...</td>\n",
       "      <td>['https://www.google.com/maps/dir/?api=1&amp;desti...</td>\n",
       "      <td>3</td>\n",
       "      <td>61</td>\n",
       "    </tr>\n",
       "    <tr>\n",
       "      <th>2</th>\n",
       "      <td>2</td>\n",
       "      <td>https://www.zomato.com/jakarta/angke-kelapa-ga...</td>\n",
       "      <td>Angke Kelapa Gading</td>\n",
       "      <td>Chinese</td>\n",
       "      <td>Rp450.000 for two people (approx.)</td>\n",
       "      <td>Indoor Seating|Wifi|Valet Parking Available|Pr...</td>\n",
       "      <td>['https://www.google.com/maps/dir/?api=1&amp;desti...</td>\n",
       "      <td>4.5</td>\n",
       "      <td>363</td>\n",
       "    </tr>\n",
       "    <tr>\n",
       "      <th>3</th>\n",
       "      <td>3</td>\n",
       "      <td>https://www.zomato.com/jakarta/ikan-nila-pak-u...</td>\n",
       "      <td>Ikan Nila Pak Ugi</td>\n",
       "      <td>Seafood</td>\n",
       "      <td>Rp100.000 for two people (approx.)</td>\n",
       "      <td>Home Delivery|Takeaway Available|Indoor Seatin...</td>\n",
       "      <td>['https://www.google.com/maps/dir/?api=1&amp;desti...</td>\n",
       "      <td>3.9</td>\n",
       "      <td>113</td>\n",
       "    </tr>\n",
       "    <tr>\n",
       "      <th>4</th>\n",
       "      <td>4</td>\n",
       "      <td>https://www.zomato.com/jakarta/hong-kong-sheng...</td>\n",
       "      <td>Hong Kong Sheng Kee Dessert</td>\n",
       "      <td>Chinese|Dimsum|Desserts</td>\n",
       "      <td>Rp220.000 for two people (approx.)</td>\n",
       "      <td>Takeaway Available|Table booking recommended|I...</td>\n",
       "      <td>['https://www.google.com/maps/dir/?api=1&amp;desti...</td>\n",
       "      <td>4.1</td>\n",
       "      <td>257</td>\n",
       "    </tr>\n",
       "  </tbody>\n",
       "</table>\n",
       "</div>"
      ],
      "text/plain": [
       "   index                                                url  \\\n",
       "0      0  https://www.zomato.com/jakarta/wakacao-1-kelap...   \n",
       "1      1  https://www.zomato.com/jakarta/the-coffee-bean...   \n",
       "2      2  https://www.zomato.com/jakarta/angke-kelapa-ga...   \n",
       "3      3  https://www.zomato.com/jakarta/ikan-nila-pak-u...   \n",
       "4      4  https://www.zomato.com/jakarta/hong-kong-sheng...   \n",
       "\n",
       "                         title                             rest_type  \\\n",
       "0                      Wakacao                            Indonesian   \n",
       "1   The Coffee Bean & Tea Leaf  Coffee|Tea|Desserts|American|Italian   \n",
       "2          Angke Kelapa Gading                               Chinese   \n",
       "3            Ikan Nila Pak Ugi                               Seafood   \n",
       "4  Hong Kong Sheng Kee Dessert               Chinese|Dimsum|Desserts   \n",
       "\n",
       "                           rest_price  \\\n",
       "0  Rp150.000 for two people (approx.)   \n",
       "1  Rp110.000 for two people (approx.)   \n",
       "2  Rp450.000 for two people (approx.)   \n",
       "3  Rp100.000 for two people (approx.)   \n",
       "4  Rp220.000 for two people (approx.)   \n",
       "\n",
       "                                       rest_facility  \\\n",
       "0  Takeaway Available|Indoor Seating|No Alcohol A...   \n",
       "1  Takeaway Available|Indoor Seating|Brunch|Wifi|...   \n",
       "2  Indoor Seating|Wifi|Valet Parking Available|Pr...   \n",
       "3  Home Delivery|Takeaway Available|Indoor Seatin...   \n",
       "4  Takeaway Available|Table booking recommended|I...   \n",
       "\n",
       "                                        rest_longlat rating review  \n",
       "0  ['https://www.google.com/maps/dir/?api=1&desti...    3.8     56  \n",
       "1  ['https://www.google.com/maps/dir/?api=1&desti...      3     61  \n",
       "2  ['https://www.google.com/maps/dir/?api=1&desti...    4.5    363  \n",
       "3  ['https://www.google.com/maps/dir/?api=1&desti...    3.9    113  \n",
       "4  ['https://www.google.com/maps/dir/?api=1&desti...    4.1    257  "
      ]
     },
     "execution_count": 10,
     "metadata": {},
     "output_type": "execute_result"
    }
   ],
   "source": [
    "df.head()"
   ]
  },
  {
   "cell_type": "code",
   "execution_count": 11,
   "metadata": {},
   "outputs": [],
   "source": [
    "def clean_long_lat(str_input):\n",
    "    try :\n",
    "        result = str_input.split('=')[-1] \n",
    "        result = result.replace(']','')\n",
    "        result = result.replace('[','')   \n",
    "        result = result.replace(\"'\",\"\")   \n",
    "        return result \n",
    "    except : \n",
    "        return 'error'\n",
    "\n",
    "def extract_lat(str_input):\n",
    "    try : \n",
    "        return float(str_input.split(',')[0])\n",
    "    except:\n",
    "        return 0 \n",
    "\n",
    "\n",
    "def extract_long(str_input):\n",
    "    try : \n",
    "        return float(str_input.split(',')[1])\n",
    "    except:\n",
    "        return 0 \n",
    "\n",
    "def geohash_neighbors(str_geohash):\n",
    "    return \n",
    "\n",
    "def calculate_distance(lat1, lon1, lat2, lon2 ):\n",
    "    # haversine formula \n",
    "\n",
    "\n",
    "    lon1, lat1, lon2, lat2 = map(np.radians, [lon1, lat1, lon2, lat2])\n",
    "\n",
    "    dlon = lon2 - lon1\n",
    "    dlat = lat2 - lat1\n",
    "\n",
    "    a = np.sin(dlat/2.0)**2 + np.cos(lat1) * np.cos(lat2) * np.sin(dlon/2.0)**2\n",
    "\n",
    "    c = 2 * np.arcsin(np.sqrt(a))\n",
    "    km = 6367 * c * 1000 # in meter \n",
    "    return km\n",
    "\n",
    "def extract_price(price):\n",
    "    try : \n",
    "        return ''.join(re.findall(r'\\d+',price))\n",
    "    except : \n",
    "        return 'error'\n",
    "    \n",
    "def normalize_rating(rating):\n",
    "    try:\n",
    "        return float(rating)\n",
    "    except :\n",
    "        return 'error'\n",
    "\n",
    "def normalize_review(rating):\n",
    "    try:\n",
    "        return int(rating)\n",
    "    except :\n",
    "        return 'error'\n"
   ]
  },
  {
   "cell_type": "markdown",
   "metadata": {},
   "source": [
    "# Extract Long and Lat \n",
    "extract lat and long from url \n",
    "adding geohash "
   ]
  },
  {
   "cell_type": "code",
   "execution_count": 12,
   "metadata": {},
   "outputs": [],
   "source": [
    "# separate lat long from url \n",
    "df['rest_longlat2'] = df['rest_longlat'].apply(clean_long_lat)\n",
    "\n",
    "df['lat'] = df['rest_longlat2'].apply(extract_lat)\n",
    "df['long'] = df['rest_longlat2'].apply(extract_long)\n",
    "\n",
    "# remove non longlat \n",
    "# df2 = df[df['rest_longlat']!='[]']"
   ]
  },
  {
   "cell_type": "code",
   "execution_count": 13,
   "metadata": {},
   "outputs": [
    {
     "data": {
      "text/html": [
       "<div>\n",
       "<style scoped>\n",
       "    .dataframe tbody tr th:only-of-type {\n",
       "        vertical-align: middle;\n",
       "    }\n",
       "\n",
       "    .dataframe tbody tr th {\n",
       "        vertical-align: top;\n",
       "    }\n",
       "\n",
       "    .dataframe thead th {\n",
       "        text-align: right;\n",
       "    }\n",
       "</style>\n",
       "<table border=\"1\" class=\"dataframe\">\n",
       "  <thead>\n",
       "    <tr style=\"text-align: right;\">\n",
       "      <th></th>\n",
       "      <th>index</th>\n",
       "      <th>url</th>\n",
       "      <th>title</th>\n",
       "      <th>rest_type</th>\n",
       "      <th>rest_price</th>\n",
       "      <th>rest_facility</th>\n",
       "      <th>rest_longlat</th>\n",
       "      <th>rating</th>\n",
       "      <th>review</th>\n",
       "      <th>rest_longlat2</th>\n",
       "      <th>lat</th>\n",
       "      <th>long</th>\n",
       "    </tr>\n",
       "  </thead>\n",
       "  <tbody>\n",
       "    <tr>\n",
       "      <th>0</th>\n",
       "      <td>0</td>\n",
       "      <td>https://www.zomato.com/jakarta/wakacao-1-kelap...</td>\n",
       "      <td>Wakacao</td>\n",
       "      <td>Indonesian</td>\n",
       "      <td>Rp150.000 for two people (approx.)</td>\n",
       "      <td>Takeaway Available|Indoor Seating|No Alcohol A...</td>\n",
       "      <td>['https://www.google.com/maps/dir/?api=1&amp;desti...</td>\n",
       "      <td>3.8</td>\n",
       "      <td>56</td>\n",
       "      <td>-6.1675310000,106.9017520000</td>\n",
       "      <td>-6.167531</td>\n",
       "      <td>106.901752</td>\n",
       "    </tr>\n",
       "    <tr>\n",
       "      <th>1</th>\n",
       "      <td>1</td>\n",
       "      <td>https://www.zomato.com/jakarta/the-coffee-bean...</td>\n",
       "      <td>The Coffee Bean &amp; Tea Leaf</td>\n",
       "      <td>Coffee|Tea|Desserts|American|Italian</td>\n",
       "      <td>Rp110.000 for two people (approx.)</td>\n",
       "      <td>Takeaway Available|Indoor Seating|Brunch|Wifi|...</td>\n",
       "      <td>['https://www.google.com/maps/dir/?api=1&amp;desti...</td>\n",
       "      <td>3</td>\n",
       "      <td>61</td>\n",
       "      <td>-6.1573410000,106.9078880000</td>\n",
       "      <td>-6.157341</td>\n",
       "      <td>106.907888</td>\n",
       "    </tr>\n",
       "    <tr>\n",
       "      <th>2</th>\n",
       "      <td>2</td>\n",
       "      <td>https://www.zomato.com/jakarta/angke-kelapa-ga...</td>\n",
       "      <td>Angke Kelapa Gading</td>\n",
       "      <td>Chinese</td>\n",
       "      <td>Rp450.000 for two people (approx.)</td>\n",
       "      <td>Indoor Seating|Wifi|Valet Parking Available|Pr...</td>\n",
       "      <td>['https://www.google.com/maps/dir/?api=1&amp;desti...</td>\n",
       "      <td>4.5</td>\n",
       "      <td>363</td>\n",
       "      <td>-6.1526380000,106.8925760000</td>\n",
       "      <td>-6.152638</td>\n",
       "      <td>106.892576</td>\n",
       "    </tr>\n",
       "    <tr>\n",
       "      <th>3</th>\n",
       "      <td>3</td>\n",
       "      <td>https://www.zomato.com/jakarta/ikan-nila-pak-u...</td>\n",
       "      <td>Ikan Nila Pak Ugi</td>\n",
       "      <td>Seafood</td>\n",
       "      <td>Rp100.000 for two people (approx.)</td>\n",
       "      <td>Home Delivery|Takeaway Available|Indoor Seatin...</td>\n",
       "      <td>['https://www.google.com/maps/dir/?api=1&amp;desti...</td>\n",
       "      <td>3.9</td>\n",
       "      <td>113</td>\n",
       "      <td>-6.1635880000,106.9036890000</td>\n",
       "      <td>-6.163588</td>\n",
       "      <td>106.903689</td>\n",
       "    </tr>\n",
       "    <tr>\n",
       "      <th>4</th>\n",
       "      <td>4</td>\n",
       "      <td>https://www.zomato.com/jakarta/hong-kong-sheng...</td>\n",
       "      <td>Hong Kong Sheng Kee Dessert</td>\n",
       "      <td>Chinese|Dimsum|Desserts</td>\n",
       "      <td>Rp220.000 for two people (approx.)</td>\n",
       "      <td>Takeaway Available|Table booking recommended|I...</td>\n",
       "      <td>['https://www.google.com/maps/dir/?api=1&amp;desti...</td>\n",
       "      <td>4.1</td>\n",
       "      <td>257</td>\n",
       "      <td>-6.1572550000,106.9084300000</td>\n",
       "      <td>-6.157255</td>\n",
       "      <td>106.908430</td>\n",
       "    </tr>\n",
       "  </tbody>\n",
       "</table>\n",
       "</div>"
      ],
      "text/plain": [
       "   index                                                url  \\\n",
       "0      0  https://www.zomato.com/jakarta/wakacao-1-kelap...   \n",
       "1      1  https://www.zomato.com/jakarta/the-coffee-bean...   \n",
       "2      2  https://www.zomato.com/jakarta/angke-kelapa-ga...   \n",
       "3      3  https://www.zomato.com/jakarta/ikan-nila-pak-u...   \n",
       "4      4  https://www.zomato.com/jakarta/hong-kong-sheng...   \n",
       "\n",
       "                         title                             rest_type  \\\n",
       "0                      Wakacao                            Indonesian   \n",
       "1   The Coffee Bean & Tea Leaf  Coffee|Tea|Desserts|American|Italian   \n",
       "2          Angke Kelapa Gading                               Chinese   \n",
       "3            Ikan Nila Pak Ugi                               Seafood   \n",
       "4  Hong Kong Sheng Kee Dessert               Chinese|Dimsum|Desserts   \n",
       "\n",
       "                           rest_price  \\\n",
       "0  Rp150.000 for two people (approx.)   \n",
       "1  Rp110.000 for two people (approx.)   \n",
       "2  Rp450.000 for two people (approx.)   \n",
       "3  Rp100.000 for two people (approx.)   \n",
       "4  Rp220.000 for two people (approx.)   \n",
       "\n",
       "                                       rest_facility  \\\n",
       "0  Takeaway Available|Indoor Seating|No Alcohol A...   \n",
       "1  Takeaway Available|Indoor Seating|Brunch|Wifi|...   \n",
       "2  Indoor Seating|Wifi|Valet Parking Available|Pr...   \n",
       "3  Home Delivery|Takeaway Available|Indoor Seatin...   \n",
       "4  Takeaway Available|Table booking recommended|I...   \n",
       "\n",
       "                                        rest_longlat rating review  \\\n",
       "0  ['https://www.google.com/maps/dir/?api=1&desti...    3.8     56   \n",
       "1  ['https://www.google.com/maps/dir/?api=1&desti...      3     61   \n",
       "2  ['https://www.google.com/maps/dir/?api=1&desti...    4.5    363   \n",
       "3  ['https://www.google.com/maps/dir/?api=1&desti...    3.9    113   \n",
       "4  ['https://www.google.com/maps/dir/?api=1&desti...    4.1    257   \n",
       "\n",
       "                  rest_longlat2       lat        long  \n",
       "0  -6.1675310000,106.9017520000 -6.167531  106.901752  \n",
       "1  -6.1573410000,106.9078880000 -6.157341  106.907888  \n",
       "2  -6.1526380000,106.8925760000 -6.152638  106.892576  \n",
       "3  -6.1635880000,106.9036890000 -6.163588  106.903689  \n",
       "4  -6.1572550000,106.9084300000 -6.157255  106.908430  "
      ]
     },
     "execution_count": 13,
     "metadata": {},
     "output_type": "execute_result"
    }
   ],
   "source": [
    "# df[df['rest_longlat2']=='error']\n",
    "df2.head()\n"
   ]
  },
  {
   "cell_type": "code",
   "execution_count": 14,
   "metadata": {},
   "outputs": [
    {
     "data": {
      "text/plain": [
       "https://www.zomato.com/jakarta/santa-88-cake-bakery-restaurant-senopati/info    2\n",
       "https://www.zomato.com/jakarta/the-gade-coffee-gold-menteng/info                2\n",
       "https://www.zomato.com/jakarta/visi-coffee-kitchen-manggarai/info               2\n",
       "https://www.zomato.com/jakarta/wee-nam-kee-kitchen-rice-thamrin/info            2\n",
       "https://www.zomato.com/SignaturesRestaurant/info                                2\n",
       "                                                                               ..\n",
       "https://www.zomato.com/jakarta/man-aur-tan-manhattan-hotel-kuningan/info        1\n",
       "https://www.zomato.com/jakarta/soiree-bar-and-lounge-senopati/info              1\n",
       "https://www.zomato.com/jakarta/tea-time-cafe-kuningan/info                      1\n",
       "https://www.zomato.com/jakarta/dennys-senayan/info                              1\n",
       "https://www.zomato.com/jakarta/rice-bowl-1-scbd/info                            1\n",
       "Name: url, Length: 7262, dtype: int64"
      ]
     },
     "execution_count": 14,
     "metadata": {},
     "output_type": "execute_result"
    }
   ],
   "source": [
    "df2['url'].value_counts()"
   ]
  },
  {
   "cell_type": "code",
   "execution_count": 15,
   "metadata": {},
   "outputs": [
    {
     "data": {
      "text/plain": [
       "'3.8'"
      ]
     },
     "execution_count": 15,
     "metadata": {},
     "output_type": "execute_result"
    }
   ],
   "source": [
    "df2.iloc[0]['rating']"
   ]
  },
  {
   "cell_type": "markdown",
   "metadata": {},
   "source": [
    "# Get Price "
   ]
  },
  {
   "cell_type": "code",
   "execution_count": 16,
   "metadata": {},
   "outputs": [
    {
     "name": "stderr",
     "output_type": "stream",
     "text": [
      "<ipython-input-16-b040028e8c9d>:1: SettingWithCopyWarning: \n",
      "A value is trying to be set on a copy of a slice from a DataFrame.\n",
      "Try using .loc[row_indexer,col_indexer] = value instead\n",
      "\n",
      "See the caveats in the documentation: https://pandas.pydata.org/pandas-docs/stable/user_guide/indexing.html#returning-a-view-versus-a-copy\n",
      "  df2['rest_price_idr'] =  df2['rest_price'].apply(lambda x:extract_price(x))\n"
     ]
    }
   ],
   "source": [
    "df2['rest_price_idr'] =  df2['rest_price'].apply(lambda x:extract_price(x))"
   ]
  },
  {
   "cell_type": "markdown",
   "metadata": {},
   "source": [
    "# Get Rating "
   ]
  },
  {
   "cell_type": "code",
   "execution_count": 17,
   "metadata": {},
   "outputs": [
    {
     "name": "stderr",
     "output_type": "stream",
     "text": [
      "<ipython-input-17-b05a19aaf55e>:1: SettingWithCopyWarning: \n",
      "A value is trying to be set on a copy of a slice from a DataFrame.\n",
      "Try using .loc[row_indexer,col_indexer] = value instead\n",
      "\n",
      "See the caveats in the documentation: https://pandas.pydata.org/pandas-docs/stable/user_guide/indexing.html#returning-a-view-versus-a-copy\n",
      "  df2['rating'] = df2['rating'].apply(normalize_rating)\n"
     ]
    }
   ],
   "source": [
    "df2['rating'] = df2['rating'].apply(normalize_rating)"
   ]
  },
  {
   "cell_type": "code",
   "execution_count": 18,
   "metadata": {},
   "outputs": [
    {
     "name": "stderr",
     "output_type": "stream",
     "text": [
      "<ipython-input-18-7d07926f49ad>:1: SettingWithCopyWarning: \n",
      "A value is trying to be set on a copy of a slice from a DataFrame.\n",
      "Try using .loc[row_indexer,col_indexer] = value instead\n",
      "\n",
      "See the caveats in the documentation: https://pandas.pydata.org/pandas-docs/stable/user_guide/indexing.html#returning-a-view-versus-a-copy\n",
      "  df2['review'] = df2['review'].apply(normalize_review)\n"
     ]
    }
   ],
   "source": [
    "df2['review'] = df2['review'].apply(normalize_review)"
   ]
  },
  {
   "cell_type": "markdown",
   "metadata": {},
   "source": [
    "# Preprocessing restaurant features\n",
    "facility and restaurant type"
   ]
  },
  {
   "cell_type": "code",
   "execution_count": 26,
   "metadata": {},
   "outputs": [
    {
     "name": "stdout",
     "output_type": "stream",
     "text": [
      "total unique facility (54,)\n",
      "total unique restaurant type (86,)\n"
     ]
    }
   ],
   "source": [
    "# df2['rest_facility'].apply(lambda x:x.split('|'))\n",
    "tes_facility = df2['rest_facility'].apply(lambda x:x.split('|')).explode()\n",
    "tes_rest_type = df2['rest_type'].apply(lambda x:x.split('|')).explode()\n",
    "\n",
    "print('total unique facility {}'.format(tes_facility.value_counts().shape))\n",
    "print('total unique restaurant type {}'.format(tes_rest_type.value_counts().shape))"
   ]
  },
  {
   "cell_type": "code",
   "execution_count": 27,
   "metadata": {},
   "outputs": [],
   "source": [
    "def cat_encoding(df ,idx_col, cat_col):\n",
    "    df_cat = df2[[idx_col,cat_col]]\n",
    "    df_cat = df_cat.apply(lambda x:x[cat_col].split('|'), axis =1).explode().reset_index()\n",
    "    df_cat.columns = [idx_col,'category']\n",
    "    df_cat['category'] = df_cat['category'].str.lower()\n",
    "    df_cat['flag'] = 1\n",
    "    df_cat = df_cat.pivot_table(index=idx_col, columns='category', values='flag').reset_index().fillna(0)\n",
    "    cat_col = df_cat.columns[1:]\n",
    "    df_cat[cat_col] = df_cat[cat_col].astype('int')\n",
    "    df_cat[cat_col] = df_cat[cat_col].astype(str)\n",
    "    df_cat['encode'] = df_cat[cat_col].apply(''.join, axis=1)\n",
    "\n",
    "    return df_cat \n"
   ]
  },
  {
   "cell_type": "code",
   "execution_count": 51,
   "metadata": {},
   "outputs": [],
   "source": [
    "# facility \n",
    "df_res_fac = cat_encoding(df2, 'index','rest_facility')\n",
    "df_res_fac_code = df_res_fac['encode'].value_counts().reset_index()\n",
    "df_res_fac_code.columns = ['encode','total']\n",
    "df_res_fac_code['rank'] = np.arange(df_res_fac_code.shape[0])\n",
    "df_res_fac_code['new_code'] = pd.cut(df_res_fac_code['total'], 5,labels=list(range(5)), ordered=True)\n",
    "df_res_fac_encode = pd.merge(df_res_fac[['index','encode']],df_res_fac_code[['encode','new_code','rank']])\n",
    "\n",
    "df_res_fac_encode.to_csv('2_res_fac.csv',index=False)\n",
    "\n",
    "# type  \n",
    "df_res_type = cat_encoding(df2, 'index','rest_type')\n",
    "df_res_type_code = df_res_type['encode'].value_counts().reset_index()\n",
    "df_res_type_code.columns = ['encode','total']\n",
    "df_res_type_code['rank'] = np.arange(df_res_type_code.shape[0])\n",
    "df_res_type_code['new_code'] = pd.cut(df_res_type_code['total'], 5,labels=list(range(5)), ordered=True)\n",
    "df_res_type_encode = pd.merge(df_res_type[['index','encode']],df_res_type_code[['encode','new_code','rank']])\n",
    "\n",
    "df_res_type_encode.to_csv('2_res_type.csv',index=False)"
   ]
  },
  {
   "cell_type": "code",
   "execution_count": 81,
   "metadata": {},
   "outputs": [
    {
     "data": {
      "text/plain": [
       "0       1128\n",
       "1        489\n",
       "2        272\n",
       "3        224\n",
       "4        210\n",
       "        ... \n",
       "997        1\n",
       "993        1\n",
       "989        1\n",
       "985        1\n",
       "1651       1\n",
       "Name: rank, Length: 1654, dtype: int64"
      ]
     },
     "execution_count": 81,
     "metadata": {},
     "output_type": "execute_result"
    }
   ],
   "source": [
    "df_res_fac_encode['rank'].value_counts()"
   ]
  },
  {
   "cell_type": "markdown",
   "metadata": {},
   "source": [
    "# Finishing"
   ]
  },
  {
   "cell_type": "code",
   "execution_count": 75,
   "metadata": {},
   "outputs": [],
   "source": [
    "df2_final = pd.DataFrame()\n",
    "df2_final['index'] = df2['index']\n",
    "df2_final['url'] = df2['url']\n",
    "df2_final['rest_price_idr'] = df2['rest_price_idr']\n",
    "df2_final['review'] = df2['review']\n",
    "df2_final['lat'] = df2['lat']\n",
    "df2_final['long'] = df2['long']\n",
    "df2_final['rating'] = df2['rating']\n",
    "\n",
    "\n",
    "df2_final = pd.merge(df2_final,df_res_type_encode[['index','new_code','rank']], left_on='index', right_on='index', how='left')\n",
    "df2_final = df2_final.rename(columns = {'new_code':'new_code_res_type','rank':'rank_res_type'})\n",
    "\n",
    "df2_final = pd.merge(df2_final,df_res_fac_encode[['index','new_code','rank']],left_on='index', right_on='index',how='left')\n",
    "df2_final = df2_final.rename(columns = {'new_code':'new_code_fac','rank':'rank_fac'})\n",
    "\n",
    "# remove error values \n",
    "\n",
    "df2_final = df2_final[ (df2_final['rest_price_idr'] != 'error') & (df2_final['rating']!= 'error') & (df2_final['review']!= 'error') ]\n",
    "\n",
    "# casting to correct values \n",
    "df2_final['rest_price_idr'] = df2_final['rest_price_idr'].astype(float)\n",
    "df2_final['review'] = df2_final['review'].astype(float)\n",
    "df2_final['rating'] = df2_final['rating'].astype(float)"
   ]
  },
  {
   "cell_type": "code",
   "execution_count": 77,
   "metadata": {},
   "outputs": [
    {
     "name": "stdout",
     "output_type": "stream",
     "text": [
      "<class 'pandas.core.frame.DataFrame'>\n",
      "Int64Index: 5803 entries, 0 to 7289\n",
      "Data columns (total 11 columns):\n",
      " #   Column             Non-Null Count  Dtype   \n",
      "---  ------             --------------  -----   \n",
      " 0   index              5803 non-null   int64   \n",
      " 1   url                5803 non-null   object  \n",
      " 2   rest_price_idr     5803 non-null   float64 \n",
      " 3   review             5803 non-null   float64 \n",
      " 4   lat                5803 non-null   float64 \n",
      " 5   long               5803 non-null   float64 \n",
      " 6   rating             5803 non-null   float64 \n",
      " 7   new_code_res_type  5803 non-null   category\n",
      " 8   rank_res_type      5803 non-null   int32   \n",
      " 9   new_code_fac       5803 non-null   category\n",
      " 10  rank_fac           5803 non-null   int32   \n",
      "dtypes: category(2), float64(5), int32(2), int64(1), object(1)\n",
      "memory usage: 419.8+ KB\n"
     ]
    }
   ],
   "source": [
    "df2_final.info()"
   ]
  },
  {
   "cell_type": "code",
   "execution_count": 79,
   "metadata": {},
   "outputs": [],
   "source": [
    "df2_final.to_csv('3_clean_zomato_feat.csv',index=False)"
   ]
  },
  {
   "cell_type": "markdown",
   "metadata": {},
   "source": [
    "# Explore geohash neighbors "
   ]
  },
  {
   "cell_type": "code",
   "execution_count": 22,
   "metadata": {},
   "outputs": [
    {
     "name": "stderr",
     "output_type": "stream",
     "text": [
      "<ipython-input-22-3ac793a2ed75>:2: SettingWithCopyWarning: \n",
      "A value is trying to be set on a copy of a slice from a DataFrame.\n",
      "Try using .loc[row_indexer,col_indexer] = value instead\n",
      "\n",
      "See the caveats in the documentation: https://pandas.pydata.org/pandas-docs/stable/user_guide/indexing.html#returning-a-view-versus-a-copy\n",
      "  df2_geo['geohash'] = df2_geo.apply(lambda x:geohash.encode(x['lat'],x['long'],6),axis=1)\n",
      "<ipython-input-22-3ac793a2ed75>:6: SettingWithCopyWarning: \n",
      "A value is trying to be set on a copy of a slice from a DataFrame.\n",
      "Try using .loc[row_indexer,col_indexer] = value instead\n",
      "\n",
      "See the caveats in the documentation: https://pandas.pydata.org/pandas-docs/stable/user_guide/indexing.html#returning-a-view-versus-a-copy\n",
      "  df2_geo['neighbors'] = df2_geo['geohash'].apply(lambda x:list(geohash.neighbours(x)))\n"
     ]
    }
   ],
   "source": [
    "df2_geo = df2[['index','lat','long']]\n",
    "df2_geo['geohash'] = df2_geo.apply(lambda x:geohash.encode(x['lat'],x['long'],6),axis=1)\n",
    "\n",
    "df2_geo_uniq = df2_geo[['index','lat','long','geohash']].drop_duplicates()\n",
    "\n",
    "df2_geo['neighbors'] = df2_geo['geohash'].apply(lambda x:list(geohash.neighbours(x)))\n",
    "df2_geo = df2_geo.explode('neighbors')\n",
    "\n",
    "df2_geo.columns = [col+'2' for col in df2_geo.columns]"
   ]
  },
  {
   "cell_type": "code",
   "execution_count": 23,
   "metadata": {},
   "outputs": [],
   "source": [
    "df_geo_merge = pd.merge(df2_geo_uniq, df2_geo, left_on = 'geohash', right_on = 'neighbors2')\n",
    "df_geo_merge['distance'] = df_geo_merge.apply(lambda x:calculate_distance(x['lat'],x['long'],x['lat2'],x['long2']), axis= 1)\n",
    "\n",
    "df_geo_merge = df_geo_merge[df_geo_merge['distance'] < 1000]"
   ]
  },
  {
   "cell_type": "code",
   "execution_count": 112,
   "metadata": {},
   "outputs": [
    {
     "data": {
      "text/html": [
       "<div>\n",
       "<style scoped>\n",
       "    .dataframe tbody tr th:only-of-type {\n",
       "        vertical-align: middle;\n",
       "    }\n",
       "\n",
       "    .dataframe tbody tr th {\n",
       "        vertical-align: top;\n",
       "    }\n",
       "\n",
       "    .dataframe thead th {\n",
       "        text-align: right;\n",
       "    }\n",
       "</style>\n",
       "<table border=\"1\" class=\"dataframe\">\n",
       "  <thead>\n",
       "    <tr style=\"text-align: right;\">\n",
       "      <th></th>\n",
       "      <th>index</th>\n",
       "      <th>lat</th>\n",
       "      <th>long</th>\n",
       "      <th>geohash</th>\n",
       "      <th>index2</th>\n",
       "      <th>lat2</th>\n",
       "      <th>long2</th>\n",
       "      <th>geohash2</th>\n",
       "      <th>neighbors2</th>\n",
       "      <th>distance</th>\n",
       "    </tr>\n",
       "  </thead>\n",
       "  <tbody>\n",
       "    <tr>\n",
       "      <th>0</th>\n",
       "      <td>0</td>\n",
       "      <td>-6.167531</td>\n",
       "      <td>106.901752</td>\n",
       "      <td>qquhbt</td>\n",
       "      <td>5</td>\n",
       "      <td>-6.171399</td>\n",
       "      <td>106.898761</td>\n",
       "      <td>qquhbs</td>\n",
       "      <td>qquhbt</td>\n",
       "      <td>542.142839</td>\n",
       "    </tr>\n",
       "    <tr>\n",
       "      <th>3</th>\n",
       "      <td>0</td>\n",
       "      <td>-6.167531</td>\n",
       "      <td>106.901752</td>\n",
       "      <td>qquhbt</td>\n",
       "      <td>28</td>\n",
       "      <td>-6.171066</td>\n",
       "      <td>106.898276</td>\n",
       "      <td>qquhbs</td>\n",
       "      <td>qquhbt</td>\n",
       "      <td>549.367462</td>\n",
       "    </tr>\n",
       "    <tr>\n",
       "      <th>4</th>\n",
       "      <td>0</td>\n",
       "      <td>-6.167531</td>\n",
       "      <td>106.901752</td>\n",
       "      <td>qquhbt</td>\n",
       "      <td>30</td>\n",
       "      <td>-6.170421</td>\n",
       "      <td>106.899426</td>\n",
       "      <td>qquhbs</td>\n",
       "      <td>qquhbt</td>\n",
       "      <td>411.313918</td>\n",
       "    </tr>\n",
       "    <tr>\n",
       "      <th>5</th>\n",
       "      <td>0</td>\n",
       "      <td>-6.167531</td>\n",
       "      <td>106.901752</td>\n",
       "      <td>qquhbt</td>\n",
       "      <td>33</td>\n",
       "      <td>-6.161882</td>\n",
       "      <td>106.904170</td>\n",
       "      <td>qquhbw</td>\n",
       "      <td>qquhbt</td>\n",
       "      <td>682.225851</td>\n",
       "    </tr>\n",
       "    <tr>\n",
       "      <th>7</th>\n",
       "      <td>0</td>\n",
       "      <td>-6.167531</td>\n",
       "      <td>106.901752</td>\n",
       "      <td>qquhbt</td>\n",
       "      <td>44</td>\n",
       "      <td>-6.170592</td>\n",
       "      <td>106.909284</td>\n",
       "      <td>qquhbu</td>\n",
       "      <td>qquhbt</td>\n",
       "      <td>898.963975</td>\n",
       "    </tr>\n",
       "  </tbody>\n",
       "</table>\n",
       "</div>"
      ],
      "text/plain": [
       "   index       lat        long geohash  index2      lat2       long2 geohash2  \\\n",
       "0      0 -6.167531  106.901752  qquhbt       5 -6.171399  106.898761   qquhbs   \n",
       "3      0 -6.167531  106.901752  qquhbt      28 -6.171066  106.898276   qquhbs   \n",
       "4      0 -6.167531  106.901752  qquhbt      30 -6.170421  106.899426   qquhbs   \n",
       "5      0 -6.167531  106.901752  qquhbt      33 -6.161882  106.904170   qquhbw   \n",
       "7      0 -6.167531  106.901752  qquhbt      44 -6.170592  106.909284   qquhbu   \n",
       "\n",
       "  neighbors2    distance  \n",
       "0     qquhbt  542.142839  \n",
       "3     qquhbt  549.367462  \n",
       "4     qquhbt  411.313918  \n",
       "5     qquhbt  682.225851  \n",
       "7     qquhbt  898.963975  "
      ]
     },
     "execution_count": 112,
     "metadata": {},
     "output_type": "execute_result"
    }
   ],
   "source": [
    "df_geo_merge.head()"
   ]
  },
  {
   "cell_type": "code",
   "execution_count": 113,
   "metadata": {},
   "outputs": [
    {
     "data": {
      "text/html": [
       "<div>\n",
       "<style scoped>\n",
       "    .dataframe tbody tr th:only-of-type {\n",
       "        vertical-align: middle;\n",
       "    }\n",
       "\n",
       "    .dataframe tbody tr th {\n",
       "        vertical-align: top;\n",
       "    }\n",
       "\n",
       "    .dataframe thead th {\n",
       "        text-align: right;\n",
       "    }\n",
       "</style>\n",
       "<table border=\"1\" class=\"dataframe\">\n",
       "  <thead>\n",
       "    <tr style=\"text-align: right;\">\n",
       "      <th></th>\n",
       "      <th>index</th>\n",
       "      <th>lat</th>\n",
       "      <th>long</th>\n",
       "      <th>geohash</th>\n",
       "    </tr>\n",
       "  </thead>\n",
       "  <tbody>\n",
       "    <tr>\n",
       "      <th>0</th>\n",
       "      <td>0</td>\n",
       "      <td>-6.167531</td>\n",
       "      <td>106.901752</td>\n",
       "      <td>qquhbt</td>\n",
       "    </tr>\n",
       "    <tr>\n",
       "      <th>1</th>\n",
       "      <td>1</td>\n",
       "      <td>-6.157341</td>\n",
       "      <td>106.907888</td>\n",
       "      <td>qquhbx</td>\n",
       "    </tr>\n",
       "    <tr>\n",
       "      <th>2</th>\n",
       "      <td>2</td>\n",
       "      <td>-6.152638</td>\n",
       "      <td>106.892576</td>\n",
       "      <td>qquhbr</td>\n",
       "    </tr>\n",
       "    <tr>\n",
       "      <th>3</th>\n",
       "      <td>3</td>\n",
       "      <td>-6.163588</td>\n",
       "      <td>106.903689</td>\n",
       "      <td>qquhbt</td>\n",
       "    </tr>\n",
       "    <tr>\n",
       "      <th>4</th>\n",
       "      <td>4</td>\n",
       "      <td>-6.157255</td>\n",
       "      <td>106.908430</td>\n",
       "      <td>qquhbz</td>\n",
       "    </tr>\n",
       "    <tr>\n",
       "      <th>...</th>\n",
       "      <td>...</td>\n",
       "      <td>...</td>\n",
       "      <td>...</td>\n",
       "      <td>...</td>\n",
       "    </tr>\n",
       "    <tr>\n",
       "      <th>7300</th>\n",
       "      <td>7300</td>\n",
       "      <td>-6.182180</td>\n",
       "      <td>106.842239</td>\n",
       "      <td>qqguz6</td>\n",
       "    </tr>\n",
       "    <tr>\n",
       "      <th>7301</th>\n",
       "      <td>7301</td>\n",
       "      <td>-6.188693</td>\n",
       "      <td>106.846740</td>\n",
       "      <td>qqguz3</td>\n",
       "    </tr>\n",
       "    <tr>\n",
       "      <th>7302</th>\n",
       "      <td>7302</td>\n",
       "      <td>-6.177425</td>\n",
       "      <td>106.841511</td>\n",
       "      <td>qqguz5</td>\n",
       "    </tr>\n",
       "    <tr>\n",
       "      <th>7303</th>\n",
       "      <td>7303</td>\n",
       "      <td>-6.189673</td>\n",
       "      <td>106.845534</td>\n",
       "      <td>qqguz3</td>\n",
       "    </tr>\n",
       "    <tr>\n",
       "      <th>7304</th>\n",
       "      <td>7304</td>\n",
       "      <td>-6.189117</td>\n",
       "      <td>106.846968</td>\n",
       "      <td>qqguz3</td>\n",
       "    </tr>\n",
       "  </tbody>\n",
       "</table>\n",
       "<p>7290 rows × 4 columns</p>\n",
       "</div>"
      ],
      "text/plain": [
       "      index       lat        long geohash\n",
       "0         0 -6.167531  106.901752  qquhbt\n",
       "1         1 -6.157341  106.907888  qquhbx\n",
       "2         2 -6.152638  106.892576  qquhbr\n",
       "3         3 -6.163588  106.903689  qquhbt\n",
       "4         4 -6.157255  106.908430  qquhbz\n",
       "...     ...       ...         ...     ...\n",
       "7300   7300 -6.182180  106.842239  qqguz6\n",
       "7301   7301 -6.188693  106.846740  qqguz3\n",
       "7302   7302 -6.177425  106.841511  qqguz5\n",
       "7303   7303 -6.189673  106.845534  qqguz3\n",
       "7304   7304 -6.189117  106.846968  qqguz3\n",
       "\n",
       "[7290 rows x 4 columns]"
      ]
     },
     "execution_count": 113,
     "metadata": {},
     "output_type": "execute_result"
    }
   ],
   "source": [
    "df2_geo_uniq"
   ]
  },
  {
   "cell_type": "code",
   "execution_count": 105,
   "metadata": {},
   "outputs": [
    {
     "data": {
      "text/plain": [
       "0.5421741839700793"
      ]
     },
     "execution_count": 105,
     "metadata": {},
     "output_type": "execute_result"
    }
   ],
   "source": [
    "calculate_distance(-6.167531, 106.901752,-6.171399,106.898761)"
   ]
  },
  {
   "cell_type": "code",
   "execution_count": null,
   "metadata": {},
   "outputs": [],
   "source": []
  }
 ],
 "metadata": {
  "kernelspec": {
   "display_name": "Python 3.8.8 ('base')",
   "language": "python",
   "name": "python3"
  },
  "language_info": {
   "codemirror_mode": {
    "name": "ipython",
    "version": 3
   },
   "file_extension": ".py",
   "mimetype": "text/x-python",
   "name": "python",
   "nbconvert_exporter": "python",
   "pygments_lexer": "ipython3",
   "version": "3.8.8"
  },
  "orig_nbformat": 4,
  "vscode": {
   "interpreter": {
    "hash": "9980599ad9850bdffd342280c0ae1db934122879fcb1d3c5fb59c8802b20124c"
   }
  }
 },
 "nbformat": 4,
 "nbformat_minor": 2
}
