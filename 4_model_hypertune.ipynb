{
 "cells": [
  {
   "cell_type": "code",
   "execution_count": 1,
   "metadata": {},
   "outputs": [],
   "source": [
    "import pandas as pd \n",
    "from sklearn.ensemble import RandomForestRegressor\n",
    "from sklearn.model_selection import train_test_split\n",
    "from sklearn.metrics import mean_squared_error, mean_absolute_error, r2_score\n",
    "import numpy as np \n",
    "from sklearn.preprocessing import MinMaxScaler\n",
    "import seaborn as sns \n",
    "from xgboost import XGBRegressor\n",
    "from sklearn.svm import SVR\n",
    "from sklearn.ensemble import RandomForestClassifier\n",
    "from sklearn.metrics import f1_score\n",
    "import xgboost as xgb\n",
    "from datetime import date\n",
    "from statsmodels.stats.weightstats import ttest_ind\n",
    "from scipy.stats import skew\n",
    "from sklearn.model_selection import cross_validate\n",
    "from sklearn.model_selection import ShuffleSplit\n",
    "from sklearn.model_selection import RandomizedSearchCV"
   ]
  },
  {
   "cell_type": "markdown",
   "metadata": {},
   "source": [
    "# Zomato Only"
   ]
  },
  {
   "cell_type": "code",
   "execution_count": 22,
   "metadata": {},
   "outputs": [],
   "source": [
    "df_zom = pd.read_csv('data/3_clean_zomato_feat.csv')\n",
    "\n",
    "df_zom['rest_price_idr'] = df_zom['rest_price_idr'] / 1000\n",
    "df_zom['rest_price_idr'] = df_zom['rest_price_idr'].astype(int)\n",
    "\n",
    "drop_column = ['url','index','rating','lat','long','review','new_code_res_type','new_code_fac']\n",
    "target_column = 'rating'\n",
    "\n",
    "# remove 0 rating\n",
    "df_zom = df_zom[df_zom['rating'] > 0]\n",
    "\n",
    "# scaled the values \n",
    "features_columns = df_zom.drop(drop_column,axis=1).columns\n",
    "features_columns = list(features_columns) + [target_column]\n",
    "scaler = MinMaxScaler()\n",
    "df_input_scale = pd.DataFrame(scaler.fit_transform(df_zom[features_columns]), columns = features_columns)\n",
    "\n",
    "\n",
    "X_train, X_test, y_train, y_test = train_test_split(df_input_scale.drop(target_column, axis=1), df_input_scale[target_column], test_size=0.12, random_state=42)\n",
    "\n",
    "# append result \n",
    "result_zom = {}\n",
    "result_zom['dataset'] = 'zomato'\n",
    "\n",
    "performance_report = []\n"
   ]
  },
  {
   "cell_type": "markdown",
   "metadata": {},
   "source": [
    "## RF "
   ]
  },
  {
   "cell_type": "code",
   "execution_count": 23,
   "metadata": {},
   "outputs": [
    {
     "name": "stderr",
     "output_type": "stream",
     "text": [
      "c:\\Users\\a.rahmadi\\Anaconda3\\lib\\site-packages\\sklearn\\model_selection\\_search.py:285: UserWarning: The total space of parameters 24 is smaller than n_iter=50. Running 24 iterations. For exhaustive searches, use GridSearchCV.\n",
      "  warnings.warn(\n"
     ]
    },
    {
     "name": "stdout",
     "output_type": "stream",
     "text": [
      "Fitting 5 folds for each of 24 candidates, totalling 120 fits\n"
     ]
    }
   ],
   "source": [
    "param_grid = {\n",
    "    'bootstrap': [True],\n",
    "    'max_depth': [30, 50, 100, 250],\n",
    "    'max_features': [2, 3],\n",
    "    'n_estimators': [250, 500, 1000]\n",
    "}# Create a based model\n",
    "\n",
    "scoring = {\"MAE\":'neg_mean_absolute_error',\"MSE\":'neg_mean_squared_error','r2':'r2'}\n",
    "\n",
    "rf = RandomForestRegressor()\n",
    "grid_search = RandomizedSearchCV(estimator = rf, param_distributions = param_grid, \n",
    "                          cv = 5, n_jobs = -1, verbose = 2, scoring='neg_mean_absolute_error', refit = scoring, n_iter= 50)\n",
    "\n",
    "search = grid_search.fit(X_train, y_train)\n",
    "best_param = search.best_params_\n",
    "\n",
    "# performance report\n",
    "y_pred = search.predict(X_test)\n",
    "\n",
    "result_zom['rf'] = best_param\n",
    "result_zom['mae_rf'] = mean_absolute_error(y_pred,y_test)\n",
    "result_zom['mse_rf'] = mean_squared_error(y_pred,y_test)"
   ]
  },
  {
   "cell_type": "markdown",
   "metadata": {},
   "source": [
    "## XGB"
   ]
  },
  {
   "cell_type": "code",
   "execution_count": 24,
   "metadata": {},
   "outputs": [
    {
     "name": "stdout",
     "output_type": "stream",
     "text": [
      "Fitting 5 folds for each of 50 candidates, totalling 250 fits\n"
     ]
    }
   ],
   "source": [
    "param_grid = {\n",
    "    'n_estimators': [100, 500, 900, 1100, 1500],\n",
    "    'max_depth':[2, 3, 5, 10, 15],\n",
    "    'learning_rate':[0.05,0.1,0.15,0.20],\n",
    "    'min_child_weight':[1,2,3,4],\n",
    "    'booster':['gbtree','gblinear'],\n",
    "}# Create a based model\n",
    "\n",
    "scoring = {\"MAE\":'neg_mean_absolute_error',\"MSE\":'neg_mean_squared_error','r2':'r2'}\n",
    "\n",
    "xgb = XGBRegressor()\n",
    "grid_search = RandomizedSearchCV(estimator = xgb, param_distributions = param_grid, \n",
    "                          cv = 5, n_jobs = -1, verbose = 2, scoring='neg_mean_absolute_error', refit = scoring, n_iter= 50)\n",
    "\n",
    "search = grid_search.fit(X_train, y_train)\n",
    "best_param = search.best_params_\n",
    "result_zom['xgb'] = best_param\n",
    "\n",
    "# performance report\n",
    "y_pred = search.predict(X_test)\n",
    "\n",
    "result_zom['mae_xgb'] = mean_absolute_error(y_pred,y_test)\n",
    "result_zom['mse_xgb'] = mean_squared_error(y_pred,y_test)"
   ]
  },
  {
   "cell_type": "markdown",
   "metadata": {},
   "source": [
    "## SVR "
   ]
  },
  {
   "cell_type": "code",
   "execution_count": 25,
   "metadata": {},
   "outputs": [
    {
     "name": "stderr",
     "output_type": "stream",
     "text": [
      "c:\\Users\\a.rahmadi\\Anaconda3\\lib\\site-packages\\sklearn\\model_selection\\_search.py:285: UserWarning: The total space of parameters 15 is smaller than n_iter=50. Running 15 iterations. For exhaustive searches, use GridSearchCV.\n",
      "  warnings.warn(\n"
     ]
    },
    {
     "name": "stdout",
     "output_type": "stream",
     "text": [
      "Fitting 5 folds for each of 15 candidates, totalling 75 fits\n"
     ]
    }
   ],
   "source": [
    "c_range = np.logspace(-0, 4, 8)\n",
    "gamma_range = np.logspace(-4, 0, 8)\n",
    "param_grid = {'kernel' : ['poly'],'C': [0.1, 1, 10, 100, 1000],'gamma': [1, 0.1, 0.01]}\n",
    "\n",
    "\n",
    "scoring = {\"MAE\":'neg_mean_absolute_error',\"MSE\":'neg_mean_squared_error','r2':'r2'}\n",
    "\n",
    "svr = SVR()\n",
    "grid_search = RandomizedSearchCV(estimator = svr, param_distributions = param_grid, \n",
    "                          cv = 5, n_jobs = -1, verbose = 2, scoring = 'neg_mean_absolute_error', refit = scoring, n_iter= 50)\n",
    "\n",
    "search = grid_search.fit(X_train, y_train)\n",
    "best_param = search.best_params_\n",
    "result_zom['svr'] = best_param\n",
    "\n",
    "# performance report\n",
    "y_pred = search.predict(X_test)\n",
    "\n",
    "result_zom['mae_svr'] = mean_absolute_error(y_pred,y_test)\n",
    "result_zom['mse_svr'] = mean_squared_error(y_pred,y_test)"
   ]
  },
  {
   "cell_type": "code",
   "execution_count": 27,
   "metadata": {},
   "outputs": [
    {
     "data": {
      "text/html": [
       "<div>\n",
       "<style scoped>\n",
       "    .dataframe tbody tr th:only-of-type {\n",
       "        vertical-align: middle;\n",
       "    }\n",
       "\n",
       "    .dataframe tbody tr th {\n",
       "        vertical-align: top;\n",
       "    }\n",
       "\n",
       "    .dataframe thead th {\n",
       "        text-align: right;\n",
       "    }\n",
       "</style>\n",
       "<table border=\"1\" class=\"dataframe\">\n",
       "  <thead>\n",
       "    <tr style=\"text-align: right;\">\n",
       "      <th></th>\n",
       "      <th>dataset</th>\n",
       "      <th>rf</th>\n",
       "      <th>mae_rf</th>\n",
       "      <th>mse_rf</th>\n",
       "      <th>xgb</th>\n",
       "      <th>mae_xgb</th>\n",
       "      <th>mse_xgb</th>\n",
       "      <th>svr</th>\n",
       "      <th>mae_svr</th>\n",
       "      <th>mse_svr</th>\n",
       "    </tr>\n",
       "  </thead>\n",
       "  <tbody>\n",
       "    <tr>\n",
       "      <th>n_estimators</th>\n",
       "      <td>zomato</td>\n",
       "      <td>250</td>\n",
       "      <td>0.07482</td>\n",
       "      <td>0.009359</td>\n",
       "      <td>1100</td>\n",
       "      <td>0.076567</td>\n",
       "      <td>0.009439</td>\n",
       "      <td>NaN</td>\n",
       "      <td>0.082527</td>\n",
       "      <td>0.01058</td>\n",
       "    </tr>\n",
       "    <tr>\n",
       "      <th>max_features</th>\n",
       "      <td>zomato</td>\n",
       "      <td>2</td>\n",
       "      <td>0.07482</td>\n",
       "      <td>0.009359</td>\n",
       "      <td>NaN</td>\n",
       "      <td>0.076567</td>\n",
       "      <td>0.009439</td>\n",
       "      <td>NaN</td>\n",
       "      <td>0.082527</td>\n",
       "      <td>0.01058</td>\n",
       "    </tr>\n",
       "    <tr>\n",
       "      <th>max_depth</th>\n",
       "      <td>zomato</td>\n",
       "      <td>50</td>\n",
       "      <td>0.07482</td>\n",
       "      <td>0.009359</td>\n",
       "      <td>3</td>\n",
       "      <td>0.076567</td>\n",
       "      <td>0.009439</td>\n",
       "      <td>NaN</td>\n",
       "      <td>0.082527</td>\n",
       "      <td>0.01058</td>\n",
       "    </tr>\n",
       "    <tr>\n",
       "      <th>bootstrap</th>\n",
       "      <td>zomato</td>\n",
       "      <td>True</td>\n",
       "      <td>0.07482</td>\n",
       "      <td>0.009359</td>\n",
       "      <td>NaN</td>\n",
       "      <td>0.076567</td>\n",
       "      <td>0.009439</td>\n",
       "      <td>NaN</td>\n",
       "      <td>0.082527</td>\n",
       "      <td>0.01058</td>\n",
       "    </tr>\n",
       "    <tr>\n",
       "      <th>min_child_weight</th>\n",
       "      <td>zomato</td>\n",
       "      <td>NaN</td>\n",
       "      <td>0.07482</td>\n",
       "      <td>0.009359</td>\n",
       "      <td>1</td>\n",
       "      <td>0.076567</td>\n",
       "      <td>0.009439</td>\n",
       "      <td>NaN</td>\n",
       "      <td>0.082527</td>\n",
       "      <td>0.01058</td>\n",
       "    </tr>\n",
       "    <tr>\n",
       "      <th>learning_rate</th>\n",
       "      <td>zomato</td>\n",
       "      <td>NaN</td>\n",
       "      <td>0.07482</td>\n",
       "      <td>0.009359</td>\n",
       "      <td>0.05</td>\n",
       "      <td>0.076567</td>\n",
       "      <td>0.009439</td>\n",
       "      <td>NaN</td>\n",
       "      <td>0.082527</td>\n",
       "      <td>0.01058</td>\n",
       "    </tr>\n",
       "    <tr>\n",
       "      <th>booster</th>\n",
       "      <td>zomato</td>\n",
       "      <td>NaN</td>\n",
       "      <td>0.07482</td>\n",
       "      <td>0.009359</td>\n",
       "      <td>gbtree</td>\n",
       "      <td>0.076567</td>\n",
       "      <td>0.009439</td>\n",
       "      <td>NaN</td>\n",
       "      <td>0.082527</td>\n",
       "      <td>0.01058</td>\n",
       "    </tr>\n",
       "    <tr>\n",
       "      <th>kernel</th>\n",
       "      <td>zomato</td>\n",
       "      <td>NaN</td>\n",
       "      <td>0.07482</td>\n",
       "      <td>0.009359</td>\n",
       "      <td>NaN</td>\n",
       "      <td>0.076567</td>\n",
       "      <td>0.009439</td>\n",
       "      <td>poly</td>\n",
       "      <td>0.082527</td>\n",
       "      <td>0.01058</td>\n",
       "    </tr>\n",
       "    <tr>\n",
       "      <th>gamma</th>\n",
       "      <td>zomato</td>\n",
       "      <td>NaN</td>\n",
       "      <td>0.07482</td>\n",
       "      <td>0.009359</td>\n",
       "      <td>NaN</td>\n",
       "      <td>0.076567</td>\n",
       "      <td>0.009439</td>\n",
       "      <td>1</td>\n",
       "      <td>0.082527</td>\n",
       "      <td>0.01058</td>\n",
       "    </tr>\n",
       "    <tr>\n",
       "      <th>C</th>\n",
       "      <td>zomato</td>\n",
       "      <td>NaN</td>\n",
       "      <td>0.07482</td>\n",
       "      <td>0.009359</td>\n",
       "      <td>NaN</td>\n",
       "      <td>0.076567</td>\n",
       "      <td>0.009439</td>\n",
       "      <td>10</td>\n",
       "      <td>0.082527</td>\n",
       "      <td>0.01058</td>\n",
       "    </tr>\n",
       "  </tbody>\n",
       "</table>\n",
       "</div>"
      ],
      "text/plain": [
       "                 dataset    rf   mae_rf    mse_rf     xgb   mae_xgb   mse_xgb  \\\n",
       "n_estimators      zomato   250  0.07482  0.009359    1100  0.076567  0.009439   \n",
       "max_features      zomato     2  0.07482  0.009359     NaN  0.076567  0.009439   \n",
       "max_depth         zomato    50  0.07482  0.009359       3  0.076567  0.009439   \n",
       "bootstrap         zomato  True  0.07482  0.009359     NaN  0.076567  0.009439   \n",
       "min_child_weight  zomato   NaN  0.07482  0.009359       1  0.076567  0.009439   \n",
       "learning_rate     zomato   NaN  0.07482  0.009359    0.05  0.076567  0.009439   \n",
       "booster           zomato   NaN  0.07482  0.009359  gbtree  0.076567  0.009439   \n",
       "kernel            zomato   NaN  0.07482  0.009359     NaN  0.076567  0.009439   \n",
       "gamma             zomato   NaN  0.07482  0.009359     NaN  0.076567  0.009439   \n",
       "C                 zomato   NaN  0.07482  0.009359     NaN  0.076567  0.009439   \n",
       "\n",
       "                   svr   mae_svr  mse_svr  \n",
       "n_estimators       NaN  0.082527  0.01058  \n",
       "max_features       NaN  0.082527  0.01058  \n",
       "max_depth          NaN  0.082527  0.01058  \n",
       "bootstrap          NaN  0.082527  0.01058  \n",
       "min_child_weight   NaN  0.082527  0.01058  \n",
       "learning_rate      NaN  0.082527  0.01058  \n",
       "booster            NaN  0.082527  0.01058  \n",
       "kernel            poly  0.082527  0.01058  \n",
       "gamma                1  0.082527  0.01058  \n",
       "C                   10  0.082527  0.01058  "
      ]
     },
     "execution_count": 27,
     "metadata": {},
     "output_type": "execute_result"
    }
   ],
   "source": [
    "df_result_zom = pd.DataFrame(result_zom)  \n",
    "df_result_zom"
   ]
  },
  {
   "cell_type": "markdown",
   "metadata": {},
   "source": [
    "# Zomato POI 250 "
   ]
  },
  {
   "cell_type": "code",
   "execution_count": 39,
   "metadata": {},
   "outputs": [],
   "source": [
    "df_zom_poi = pd.read_csv('data/3_clean_zomato_gof_250.csv')\n",
    "\n",
    "df_zom_poi['rest_price_idr'] = df_zom_poi['rest_price_idr'] / 1000\n",
    "df_zom_poi['rest_price_idr'] = df_zom_poi['rest_price_idr'].astype(int)\n",
    "\n",
    "drop_column = ['url','index','rating','lat','long','review','new_code_res_type','new_code_fac','geohash','encode']\n",
    "target_column = 'rating'\n",
    "\n",
    "# remove 0 rating\n",
    "df_zom_poi = df_zom_poi[df_zom_poi['rating'] > 0]\n",
    "\n",
    "# scaled the values \n",
    "features_columns = df_zom_poi.drop(drop_column,axis=1).columns\n",
    "features_columns = list(features_columns) + [target_column]\n",
    "scaler = MinMaxScaler()\n",
    "df_input_scale = pd.DataFrame(scaler.fit_transform(df_zom_poi[features_columns]), columns = features_columns)\n",
    "\n",
    "\n",
    "X_train, X_test, y_train, y_test = train_test_split(df_input_scale.drop(target_column, axis=1), df_input_scale[target_column], test_size=0.12, random_state=42)\n",
    "\n",
    "# append result \n",
    "result_zom_poi_250 = {}\n",
    "result_zom_poi_250['dataset'] = 'zomato poi 250'\n",
    "\n",
    "performance_report = []\n"
   ]
  },
  {
   "cell_type": "markdown",
   "metadata": {},
   "source": [
    "## RF"
   ]
  },
  {
   "cell_type": "code",
   "execution_count": 15,
   "metadata": {},
   "outputs": [
    {
     "name": "stderr",
     "output_type": "stream",
     "text": [
      "c:\\Users\\a.rahmadi\\Anaconda3\\lib\\site-packages\\sklearn\\model_selection\\_search.py:285: UserWarning: The total space of parameters 24 is smaller than n_iter=50. Running 24 iterations. For exhaustive searches, use GridSearchCV.\n",
      "  warnings.warn(\n"
     ]
    },
    {
     "name": "stdout",
     "output_type": "stream",
     "text": [
      "Fitting 5 folds for each of 24 candidates, totalling 120 fits\n"
     ]
    }
   ],
   "source": [
    "param_grid = {\n",
    "    'bootstrap': [True],\n",
    "    'max_depth': [30, 50, 100, 250],\n",
    "    'max_features': [2, 3],\n",
    "    'n_estimators': [250, 500, 1000]\n",
    "}# Create a based model\n",
    "\n",
    "scoring = {\"MAE\":'neg_mean_absolute_error',\"MSE\":'neg_mean_squared_error','r2':'r2'}\n",
    "\n",
    "rf = RandomForestRegressor()\n",
    "grid_search = RandomizedSearchCV(estimator = rf, param_distributions = param_grid, \n",
    "                          cv = 5, n_jobs = -1, verbose = 2, scoring='neg_mean_absolute_error', refit = scoring, n_iter= 50)\n",
    "\n",
    "search = grid_search.fit(X_train, y_train)\n",
    "best_param = search.best_params_\n",
    "\n",
    "# performance report\n",
    "y_pred = search.predict(X_test)\n",
    "\n",
    "result_zom_poi_250['rf'] = best_param\n",
    "result_zom_poi_250['mae_rf'] = mean_absolute_error(y_pred,y_test)\n",
    "result_zom_poi_250['mse_rf'] = mean_squared_error(y_pred,y_test)"
   ]
  },
  {
   "cell_type": "markdown",
   "metadata": {},
   "source": [
    "## XGB "
   ]
  },
  {
   "cell_type": "code",
   "execution_count": 17,
   "metadata": {},
   "outputs": [
    {
     "name": "stdout",
     "output_type": "stream",
     "text": [
      "Fitting 5 folds for each of 50 candidates, totalling 250 fits\n"
     ]
    }
   ],
   "source": [
    "param_grid = {\n",
    "    'n_estimators': [100, 500, 900, 1100, 1500],\n",
    "    'max_depth':[2, 3, 5, 10, 15],\n",
    "    'learning_rate':[0.05,0.1,0.15,0.20],\n",
    "    'min_child_weight':[1,2,3,4],\n",
    "    'booster':['gbtree','gblinear'],\n",
    "}# Create a based model\n",
    "\n",
    "scoring = {\"MAE\":'neg_mean_absolute_error',\"MSE\":'neg_mean_squared_error','r2':'r2'}\n",
    "\n",
    "xgb = XGBRegressor()\n",
    "grid_search = RandomizedSearchCV(estimator = xgb, param_distributions = param_grid, \n",
    "                          cv = 5, n_jobs = -1, verbose = 2, scoring='neg_mean_absolute_error', refit = scoring, n_iter= 50)\n",
    "\n",
    "search = grid_search.fit(X_train, y_train)\n",
    "best_param = search.best_params_\n",
    "\n",
    "# performance report\n",
    "y_pred = search.predict(X_test)\n",
    "\n",
    "result_zom_poi_250['rf'] = best_param\n",
    "result_zom_poi_250['mae_xgb'] = mean_absolute_error(y_pred,y_test)\n",
    "result_zom_poi_250['mse_xgb'] = mean_squared_error(y_pred,y_test)"
   ]
  },
  {
   "cell_type": "markdown",
   "metadata": {},
   "source": [
    "## SVR "
   ]
  },
  {
   "cell_type": "code",
   "execution_count": 18,
   "metadata": {},
   "outputs": [
    {
     "name": "stderr",
     "output_type": "stream",
     "text": [
      "c:\\Users\\a.rahmadi\\Anaconda3\\lib\\site-packages\\sklearn\\model_selection\\_search.py:285: UserWarning: The total space of parameters 15 is smaller than n_iter=50. Running 15 iterations. For exhaustive searches, use GridSearchCV.\n",
      "  warnings.warn(\n"
     ]
    },
    {
     "name": "stdout",
     "output_type": "stream",
     "text": [
      "Fitting 5 folds for each of 15 candidates, totalling 75 fits\n"
     ]
    }
   ],
   "source": [
    "c_range = np.logspace(-0, 4, 8)\n",
    "gamma_range = np.logspace(-4, 0, 8)\n",
    "param_grid = {'kernel' : ['poly'],'C': [0.1, 1, 10, 100, 1000],'gamma': [1, 0.1, 0.01]}\n",
    "\n",
    "\n",
    "scoring = {\"MAE\":'neg_mean_absolute_error',\"MSE\":'neg_mean_squared_error','r2':'r2'}\n",
    "\n",
    "svr = SVR()\n",
    "grid_search = RandomizedSearchCV(estimator = svr, param_distributions = param_grid, \n",
    "                          cv = 5, n_jobs = -1, verbose = 2, scoring = 'neg_mean_absolute_error', refit = scoring, n_iter= 50)\n",
    "\n",
    "search = grid_search.fit(X_train, y_train)\n",
    "best_param = search.best_params_\n",
    "\n",
    "# performance report\n",
    "y_pred = search.predict(X_test)\n",
    "\n",
    "result_zom_poi_250['svr'] = best_param\n",
    "result_zom_poi_250['mae_svr'] = mean_absolute_error(y_pred,y_test)\n",
    "result_zom_poi_250['mse_svr'] = mean_squared_error(y_pred,y_test)"
   ]
  },
  {
   "cell_type": "code",
   "execution_count": 28,
   "metadata": {},
   "outputs": [],
   "source": [
    "df_result_zom_250 = pd.DataFrame(result_zom_poi_250)"
   ]
  },
  {
   "cell_type": "markdown",
   "metadata": {},
   "source": [
    "# Zomato POI 500 "
   ]
  },
  {
   "cell_type": "code",
   "execution_count": 31,
   "metadata": {},
   "outputs": [],
   "source": [
    "df_zom_poi = pd.read_csv('data/3_clean_zomato_gof_500.csv')\n",
    "\n",
    "df_zom_poi['rest_price_idr'] = df_zom_poi['rest_price_idr'] / 1000\n",
    "df_zom_poi['rest_price_idr'] = df_zom_poi['rest_price_idr'].astype(int)\n",
    "\n",
    "drop_column = ['url','index','rating','lat','long','review','new_code_res_type','new_code_fac','geohash','encode']\n",
    "target_column = 'rating'\n",
    "\n",
    "# remove 0 rating\n",
    "df_zom_poi = df_zom_poi[df_zom_poi['rating'] > 0]\n",
    "\n",
    "# scaled the values \n",
    "features_columns = df_zom_poi.drop(drop_column,axis=1).columns\n",
    "features_columns = list(features_columns) + [target_column]\n",
    "scaler = MinMaxScaler()\n",
    "df_input_scale = pd.DataFrame(scaler.fit_transform(df_zom_poi[features_columns]), columns = features_columns)\n",
    "\n",
    "\n",
    "X_train, X_test, y_train, y_test = train_test_split(df_input_scale.drop(target_column, axis=1), df_input_scale[target_column], test_size=0.12, random_state=42)\n",
    "\n",
    "# append result \n",
    "result_zom_poi_500 = {}\n",
    "result_zom_poi_500['dataset'] = 'zomato poi 500'\n",
    "\n",
    "performance_report = []\n"
   ]
  },
  {
   "cell_type": "markdown",
   "metadata": {},
   "source": [
    "## RF "
   ]
  },
  {
   "cell_type": "code",
   "execution_count": 32,
   "metadata": {},
   "outputs": [
    {
     "name": "stderr",
     "output_type": "stream",
     "text": [
      "c:\\Users\\a.rahmadi\\Anaconda3\\lib\\site-packages\\sklearn\\model_selection\\_search.py:285: UserWarning: The total space of parameters 24 is smaller than n_iter=50. Running 24 iterations. For exhaustive searches, use GridSearchCV.\n",
      "  warnings.warn(\n"
     ]
    },
    {
     "name": "stdout",
     "output_type": "stream",
     "text": [
      "Fitting 5 folds for each of 24 candidates, totalling 120 fits\n"
     ]
    }
   ],
   "source": [
    "param_grid = {\n",
    "    'bootstrap': [True],\n",
    "    'max_depth': [30, 50, 100, 250],\n",
    "    'max_features': [2, 3],\n",
    "    'n_estimators': [250, 500, 1000]\n",
    "}# Create a based model\n",
    "\n",
    "scoring = {\"MAE\":'neg_mean_absolute_error',\"MSE\":'neg_mean_squared_error','r2':'r2'}\n",
    "\n",
    "rf = RandomForestRegressor()\n",
    "grid_search = RandomizedSearchCV(estimator = rf, param_distributions = param_grid, \n",
    "                          cv = 5, n_jobs = -1, verbose = 2, scoring='neg_mean_absolute_error', refit = scoring, n_iter= 50)\n",
    "\n",
    "search = grid_search.fit(X_train, y_train)\n",
    "best_param = search.best_params_\n",
    "\n",
    "# performance report\n",
    "y_pred = search.predict(X_test)\n",
    "\n",
    "result_zom_poi_500['rf'] = best_param\n",
    "result_zom_poi_500['mae_rf'] = mean_absolute_error(y_pred,y_test)\n",
    "result_zom_poi_500['mse_rf'] = mean_squared_error(y_pred,y_test)"
   ]
  },
  {
   "cell_type": "markdown",
   "metadata": {},
   "source": [
    "## XGB "
   ]
  },
  {
   "cell_type": "code",
   "execution_count": 33,
   "metadata": {},
   "outputs": [
    {
     "name": "stdout",
     "output_type": "stream",
     "text": [
      "Fitting 5 folds for each of 50 candidates, totalling 250 fits\n"
     ]
    }
   ],
   "source": [
    "param_grid = {\n",
    "    'n_estimators': [100, 500, 900, 1100, 1500],\n",
    "    'max_depth':[2, 3, 5, 10, 15],\n",
    "    'learning_rate':[0.05,0.1,0.15,0.20],\n",
    "    'min_child_weight':[1,2,3,4],\n",
    "    'booster':['gbtree','gblinear'],\n",
    "}# Create a based model\n",
    "\n",
    "scoring = {\"MAE\":'neg_mean_absolute_error',\"MSE\":'neg_mean_squared_error','r2':'r2'}\n",
    "\n",
    "xgb = XGBRegressor()\n",
    "grid_search = RandomizedSearchCV(estimator = xgb, param_distributions = param_grid, \n",
    "                          cv = 5, n_jobs = -1, verbose = 2, scoring='neg_mean_absolute_error', refit = scoring, n_iter= 50)\n",
    "\n",
    "search = grid_search.fit(X_train, y_train)\n",
    "best_param = search.best_params_\n",
    "\n",
    "# performance report\n",
    "y_pred = search.predict(X_test)\n",
    "\n",
    "result_zom_poi_500['rf'] = best_param\n",
    "result_zom_poi_500['mae_xgb'] = mean_absolute_error(y_pred,y_test)\n",
    "result_zom_poi_500['mse_xgb'] = mean_squared_error(y_pred,y_test)"
   ]
  },
  {
   "cell_type": "markdown",
   "metadata": {},
   "source": [
    "## SVR "
   ]
  },
  {
   "cell_type": "code",
   "execution_count": 34,
   "metadata": {},
   "outputs": [
    {
     "name": "stderr",
     "output_type": "stream",
     "text": [
      "c:\\Users\\a.rahmadi\\Anaconda3\\lib\\site-packages\\sklearn\\model_selection\\_search.py:285: UserWarning: The total space of parameters 15 is smaller than n_iter=50. Running 15 iterations. For exhaustive searches, use GridSearchCV.\n",
      "  warnings.warn(\n"
     ]
    },
    {
     "name": "stdout",
     "output_type": "stream",
     "text": [
      "Fitting 5 folds for each of 15 candidates, totalling 75 fits\n"
     ]
    }
   ],
   "source": [
    "c_range = np.logspace(-0, 4, 8)\n",
    "gamma_range = np.logspace(-4, 0, 8)\n",
    "param_grid = {'kernel' : ['poly'],'C': [0.1, 1, 10, 100, 1000],'gamma': [1, 0.1, 0.01]}\n",
    "\n",
    "\n",
    "scoring = {\"MAE\":'neg_mean_absolute_error',\"MSE\":'neg_mean_squared_error','r2':'r2'}\n",
    "\n",
    "svr = SVR()\n",
    "grid_search = RandomizedSearchCV(estimator = svr, param_distributions = param_grid, \n",
    "                          cv = 5, n_jobs = -1, verbose = 2, scoring = 'neg_mean_absolute_error', refit = scoring, n_iter= 50)\n",
    "\n",
    "search = grid_search.fit(X_train, y_train)\n",
    "best_param = search.best_params_\n",
    "\n",
    "# performance report\n",
    "y_pred = search.predict(X_test)\n",
    "\n",
    "result_zom_poi_500['svr'] = best_param\n",
    "result_zom_poi_500['mae_svr'] = mean_absolute_error(y_pred,y_test)\n",
    "result_zom_poi_500['mse_svr'] = mean_squared_error(y_pred,y_test)"
   ]
  },
  {
   "cell_type": "code",
   "execution_count": 35,
   "metadata": {},
   "outputs": [],
   "source": [
    "df_result_zom_500 = pd.DataFrame(result_zom_poi_500)"
   ]
  },
  {
   "cell_type": "code",
   "execution_count": 36,
   "metadata": {},
   "outputs": [
    {
     "data": {
      "text/html": [
       "<div>\n",
       "<style scoped>\n",
       "    .dataframe tbody tr th:only-of-type {\n",
       "        vertical-align: middle;\n",
       "    }\n",
       "\n",
       "    .dataframe tbody tr th {\n",
       "        vertical-align: top;\n",
       "    }\n",
       "\n",
       "    .dataframe thead th {\n",
       "        text-align: right;\n",
       "    }\n",
       "</style>\n",
       "<table border=\"1\" class=\"dataframe\">\n",
       "  <thead>\n",
       "    <tr style=\"text-align: right;\">\n",
       "      <th></th>\n",
       "      <th>dataset</th>\n",
       "      <th>rf</th>\n",
       "      <th>mae_rf</th>\n",
       "      <th>mse_rf</th>\n",
       "      <th>mae_xgb</th>\n",
       "      <th>mse_xgb</th>\n",
       "      <th>svr</th>\n",
       "      <th>mae_svr</th>\n",
       "      <th>mse_svr</th>\n",
       "    </tr>\n",
       "  </thead>\n",
       "  <tbody>\n",
       "    <tr>\n",
       "      <th>n_estimators</th>\n",
       "      <td>zomato poi 500</td>\n",
       "      <td>900</td>\n",
       "      <td>0.07559</td>\n",
       "      <td>0.009366</td>\n",
       "      <td>0.076131</td>\n",
       "      <td>0.009481</td>\n",
       "      <td>NaN</td>\n",
       "      <td>0.079441</td>\n",
       "      <td>0.010055</td>\n",
       "    </tr>\n",
       "    <tr>\n",
       "      <th>min_child_weight</th>\n",
       "      <td>zomato poi 500</td>\n",
       "      <td>4</td>\n",
       "      <td>0.07559</td>\n",
       "      <td>0.009366</td>\n",
       "      <td>0.076131</td>\n",
       "      <td>0.009481</td>\n",
       "      <td>NaN</td>\n",
       "      <td>0.079441</td>\n",
       "      <td>0.010055</td>\n",
       "    </tr>\n",
       "    <tr>\n",
       "      <th>max_depth</th>\n",
       "      <td>zomato poi 500</td>\n",
       "      <td>3</td>\n",
       "      <td>0.07559</td>\n",
       "      <td>0.009366</td>\n",
       "      <td>0.076131</td>\n",
       "      <td>0.009481</td>\n",
       "      <td>NaN</td>\n",
       "      <td>0.079441</td>\n",
       "      <td>0.010055</td>\n",
       "    </tr>\n",
       "    <tr>\n",
       "      <th>learning_rate</th>\n",
       "      <td>zomato poi 500</td>\n",
       "      <td>0.05</td>\n",
       "      <td>0.07559</td>\n",
       "      <td>0.009366</td>\n",
       "      <td>0.076131</td>\n",
       "      <td>0.009481</td>\n",
       "      <td>NaN</td>\n",
       "      <td>0.079441</td>\n",
       "      <td>0.010055</td>\n",
       "    </tr>\n",
       "    <tr>\n",
       "      <th>booster</th>\n",
       "      <td>zomato poi 500</td>\n",
       "      <td>gbtree</td>\n",
       "      <td>0.07559</td>\n",
       "      <td>0.009366</td>\n",
       "      <td>0.076131</td>\n",
       "      <td>0.009481</td>\n",
       "      <td>NaN</td>\n",
       "      <td>0.079441</td>\n",
       "      <td>0.010055</td>\n",
       "    </tr>\n",
       "    <tr>\n",
       "      <th>kernel</th>\n",
       "      <td>zomato poi 500</td>\n",
       "      <td>NaN</td>\n",
       "      <td>0.07559</td>\n",
       "      <td>0.009366</td>\n",
       "      <td>0.076131</td>\n",
       "      <td>0.009481</td>\n",
       "      <td>poly</td>\n",
       "      <td>0.079441</td>\n",
       "      <td>0.010055</td>\n",
       "    </tr>\n",
       "    <tr>\n",
       "      <th>gamma</th>\n",
       "      <td>zomato poi 500</td>\n",
       "      <td>NaN</td>\n",
       "      <td>0.07559</td>\n",
       "      <td>0.009366</td>\n",
       "      <td>0.076131</td>\n",
       "      <td>0.009481</td>\n",
       "      <td>0.1</td>\n",
       "      <td>0.079441</td>\n",
       "      <td>0.010055</td>\n",
       "    </tr>\n",
       "    <tr>\n",
       "      <th>C</th>\n",
       "      <td>zomato poi 500</td>\n",
       "      <td>NaN</td>\n",
       "      <td>0.07559</td>\n",
       "      <td>0.009366</td>\n",
       "      <td>0.076131</td>\n",
       "      <td>0.009481</td>\n",
       "      <td>100</td>\n",
       "      <td>0.079441</td>\n",
       "      <td>0.010055</td>\n",
       "    </tr>\n",
       "  </tbody>\n",
       "</table>\n",
       "</div>"
      ],
      "text/plain": [
       "                         dataset      rf   mae_rf    mse_rf   mae_xgb  \\\n",
       "n_estimators      zomato poi 500     900  0.07559  0.009366  0.076131   \n",
       "min_child_weight  zomato poi 500       4  0.07559  0.009366  0.076131   \n",
       "max_depth         zomato poi 500       3  0.07559  0.009366  0.076131   \n",
       "learning_rate     zomato poi 500    0.05  0.07559  0.009366  0.076131   \n",
       "booster           zomato poi 500  gbtree  0.07559  0.009366  0.076131   \n",
       "kernel            zomato poi 500     NaN  0.07559  0.009366  0.076131   \n",
       "gamma             zomato poi 500     NaN  0.07559  0.009366  0.076131   \n",
       "C                 zomato poi 500     NaN  0.07559  0.009366  0.076131   \n",
       "\n",
       "                   mse_xgb   svr   mae_svr   mse_svr  \n",
       "n_estimators      0.009481   NaN  0.079441  0.010055  \n",
       "min_child_weight  0.009481   NaN  0.079441  0.010055  \n",
       "max_depth         0.009481   NaN  0.079441  0.010055  \n",
       "learning_rate     0.009481   NaN  0.079441  0.010055  \n",
       "booster           0.009481   NaN  0.079441  0.010055  \n",
       "kernel            0.009481  poly  0.079441  0.010055  \n",
       "gamma             0.009481   0.1  0.079441  0.010055  \n",
       "C                 0.009481   100  0.079441  0.010055  "
      ]
     },
     "execution_count": 36,
     "metadata": {},
     "output_type": "execute_result"
    }
   ],
   "source": [
    "df_result_zom_500"
   ]
  },
  {
   "cell_type": "code",
   "execution_count": null,
   "metadata": {},
   "outputs": [],
   "source": []
  }
 ],
 "metadata": {
  "kernelspec": {
   "display_name": "Python 3.8.8 ('base')",
   "language": "python",
   "name": "python3"
  },
  "language_info": {
   "codemirror_mode": {
    "name": "ipython",
    "version": 3
   },
   "file_extension": ".py",
   "mimetype": "text/x-python",
   "name": "python",
   "nbconvert_exporter": "python",
   "pygments_lexer": "ipython3",
   "version": "3.8.8"
  },
  "orig_nbformat": 4,
  "vscode": {
   "interpreter": {
    "hash": "9980599ad9850bdffd342280c0ae1db934122879fcb1d3c5fb59c8802b20124c"
   }
  }
 },
 "nbformat": 4,
 "nbformat_minor": 2
}
