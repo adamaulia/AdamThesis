{
 "cells": [
  {
   "cell_type": "code",
   "execution_count": 5,
   "metadata": {},
   "outputs": [],
   "source": [
    "import pandas as pd \n",
    "from sklearn.ensemble import RandomForestRegressor\n",
    "from sklearn.model_selection import train_test_split\n",
    "from sklearn.metrics import mean_squared_error, mean_absolute_error, r2_score\n",
    "import numpy as np \n",
    "from sklearn.preprocessing import MinMaxScaler\n",
    "import seaborn as sns \n",
    "from xgboost import XGBRegressor\n",
    "from sklearn.svm import SVR\n",
    "from sklearn.ensemble import RandomForestClassifier\n",
    "from sklearn.metrics import f1_score\n",
    "import xgboost as xgb\n",
    "from datetime import date\n",
    "from statsmodels.stats.weightstats import ttest_ind\n",
    "from scipy.stats import skew\n",
    "from sklearn.model_selection import cross_validate\n",
    "from sklearn.model_selection import ShuffleSplit\n",
    "from sklearn.model_selection import RandomizedSearchCV"
   ]
  },
  {
   "cell_type": "markdown",
   "metadata": {},
   "source": [
    "# Zomato Only"
   ]
  },
  {
   "cell_type": "code",
   "execution_count": 6,
   "metadata": {},
   "outputs": [],
   "source": [
    "df_zom = pd.read_csv('data/3_jak_clean_zomato_feat.csv')\n",
    "\n",
    "df_zom['rest_price_idr'] = df_zom['rest_price_idr'] / 1000\n",
    "df_zom['rest_price_idr'] = df_zom['rest_price_idr'].astype(int)\n",
    "\n",
    "drop_column = ['url','index','rating','lat','long','review','new_code_res_type','new_code_fac']\n",
    "target_column = 'rating'\n",
    "\n",
    "\n",
    "# scaled the values \n",
    "features_columns = df_zom.drop(drop_column,axis=1).columns\n",
    "features_columns = list(features_columns) + [target_column]\n",
    "scaler = MinMaxScaler()\n",
    "df_input_scale = pd.DataFrame(scaler.fit_transform(df_zom[features_columns]), columns = features_columns)\n",
    "# remove 0 rating\n",
    "df_input_scale = df_input_scale[df_input_scale['rating'] > 0]\n",
    "\n",
    "X_train, X_test, y_train, y_test = train_test_split(df_input_scale.drop(target_column, axis=1), df_input_scale[target_column], test_size=0.12, random_state=42)\n",
    "\n",
    "result_zom = []"
   ]
  },
  {
   "cell_type": "markdown",
   "metadata": {},
   "source": [
    "## RF "
   ]
  },
  {
   "cell_type": "code",
   "execution_count": 18,
   "metadata": {},
   "outputs": [
    {
     "name": "stderr",
     "output_type": "stream",
     "text": [
      "c:\\Users\\a.rahmadi\\Anaconda3\\lib\\site-packages\\sklearn\\model_selection\\_search.py:285: UserWarning: The total space of parameters 24 is smaller than n_iter=50. Running 24 iterations. For exhaustive searches, use GridSearchCV.\n",
      "  warnings.warn(\n"
     ]
    },
    {
     "name": "stdout",
     "output_type": "stream",
     "text": [
      "Fitting 5 folds for each of 24 candidates, totalling 120 fits\n"
     ]
    }
   ],
   "source": [
    "param_grid = {\n",
    "    'bootstrap': [True],\n",
    "    'max_depth': [30, 50, 100, 250],\n",
    "    'max_features': [2, 3],\n",
    "    'n_estimators': [250, 500, 1000]\n",
    "}# Create a based model\n",
    "\n",
    "scoring = {\"MAE\":'neg_mean_absolute_error',\"MSE\":'neg_mean_squared_error','r2':'r2'}\n",
    "\n",
    "rf = RandomForestRegressor()\n",
    "grid_search = RandomizedSearchCV(estimator = rf, param_distributions = param_grid, \n",
    "                          cv = 5, n_jobs = -1, verbose = 2, refit = scoring, n_iter= 50)\n",
    "\n",
    "search = grid_search.fit(X_train, y_train)\n",
    "best_param = search.best_params_\n",
    "best_param['algo'] = 'rf'\n",
    "best_param['dataset'] = 'zomato'\n",
    "result_zom.append(best_param)"
   ]
  },
  {
   "cell_type": "markdown",
   "metadata": {},
   "source": [
    "## XGB"
   ]
  },
  {
   "cell_type": "code",
   "execution_count": 21,
   "metadata": {},
   "outputs": [],
   "source": [
    "param_grid = {\n",
    "    'n_estimators': [100, 500, 900, 1100, 1500],\n",
    "    'max_depth':[2, 3, 5, 10, 15],\n",
    "    'learning_rate':[0.05,0.1,0.15,0.20],\n",
    "    'min_child_weight':[1,2,3,4],\n",
    "    'booster':['gbtree','gblinear'],\n",
    "}# Create a based model\n",
    "\n",
    "scoring = {\"MAE\":'neg_mean_absolute_error',\"MSE\":'neg_mean_squared_error','r2':'r2'}\n",
    "\n",
    "xgb = XGBRegressor()\n",
    "grid_search = RandomizedSearchCV(estimator = xgb, param_distributions = param_grid, \n",
    "                          cv = 5, n_jobs = -1, verbose = 2, refit = scoring, n_iter= 50)\n",
    "\n",
    "search = grid_search.fit(X_train, y_train)\n",
    "best_param = search.best_params_\n",
    "best_param['algo'] = 'xgb'\n",
    "best_param['dataset'] = 'zomato'\n",
    "result_zom.append(best_param)"
   ]
  },
  {
   "cell_type": "markdown",
   "metadata": {},
   "source": [
    "## SVR "
   ]
  },
  {
   "cell_type": "code",
   "execution_count": null,
   "metadata": {},
   "outputs": [],
   "source": [
    "param_grid = {\n",
    "    'kernel':'poly',\n",
    "    'C': [0.1, 1, 10, 100, 1000],\n",
    "    'gamma': [1, 0.1, 0.01, 0.001, 0.0001]\n",
    "}# Create a based model\n",
    "\n",
    "\n",
    "scoring = {\"MAE\":'neg_mean_absolute_error',\"MSE\":'neg_mean_squared_error','r2':'r2'}\n",
    "\n",
    "svr = SVR()\n",
    "grid_search = RandomizedSearchCV(estimator = svr, param_distributions = param_grid, \n",
    "                          cv = 5, n_jobs = -1, verbose = 2, refit = scoring, n_iter= 50)\n",
    "\n",
    "search = grid_search.fit(X_train, y_train)\n",
    "best_param = search.best_params_\n",
    "best_param['algo'] = 'svr'\n",
    "best_param['dataset'] = 'zomato'\n",
    "result_zom.append(best_param)"
   ]
  }
 ],
 "metadata": {
  "kernelspec": {
   "display_name": "Python 3.8.8 ('base')",
   "language": "python",
   "name": "python3"
  },
  "language_info": {
   "codemirror_mode": {
    "name": "ipython",
    "version": 3
   },
   "file_extension": ".py",
   "mimetype": "text/x-python",
   "name": "python",
   "nbconvert_exporter": "python",
   "pygments_lexer": "ipython3",
   "version": "3.8.8"
  },
  "orig_nbformat": 4,
  "vscode": {
   "interpreter": {
    "hash": "9980599ad9850bdffd342280c0ae1db934122879fcb1d3c5fb59c8802b20124c"
   }
  }
 },
 "nbformat": 4,
 "nbformat_minor": 2
}
