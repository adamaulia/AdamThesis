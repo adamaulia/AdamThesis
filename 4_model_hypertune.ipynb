{
 "cells": [
  {
   "cell_type": "code",
   "execution_count": 1,
   "metadata": {},
   "outputs": [],
   "source": [
    "import pandas as pd \n",
    "from sklearn.ensemble import RandomForestRegressor\n",
    "from sklearn.model_selection import train_test_split\n",
    "from sklearn.metrics import mean_squared_error, mean_absolute_error, r2_score\n",
    "import numpy as np \n",
    "from sklearn.preprocessing import MinMaxScaler\n",
    "import seaborn as sns \n",
    "from xgboost import XGBRegressor\n",
    "from sklearn.svm import SVR\n",
    "from sklearn.ensemble import RandomForestClassifier\n",
    "from sklearn.metrics import f1_score\n",
    "import xgboost as xgb\n",
    "from datetime import date\n",
    "from statsmodels.stats.weightstats import ttest_ind\n",
    "from scipy.stats import skew\n",
    "from sklearn.model_selection import cross_validate\n",
    "from sklearn.model_selection import ShuffleSplit\n",
    "from sklearn.model_selection import RandomizedSearchCV"
   ]
  },
  {
   "cell_type": "code",
   "execution_count": 3,
   "metadata": {},
   "outputs": [],
   "source": [
    "df_zom = pd.read_csv('data/3_jbdk_clean_zomato_feat.csv')\n",
    "\n",
    "df_zom['rest_price_idr'] = df_zom['rest_price_idr'] / 1000\n",
    "df_zom['rest_price_idr'] = df_zom['rest_price_idr'].astype(int)\n",
    "\n",
    "drop_column = ['url','index','rating','lat','long','review','new_code_res_type','new_code_fac']\n",
    "target_column = 'rating'\n",
    "\n",
    "\n",
    "# scaled the values \n",
    "features_columns = df_zom.drop(drop_column,axis=1).columns\n",
    "features_columns = list(features_columns) + [target_column]\n",
    "scaler = MinMaxScaler()\n",
    "df_input_scale = pd.DataFrame(scaler.fit_transform(df_zom[features_columns]), columns = features_columns)\n",
    "# remove 0 rating\n",
    "df_input_scale = df_input_scale[df_input_scale['rating'] > 0]\n",
    "\n",
    "X_train, X_test, y_train, y_test = train_test_split(df_input_scale.drop(target_column, axis=1), df_input_scale[target_column], test_size=0.12, random_state=42)\n",
    "\n"
   ]
  },
  {
   "cell_type": "code",
   "execution_count": null,
   "metadata": {},
   "outputs": [],
   "source": [
    "param_grid = {\n",
    "    'bootstrap': [True],\n",
    "    'max_depth': [30, 50, 100, 250],\n",
    "    'max_features': [2, 3],\n",
    "    'n_estimators': [30, 50, 100, 250]\n",
    "}# Create a based model\n",
    "\n",
    "scoring = ['neg_mean_absolute_error','neg_mean_squared_error','r2']\n",
    "\n",
    "rf = RandomForestRegressor()\n",
    "grid_search = RandomizedSearchCV(estimator = rf, param_grid = param_grid, \n",
    "                          cv = 3, n_jobs = -1, verbose = 2, scoring = scoring)\n",
    "\n",
    "search = grid_search.fit(X_train, y_train)"
   ]
  }
 ],
 "metadata": {
  "kernelspec": {
   "display_name": "Python 3.8.8 ('base')",
   "language": "python",
   "name": "python3"
  },
  "language_info": {
   "codemirror_mode": {
    "name": "ipython",
    "version": 3
   },
   "file_extension": ".py",
   "mimetype": "text/x-python",
   "name": "python",
   "nbconvert_exporter": "python",
   "pygments_lexer": "ipython3",
   "version": "3.8.8"
  },
  "orig_nbformat": 4,
  "vscode": {
   "interpreter": {
    "hash": "9980599ad9850bdffd342280c0ae1db934122879fcb1d3c5fb59c8802b20124c"
   }
  }
 },
 "nbformat": 4,
 "nbformat_minor": 2
}
