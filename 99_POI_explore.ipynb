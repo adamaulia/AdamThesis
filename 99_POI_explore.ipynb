{
 "cells": [
  {
   "cell_type": "code",
   "execution_count": 1,
   "metadata": {},
   "outputs": [],
   "source": [
    "import pandas as pd "
   ]
  },
  {
   "cell_type": "code",
   "execution_count": 2,
   "metadata": {},
   "outputs": [],
   "source": [
    "df = pd.read_csv('D:/works/XL/data/google_poi.csv')"
   ]
  },
  {
   "cell_type": "code",
   "execution_count": 3,
   "metadata": {},
   "outputs": [
    {
     "data": {
      "text/html": [
       "<div>\n",
       "<style scoped>\n",
       "    .dataframe tbody tr th:only-of-type {\n",
       "        vertical-align: middle;\n",
       "    }\n",
       "\n",
       "    .dataframe tbody tr th {\n",
       "        vertical-align: top;\n",
       "    }\n",
       "\n",
       "    .dataframe thead th {\n",
       "        text-align: right;\n",
       "    }\n",
       "</style>\n",
       "<table border=\"1\" class=\"dataframe\">\n",
       "  <thead>\n",
       "    <tr style=\"text-align: right;\">\n",
       "      <th></th>\n",
       "      <th>city</th>\n",
       "      <th>poi_type</th>\n",
       "      <th>name</th>\n",
       "      <th>lat_poi</th>\n",
       "      <th>long_poi</th>\n",
       "      <th>geohash_poi_8</th>\n",
       "    </tr>\n",
       "  </thead>\n",
       "  <tbody>\n",
       "    <tr>\n",
       "      <th>0</th>\n",
       "      <td>Balikpapan</td>\n",
       "      <td>restaurant</td>\n",
       "      <td>RM PENDOPO 1 AYAM KAMPUNG Asli</td>\n",
       "      <td>-1.231275</td>\n",
       "      <td>116.878273</td>\n",
       "      <td>qxg0gxu5</td>\n",
       "    </tr>\n",
       "    <tr>\n",
       "      <th>1</th>\n",
       "      <td>Balikpapan</td>\n",
       "      <td>cafe</td>\n",
       "      <td>Salome Ningrat</td>\n",
       "      <td>-1.265887</td>\n",
       "      <td>116.847133</td>\n",
       "      <td>qxg0fct3</td>\n",
       "    </tr>\n",
       "    <tr>\n",
       "      <th>2</th>\n",
       "      <td>Depok</td>\n",
       "      <td>school</td>\n",
       "      <td>State Senior High School 10</td>\n",
       "      <td>-6.393549</td>\n",
       "      <td>106.732436</td>\n",
       "      <td>qqggsu04</td>\n",
       "    </tr>\n",
       "    <tr>\n",
       "      <th>3</th>\n",
       "      <td>Depok</td>\n",
       "      <td>store</td>\n",
       "      <td>GUARDIAN - Giant Sawangan</td>\n",
       "      <td>-6.401463</td>\n",
       "      <td>106.742004</td>\n",
       "      <td>qqggsfxh</td>\n",
       "    </tr>\n",
       "    <tr>\n",
       "      <th>4</th>\n",
       "      <td>Depok</td>\n",
       "      <td>store</td>\n",
       "      <td>Pegadaian</td>\n",
       "      <td>-6.407767</td>\n",
       "      <td>106.803429</td>\n",
       "      <td>qqggw3eb</td>\n",
       "    </tr>\n",
       "  </tbody>\n",
       "</table>\n",
       "</div>"
      ],
      "text/plain": [
       "         city    poi_type                            name   lat_poi  \\\n",
       "0  Balikpapan  restaurant  RM PENDOPO 1 AYAM KAMPUNG Asli -1.231275   \n",
       "1  Balikpapan        cafe                  Salome Ningrat -1.265887   \n",
       "2       Depok      school     State Senior High School 10 -6.393549   \n",
       "3       Depok       store       GUARDIAN - Giant Sawangan -6.401463   \n",
       "4       Depok       store                       Pegadaian -6.407767   \n",
       "\n",
       "     long_poi geohash_poi_8  \n",
       "0  116.878273      qxg0gxu5  \n",
       "1  116.847133      qxg0fct3  \n",
       "2  106.732436      qqggsu04  \n",
       "3  106.742004      qqggsfxh  \n",
       "4  106.803429      qqggw3eb  "
      ]
     },
     "execution_count": 3,
     "metadata": {},
     "output_type": "execute_result"
    }
   ],
   "source": [
    "df.head()"
   ]
  },
  {
   "cell_type": "code",
   "execution_count": 4,
   "metadata": {},
   "outputs": [
    {
     "data": {
      "text/plain": [
       "Bandung           59027\n",
       "Yogyakarta        53268\n",
       "Bogor             52458\n",
       "Surabaya          47024\n",
       "Jaktim            43203\n",
       "                  ...  \n",
       "Sumenep            1495\n",
       "Sibolga            1294\n",
       "Bima               1291\n",
       "Kotamobago         1200\n",
       "Poliwalimandar     1039\n",
       "Name: city, Length: 95, dtype: int64"
      ]
     },
     "execution_count": 4,
     "metadata": {},
     "output_type": "execute_result"
    }
   ],
   "source": [
    "df['city'].value_counts()"
   ]
  },
  {
   "cell_type": "code",
   "execution_count": 13,
   "metadata": {},
   "outputs": [
    {
     "data": {
      "text/plain": [
       "Jaktim    43203\n",
       "Jaksel    32634\n",
       "Jakbar    28259\n",
       "Jakut     25496\n",
       "Jakpus    15497\n",
       "Name: city, dtype: int64"
      ]
     },
     "execution_count": 13,
     "metadata": {},
     "output_type": "execute_result"
    }
   ],
   "source": [
    "df[df['city'].str.contains(\"Jak\")]['city'].value_counts()"
   ]
  },
  {
   "cell_type": "code",
   "execution_count": 18,
   "metadata": {},
   "outputs": [],
   "source": [
    "df_jak_res = df[(df['city'].str.contains(\"Jak\")) & (df['poi_type'].str.contains(\"cafe|restaurant|meal_takeaway\"))]"
   ]
  },
  {
   "cell_type": "code",
   "execution_count": 19,
   "metadata": {},
   "outputs": [
    {
     "data": {
      "text/html": [
       "<div>\n",
       "<style scoped>\n",
       "    .dataframe tbody tr th:only-of-type {\n",
       "        vertical-align: middle;\n",
       "    }\n",
       "\n",
       "    .dataframe tbody tr th {\n",
       "        vertical-align: top;\n",
       "    }\n",
       "\n",
       "    .dataframe thead th {\n",
       "        text-align: right;\n",
       "    }\n",
       "</style>\n",
       "<table border=\"1\" class=\"dataframe\">\n",
       "  <thead>\n",
       "    <tr style=\"text-align: right;\">\n",
       "      <th></th>\n",
       "      <th>city</th>\n",
       "      <th>poi_type</th>\n",
       "      <th>name</th>\n",
       "      <th>lat_poi</th>\n",
       "      <th>long_poi</th>\n",
       "      <th>geohash_poi_8</th>\n",
       "    </tr>\n",
       "  </thead>\n",
       "  <tbody>\n",
       "    <tr>\n",
       "      <th>93</th>\n",
       "      <td>Jakbar</td>\n",
       "      <td>cafe</td>\n",
       "      <td>The Coffee Bean &amp; Tea Leaf</td>\n",
       "      <td>-6.127406</td>\n",
       "      <td>106.713760</td>\n",
       "      <td>qqgvhkd9</td>\n",
       "    </tr>\n",
       "    <tr>\n",
       "      <th>101</th>\n",
       "      <td>Jaktim</td>\n",
       "      <td>cafe</td>\n",
       "      <td>Warsen Kuyy</td>\n",
       "      <td>-6.240120</td>\n",
       "      <td>106.950559</td>\n",
       "      <td>qquh98p0</td>\n",
       "    </tr>\n",
       "    <tr>\n",
       "      <th>348</th>\n",
       "      <td>Jaktim</td>\n",
       "      <td>restaurant</td>\n",
       "      <td>AYAM PENYET AA GHODAY</td>\n",
       "      <td>-6.193280</td>\n",
       "      <td>106.922564</td>\n",
       "      <td>qquhc0d9</td>\n",
       "    </tr>\n",
       "    <tr>\n",
       "      <th>370</th>\n",
       "      <td>Jaksel</td>\n",
       "      <td>restaurant</td>\n",
       "      <td>Anomali Coffee Kemang</td>\n",
       "      <td>-6.267305</td>\n",
       "      <td>106.815452</td>\n",
       "      <td>qqguqehd</td>\n",
       "    </tr>\n",
       "    <tr>\n",
       "      <th>371</th>\n",
       "      <td>Jaksel</td>\n",
       "      <td>cafe</td>\n",
       "      <td>suharnp</td>\n",
       "      <td>-6.304474</td>\n",
       "      <td>106.771656</td>\n",
       "      <td>qqgujsk9</td>\n",
       "    </tr>\n",
       "  </tbody>\n",
       "</table>\n",
       "</div>"
      ],
      "text/plain": [
       "       city    poi_type                        name   lat_poi    long_poi  \\\n",
       "93   Jakbar        cafe  The Coffee Bean & Tea Leaf -6.127406  106.713760   \n",
       "101  Jaktim        cafe                 Warsen Kuyy -6.240120  106.950559   \n",
       "348  Jaktim  restaurant       AYAM PENYET AA GHODAY -6.193280  106.922564   \n",
       "370  Jaksel  restaurant       Anomali Coffee Kemang -6.267305  106.815452   \n",
       "371  Jaksel        cafe                     suharnp -6.304474  106.771656   \n",
       "\n",
       "    geohash_poi_8  \n",
       "93       qqgvhkd9  \n",
       "101      qquh98p0  \n",
       "348      qquhc0d9  \n",
       "370      qqguqehd  \n",
       "371      qqgujsk9  "
      ]
     },
     "execution_count": 19,
     "metadata": {},
     "output_type": "execute_result"
    }
   ],
   "source": [
    "df_jak_res.head()"
   ]
  },
  {
   "cell_type": "code",
   "execution_count": 20,
   "metadata": {},
   "outputs": [
    {
     "data": {
      "text/plain": [
       "cafe             21263\n",
       "restaurant       15384\n",
       "meal_takeaway     4297\n",
       "Name: poi_type, dtype: int64"
      ]
     },
     "execution_count": 20,
     "metadata": {},
     "output_type": "execute_result"
    }
   ],
   "source": [
    "df_jak_res['poi_type'].value_counts()"
   ]
  },
  {
   "cell_type": "code",
   "execution_count": null,
   "metadata": {},
   "outputs": [],
   "source": []
  }
 ],
 "metadata": {
  "kernelspec": {
   "display_name": "Python 3",
   "language": "python",
   "name": "python3"
  },
  "language_info": {
   "codemirror_mode": {
    "name": "ipython",
    "version": 3
   },
   "file_extension": ".py",
   "mimetype": "text/x-python",
   "name": "python",
   "nbconvert_exporter": "python",
   "pygments_lexer": "ipython3",
   "version": "3.6.9"
  }
 },
 "nbformat": 4,
 "nbformat_minor": 4
}
