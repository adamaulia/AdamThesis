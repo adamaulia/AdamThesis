{
 "cells": [
  {
   "cell_type": "code",
   "execution_count": 1,
   "metadata": {},
   "outputs": [],
   "source": [
    "import pandas as pd\n",
    "import numpy as np\n",
    "from scipy.stats import f_oneway\n",
    "from statsmodels.stats.multicomp import pairwise_tukeyhsd"
   ]
  },
  {
   "cell_type": "markdown",
   "metadata": {},
   "source": [
    "# Manual Test "
   ]
  },
  {
   "cell_type": "code",
   "execution_count": 58,
   "metadata": {},
   "outputs": [],
   "source": [
    "# MAE \n",
    "# zomato = [0.12398,\t0.12298,\t0.12642]\n",
    "# zomato_1000 = [0.11915, 0.12145, 0.1255]\n",
    "# zomato_500 = [0.12006,\t0.12244,\t0.12491]\n",
    "# zomato_250 = [0.12001,\t0.12278,\t0.12174]\n",
    "\n",
    "\n",
    "# MSE \n",
    "# zomato = [0.02546,\t0.02467,\t0.02615]\n",
    "# zomato_1000 = [0.02324,\t0.02404,\t0.0258]\n",
    "# zomato_500 = [0.02362,\t0.02447,\t0.02496]\n",
    "# zomato_250 = [0.02357,\t0.02432,\t0.02602]\n",
    "\n",
    "# pearson\n",
    "zomato = [0.41264,\t0.4076,\t0.41256]\n",
    "zomato_1000 = [0.47026,\t0.43416,\t0.4084]\n",
    "zomato_500 = [0.45083,\t0.41555,\t0.4395]\n",
    "zomato_250 = [0.45421,\t0.42217,\t0.42244]"
   ]
  },
  {
   "cell_type": "code",
   "execution_count": 59,
   "metadata": {},
   "outputs": [
    {
     "data": {
      "text/plain": [
       "F_onewayResult(statistic=1.112450703437946, pvalue=0.3993879224097109)"
      ]
     },
     "execution_count": 59,
     "metadata": {},
     "output_type": "execute_result"
    }
   ],
   "source": [
    "f_oneway(zomato, zomato_1000, zomato_500, zomato_250)"
   ]
  },
  {
   "cell_type": "code",
   "execution_count": 60,
   "metadata": {},
   "outputs": [
    {
     "name": "stdout",
     "output_type": "stream",
     "text": [
      "3\n",
      "6\n",
      "9\n",
      "12\n"
     ]
    }
   ],
   "source": [
    "score_list = []\n",
    "score_list.extend(zomato)\n",
    "print(len(score_list))\n",
    "score_list.extend(zomato_1000)\n",
    "print(len(score_list))\n",
    "score_list.extend(zomato_500)\n",
    "print(len(score_list))\n",
    "score_list.extend(zomato_250)\n",
    "print(len(score_list))"
   ]
  },
  {
   "cell_type": "code",
   "execution_count": 61,
   "metadata": {},
   "outputs": [],
   "source": [
    "df = pd.DataFrame(\n",
    "    {'dataset' : ['zomato']*3 + ['zomato_1000']*3 + ['zomato_500']*3 + ['zomato_250']*3  ,\n",
    "    'score' : score_list\n",
    "    }\n",
    ")"
   ]
  },
  {
   "cell_type": "code",
   "execution_count": 62,
   "metadata": {},
   "outputs": [
    {
     "data": {
      "text/html": [
       "<div>\n",
       "<style scoped>\n",
       "    .dataframe tbody tr th:only-of-type {\n",
       "        vertical-align: middle;\n",
       "    }\n",
       "\n",
       "    .dataframe tbody tr th {\n",
       "        vertical-align: top;\n",
       "    }\n",
       "\n",
       "    .dataframe thead th {\n",
       "        text-align: right;\n",
       "    }\n",
       "</style>\n",
       "<table border=\"1\" class=\"dataframe\">\n",
       "  <thead>\n",
       "    <tr style=\"text-align: right;\">\n",
       "      <th></th>\n",
       "      <th>dataset</th>\n",
       "      <th>score</th>\n",
       "    </tr>\n",
       "  </thead>\n",
       "  <tbody>\n",
       "    <tr>\n",
       "      <th>0</th>\n",
       "      <td>zomato</td>\n",
       "      <td>0.41264</td>\n",
       "    </tr>\n",
       "    <tr>\n",
       "      <th>1</th>\n",
       "      <td>zomato</td>\n",
       "      <td>0.40760</td>\n",
       "    </tr>\n",
       "    <tr>\n",
       "      <th>2</th>\n",
       "      <td>zomato</td>\n",
       "      <td>0.41256</td>\n",
       "    </tr>\n",
       "    <tr>\n",
       "      <th>3</th>\n",
       "      <td>zomato_1000</td>\n",
       "      <td>0.47026</td>\n",
       "    </tr>\n",
       "    <tr>\n",
       "      <th>4</th>\n",
       "      <td>zomato_1000</td>\n",
       "      <td>0.43416</td>\n",
       "    </tr>\n",
       "    <tr>\n",
       "      <th>5</th>\n",
       "      <td>zomato_1000</td>\n",
       "      <td>0.40840</td>\n",
       "    </tr>\n",
       "    <tr>\n",
       "      <th>6</th>\n",
       "      <td>zomato_500</td>\n",
       "      <td>0.45083</td>\n",
       "    </tr>\n",
       "    <tr>\n",
       "      <th>7</th>\n",
       "      <td>zomato_500</td>\n",
       "      <td>0.41555</td>\n",
       "    </tr>\n",
       "    <tr>\n",
       "      <th>8</th>\n",
       "      <td>zomato_500</td>\n",
       "      <td>0.43950</td>\n",
       "    </tr>\n",
       "    <tr>\n",
       "      <th>9</th>\n",
       "      <td>zomato_250</td>\n",
       "      <td>0.45421</td>\n",
       "    </tr>\n",
       "    <tr>\n",
       "      <th>10</th>\n",
       "      <td>zomato_250</td>\n",
       "      <td>0.42217</td>\n",
       "    </tr>\n",
       "    <tr>\n",
       "      <th>11</th>\n",
       "      <td>zomato_250</td>\n",
       "      <td>0.42244</td>\n",
       "    </tr>\n",
       "  </tbody>\n",
       "</table>\n",
       "</div>"
      ],
      "text/plain": [
       "        dataset    score\n",
       "0        zomato  0.41264\n",
       "1        zomato  0.40760\n",
       "2        zomato  0.41256\n",
       "3   zomato_1000  0.47026\n",
       "4   zomato_1000  0.43416\n",
       "5   zomato_1000  0.40840\n",
       "6    zomato_500  0.45083\n",
       "7    zomato_500  0.41555\n",
       "8    zomato_500  0.43950\n",
       "9    zomato_250  0.45421\n",
       "10   zomato_250  0.42217\n",
       "11   zomato_250  0.42244"
      ]
     },
     "execution_count": 62,
     "metadata": {},
     "output_type": "execute_result"
    }
   ],
   "source": [
    "df"
   ]
  },
  {
   "cell_type": "code",
   "execution_count": 67,
   "metadata": {},
   "outputs": [],
   "source": [
    "# perform Tukey's test\n",
    "tukey = pairwise_tukeyhsd(endog=df['score'],\n",
    "                          groups=df['dataset'],\n",
    "                          alpha=0.1)"
   ]
  },
  {
   "cell_type": "code",
   "execution_count": 68,
   "metadata": {},
   "outputs": [
    {
     "name": "stdout",
     "output_type": "stream",
     "text": [
      "     Multiple Comparison of Means - Tukey HSD, FWER=0.10     \n",
      "=============================================================\n",
      "   group1      group2   meandiff p-adj   lower  upper  reject\n",
      "-------------------------------------------------------------\n",
      "     zomato zomato_1000   0.0267 0.4242 -0.0181 0.0715  False\n",
      "     zomato  zomato_250    0.022 0.5663 -0.0228 0.0668  False\n",
      "     zomato  zomato_500   0.0244 0.4935 -0.0204 0.0692  False\n",
      "zomato_1000  zomato_250  -0.0047    0.9 -0.0495 0.0401  False\n",
      "zomato_1000  zomato_500  -0.0023    0.9 -0.0471 0.0425  False\n",
      " zomato_250  zomato_500   0.0024    0.9 -0.0424 0.0472  False\n",
      "-------------------------------------------------------------\n"
     ]
    }
   ],
   "source": [
    "print(tukey)"
   ]
  },
  {
   "cell_type": "code",
   "execution_count": null,
   "metadata": {},
   "outputs": [],
   "source": []
  },
  {
   "cell_type": "markdown",
   "metadata": {},
   "source": [
    "# Cross validation Data "
   ]
  },
  {
   "cell_type": "code",
   "execution_count": 4,
   "metadata": {},
   "outputs": [],
   "source": [
    "df = pd.read_excel('report/ml_perform_crossval_raw_2022-11-23.xlsx')"
   ]
  },
  {
   "cell_type": "code",
   "execution_count": 23,
   "metadata": {},
   "outputs": [],
   "source": [
    "df_zomato = df[df['dataset']=='zomato_only']\n",
    "df_zomato_poi_250 = df[df['dataset']=='zomato_poi_250']\n",
    "df_zomato_poi_500 = df[df['dataset']=='zomato_poi_500']\n",
    "df_zomato_poi_1000 = df[df['dataset']=='zomato_poi_1000']\n",
    "\n",
    "df_zomato_mse = pd.concat([df_zomato[['test_neg_mean_squared_error','dataset']] , df_zomato_poi_250[['test_neg_mean_squared_error','dataset']]\n",
    "                    , df_zomato_poi_500[['test_neg_mean_squared_error','dataset']] , df_zomato_poi_1000[['test_neg_mean_squared_error','dataset']]\n",
    "])\n",
    "\n",
    "\n",
    "df_zomato_mae = pd.concat([df_zomato[['test_neg_mean_absolute_error','dataset']] , df_zomato_poi_250[['test_neg_mean_absolute_error','dataset']]\n",
    "                    , df_zomato_poi_500[['test_neg_mean_absolute_error','dataset']] , df_zomato_poi_1000[['test_neg_mean_absolute_error','dataset']]\n",
    "])\n",
    "\n",
    "df_zomato_pearson = pd.concat([df_zomato[['test_Pearson','dataset']] , df_zomato_poi_250[['test_Pearson','dataset']]\n",
    "                    , df_zomato_poi_500[['test_Pearson','dataset']] , df_zomato_poi_1000[['test_Pearson','dataset']]\n",
    "])"
   ]
  },
  {
   "cell_type": "code",
   "execution_count": 28,
   "metadata": {},
   "outputs": [],
   "source": [
    "# df_zomato_pearson"
   ]
  },
  {
   "cell_type": "markdown",
   "metadata": {},
   "source": [
    "## MAE"
   ]
  },
  {
   "cell_type": "code",
   "execution_count": 30,
   "metadata": {},
   "outputs": [
    {
     "data": {
      "text/plain": [
       "F_onewayResult(statistic=6.087723842118115, pvalue=0.0011646179448619657)"
      ]
     },
     "execution_count": 30,
     "metadata": {},
     "output_type": "execute_result"
    }
   ],
   "source": [
    "f_oneway(df_zomato['test_neg_mean_absolute_error'], df_zomato_poi_250['test_neg_mean_absolute_error'], df_zomato_poi_500['test_neg_mean_absolute_error'], df_zomato_poi_1000['test_neg_mean_absolute_error'])"
   ]
  },
  {
   "cell_type": "code",
   "execution_count": 22,
   "metadata": {},
   "outputs": [
    {
     "name": "stdout",
     "output_type": "stream",
     "text": [
      "         Multiple Comparison of Means - Tukey HSD, FWER=0.05          \n",
      "======================================================================\n",
      "     group1          group2     meandiff p-adj   lower   upper  reject\n",
      "----------------------------------------------------------------------\n",
      "    zomato_only zomato_poi_1000   0.0159 0.0043   0.004  0.0278   True\n",
      "    zomato_only  zomato_poi_250   0.0006    0.9 -0.0113  0.0125  False\n",
      "    zomato_only  zomato_poi_500   0.0002    0.9 -0.0117  0.0121  False\n",
      "zomato_poi_1000  zomato_poi_250  -0.0153 0.0064 -0.0272 -0.0034   True\n",
      "zomato_poi_1000  zomato_poi_500  -0.0157 0.0049 -0.0276 -0.0038   True\n",
      " zomato_poi_250  zomato_poi_500  -0.0004    0.9 -0.0123  0.0115  False\n",
      "----------------------------------------------------------------------\n"
     ]
    }
   ],
   "source": [
    "# perform Tukey's test\n",
    "tukey = pairwise_tukeyhsd(endog=df_zomato_mae['test_neg_mean_absolute_error'],\n",
    "                          groups=df_zomato_mae['dataset'],\n",
    "                          alpha=0.05)\n",
    "\n",
    "print(tukey)"
   ]
  },
  {
   "cell_type": "markdown",
   "metadata": {},
   "source": [
    "## MSE"
   ]
  },
  {
   "cell_type": "code",
   "execution_count": 31,
   "metadata": {},
   "outputs": [
    {
     "data": {
      "text/plain": [
       "F_onewayResult(statistic=5.991473899795656, pvalue=0.0012920027354200957)"
      ]
     },
     "execution_count": 31,
     "metadata": {},
     "output_type": "execute_result"
    }
   ],
   "source": [
    "f_oneway(df_zomato['test_neg_mean_squared_error'], df_zomato_poi_250['test_neg_mean_squared_error'], df_zomato_poi_500['test_neg_mean_squared_error'], df_zomato_poi_1000['test_neg_mean_squared_error'])"
   ]
  },
  {
   "cell_type": "code",
   "execution_count": 20,
   "metadata": {},
   "outputs": [
    {
     "name": "stdout",
     "output_type": "stream",
     "text": [
      "         Multiple Comparison of Means - Tukey HSD, FWER=0.05          \n",
      "======================================================================\n",
      "     group1          group2     meandiff p-adj   lower   upper  reject\n",
      "----------------------------------------------------------------------\n",
      "    zomato_only zomato_poi_1000    0.008 0.0064  0.0018  0.0142   True\n",
      "    zomato_only  zomato_poi_250  -0.0001    0.9 -0.0063  0.0061  False\n",
      "    zomato_only  zomato_poi_500  -0.0002    0.9 -0.0064   0.006  False\n",
      "zomato_poi_1000  zomato_poi_250  -0.0081 0.0054 -0.0143 -0.0019   True\n",
      "zomato_poi_1000  zomato_poi_500  -0.0082  0.005 -0.0144  -0.002   True\n",
      " zomato_poi_250  zomato_poi_500  -0.0001    0.9 -0.0063  0.0061  False\n",
      "----------------------------------------------------------------------\n"
     ]
    }
   ],
   "source": [
    "# perform Tukey's test\n",
    "tukey = pairwise_tukeyhsd(endog=df_zomato_mse['test_neg_mean_squared_error'],\n",
    "                          groups=df_zomato_mse['dataset'],\n",
    "                          alpha=0.05)\n",
    "\n",
    "print(tukey)"
   ]
  },
  {
   "cell_type": "markdown",
   "metadata": {},
   "source": [
    "# Pearson"
   ]
  },
  {
   "cell_type": "code",
   "execution_count": 32,
   "metadata": {},
   "outputs": [
    {
     "data": {
      "text/plain": [
       "F_onewayResult(statistic=3.3815027242497386, pvalue=0.024364589099470767)"
      ]
     },
     "execution_count": 32,
     "metadata": {},
     "output_type": "execute_result"
    }
   ],
   "source": [
    "f_oneway(df_zomato['test_Pearson'], df_zomato_poi_250['test_Pearson'], df_zomato_poi_500['test_Pearson'], df_zomato_poi_1000['test_Pearson'])"
   ]
  },
  {
   "cell_type": "code",
   "execution_count": 25,
   "metadata": {},
   "outputs": [
    {
     "name": "stdout",
     "output_type": "stream",
     "text": [
      "         Multiple Comparison of Means - Tukey HSD, FWER=0.05         \n",
      "=====================================================================\n",
      "     group1          group2     meandiff p-adj   lower  upper  reject\n",
      "---------------------------------------------------------------------\n",
      "    zomato_only zomato_poi_1000  -0.0469 0.0787 -0.0975 0.0037  False\n",
      "    zomato_only  zomato_poi_250      0.0    0.9 -0.0506 0.0507  False\n",
      "    zomato_only  zomato_poi_500    0.007    0.9 -0.0436 0.0576  False\n",
      "zomato_poi_1000  zomato_poi_250    0.047 0.0783 -0.0037 0.0976  False\n",
      "zomato_poi_1000  zomato_poi_500   0.0539 0.0325  0.0033 0.1046   True\n",
      " zomato_poi_250  zomato_poi_500    0.007    0.9 -0.0436 0.0576  False\n",
      "---------------------------------------------------------------------\n"
     ]
    }
   ],
   "source": [
    "# perform Tukey's test\n",
    "tukey = pairwise_tukeyhsd(endog=df_zomato_pearson['test_Pearson'],\n",
    "                          groups=df_zomato_pearson['dataset'],\n",
    "                          alpha=0.05)\n",
    "\n",
    "print(tukey)"
   ]
  },
  {
   "cell_type": "code",
   "execution_count": null,
   "metadata": {},
   "outputs": [],
   "source": []
  }
 ],
 "metadata": {
  "kernelspec": {
   "display_name": "Python 3.8.8 ('base')",
   "language": "python",
   "name": "python3"
  },
  "language_info": {
   "codemirror_mode": {
    "name": "ipython",
    "version": 3
   },
   "file_extension": ".py",
   "mimetype": "text/x-python",
   "name": "python",
   "nbconvert_exporter": "python",
   "pygments_lexer": "ipython3",
   "version": "3.8.8"
  },
  "orig_nbformat": 4,
  "vscode": {
   "interpreter": {
    "hash": "9980599ad9850bdffd342280c0ae1db934122879fcb1d3c5fb59c8802b20124c"
   }
  }
 },
 "nbformat": 4,
 "nbformat_minor": 2
}
