{
 "cells": [
  {
   "cell_type": "code",
   "execution_count": 40,
   "metadata": {},
   "outputs": [],
   "source": [
    "import requests\n",
    "import json \n",
    "from bs4 import BeautifulSoup\n",
    "from lxml import html\n",
    "import re"
   ]
  },
  {
   "cell_type": "code",
   "execution_count": 2,
   "metadata": {},
   "outputs": [],
   "source": [
    "my_headers = {\"User-Agent\":\"Mozilla/5.0 (Windows NT 10.0; Win64; x64; rv:101.0) Gecko/20100101 Firefox/101.0\", \n",
    "          \"Accept\":\"text/html,application/xhtml+xml,application/xml;q=0.9,image/webp,image/apng,*/*;q=0.8\",\n",
    "              \"Accept-Language\":\"en-US,en;q=0.5\", \n",
    "             \"Accept-Encoding\":\"gzip, deflate, br\"}"
   ]
  },
  {
   "cell_type": "markdown",
   "metadata": {},
   "source": [
    "# Retrieve all restaurant content "
   ]
  },
  {
   "cell_type": "code",
   "execution_count": 52,
   "metadata": {},
   "outputs": [],
   "source": [
    "# set url \n",
    "url = 'https://www.zomato.com/jakarta/aroma-palopo-kelapa-gading/info'\n",
    "response = requests.get(url, headers=my_headers)"
   ]
  },
  {
   "cell_type": "code",
   "execution_count": 53,
   "metadata": {},
   "outputs": [],
   "source": [
    "# parsing \n",
    "html_soup = BeautifulSoup(response.text, 'html.parser')\n",
    "tree = html.fromstring(response.content)"
   ]
  },
  {
   "cell_type": "code",
   "execution_count": 54,
   "metadata": {},
   "outputs": [],
   "source": [
    "# testing area for xpath \n",
    "rating = tree.xpath('//div[normalize-space(text())=\"Reviews\"]/preceding-sibling::div')\n",
    "\n",
    "# tes = tree.xpath('/html/body/div[1]/div/main/div/section[4]/section/article/section/div[2]/a')\n",
    "\n",
    "price = tree.xpath('//*[@id=\"root\"]/div[2]/main/div/section[4]/section/section/article[1]/section[2]/p[2]')\n",
    "# help(tes[0])\n",
    "# print(tes[0].get_attribute(\"value\"))\n",
    "\n",
    "facility = tree.xpath('//*[@id=\"root\"]/div[2]/main/div/section[4]/section/section/article[1]/section[2]/h3[4]')"
   ]
  },
  {
   "cell_type": "code",
   "execution_count": 55,
   "metadata": {},
   "outputs": [
    {
     "name": "stdout",
     "output_type": "stream",
     "text": [
      "Home Delivery\n",
      "Takeaway Available\n",
      "Indoor Seating\n",
      "Smoking Area\n",
      "No Alcohol Available\n"
     ]
    }
   ],
   "source": [
    "# rating[0].text\n",
    "for item in html_soup.find_all('p', {'class': re.compile(r'cunMUz')}):\n",
    "    print (item.text)\n",
    "# sc-1hez2tp-0 cunMUz"
   ]
  },
  {
   "cell_type": "code",
   "execution_count": 48,
   "metadata": {},
   "outputs": [],
   "source": [
    "def extract_restaurant(url):\n",
    "    response = requests.get(url, headers=my_headers)\n",
    "    \n",
    "    # parsing \n",
    "    html_soup = BeautifulSoup(response.text, 'html.parser')\n",
    "    tree = html.fromstring(response.content)\n",
    "    \n",
    "    #content \n",
    "    restaurant_page = {}\n",
    "\n",
    "    restaurant_page['url'] = url\n",
    "\n",
    "    # restaurant element\n",
    "\n",
    "    # title \n",
    "    rest_title = ''\n",
    "    # rest_title = html_soup.find_all('h1')[-1].text\n",
    "    rest_title = tree.xpath('/html/body/div[1]/div/main/div/section[3]/section/section/div/div/div/h1')[0].text\n",
    "    restaurant_page['title'] = rest_title\n",
    "\n",
    "    # extract restaurant type \n",
    "    rest_type = []\n",
    "    for item in html_soup.find_all('span'): \n",
    "        try : \n",
    "            rest_type.append((item.find_all('a', href=True)[0].text))\n",
    "        except : \n",
    "            pass \n",
    "    rest_type = '|'.join(rest_type[:-1])\n",
    "\n",
    "    restaurant_page['rest_type'] = rest_type\n",
    "\n",
    "    # price \n",
    "    rest_price = []\n",
    "    \n",
    "    for  item in html_soup.find_all('p'):\n",
    "        if 'Rp' in item.text:\n",
    "            rest_price.append(item.text)\n",
    "    \n",
    "    rest_price = '|'.join(rest_price)\n",
    "    restaurant_page['rest_price'] = rest_price\n",
    "\n",
    "    # facility \n",
    "    rest_facility = []\n",
    "    \n",
    "    for item in html_soup.find_all('p', {'class': re.compile(r'cunMUz')}):\n",
    "        rest_facility.append(item.text)\n",
    "        \n",
    "    restaurant_page['rest_facility'] = '|'.join(rest_facility)\n",
    "\n",
    "    # long lat \n",
    "    long_lat = [] \n",
    "    for item in html_soup.find_all('a',href=True):\n",
    "        if 'google' in item['href'] : \n",
    "            long_lat.append(item['href'])\n",
    "        else : \n",
    "            pass \n",
    "    restaurant_page['rest_longlat'] = list(set(long_lat))[0]\n",
    "\n",
    "    # rating \n",
    "    rating = ''\n",
    "    rating = html_soup.find_all(\"div\", {\"class\": \"sc-1q7bklc-1 cILgox\"})[0].text\n",
    "    restaurant_page['rating'] = rating\n",
    "\n",
    "    # total review \n",
    "    review = ''\n",
    "    # review = tree.xpath('//div[normalize-space(text())=\"Reviews\"]/preceding-sibling::div')\n",
    "\n",
    "    review = tree.xpath('//*[@id=\"root\"]/div/main/div/section[3]/section/section/div/div/div/section/div/div[2]/div[1]')\n",
    "    review = review[0].text\n",
    "    restaurant_page['review'] = review\n",
    "    \n",
    "    return restaurant_page"
   ]
  },
  {
   "cell_type": "code",
   "execution_count": 49,
   "metadata": {},
   "outputs": [],
   "source": [
    "# url = 'https://www.zomato.com/jakarta/monks-kelapa-gading'\n",
    "url = 'https://www.zomato.com/jakarta/aroma-palopo-kelapa-gading/info'\n",
    "rest_content = extract_restaurant(url)"
   ]
  },
  {
   "cell_type": "code",
   "execution_count": 56,
   "metadata": {},
   "outputs": [
    {
     "data": {
      "text/plain": [
       "{'url': 'https://www.zomato.com/jakarta/aroma-palopo-kelapa-gading/info',\n",
       " 'title': 'Aroma Palopo',\n",
       " 'rest_type': 'Makassar',\n",
       " 'rest_price': 'Rp80.000 for two people (approx.)',\n",
       " 'rest_facility': ['Home Delivery',\n",
       "  'Takeaway Available',\n",
       "  'Indoor Seating',\n",
       "  'Smoking Area',\n",
       "  'No Alcohol Available'],\n",
       " 'rest_longlat': 'https://www.google.com/maps/dir/?api=1&destination=-6.1714440000,106.8982310000',\n",
       " 'rating': '3.7',\n",
       " 'review': '20'}"
      ]
     },
     "execution_count": 56,
     "metadata": {},
     "output_type": "execute_result"
    }
   ],
   "source": [
    "rest_content"
   ]
  },
  {
   "cell_type": "code",
   "execution_count": 16,
   "metadata": {},
   "outputs": [],
   "source": [
    "main_url = 'https://www.zomato.com/jakarta'\n",
    "response = requests.get(main_url, headers=my_headers)\n",
    "\n",
    "# parsing \n",
    "html_soup = BeautifulSoup(response.text, 'html.parser')\n",
    "tree = html.fromstring(response.content)"
   ]
  },
  {
   "cell_type": "code",
   "execution_count": 17,
   "metadata": {},
   "outputs": [],
   "source": [
    "# extract \n",
    "\n",
    "rest_jakarta = tree.xpath('/html/body/div[1]/div/div[4]/div[4]/div[2]/div')"
   ]
  },
  {
   "cell_type": "code",
   "execution_count": 42,
   "metadata": {},
   "outputs": [
    {
     "name": "stdout",
     "output_type": "stream",
     "text": [
      "div\n"
     ]
    }
   ],
   "source": [
    "for item in rest_jakarta[0][0]:\n",
    "#     print(item.tag)\n",
    "    for subitem in item:\n",
    "        print(subitem.tag)"
   ]
  },
  {
   "cell_type": "code",
   "execution_count": 43,
   "metadata": {},
   "outputs": [
    {
     "name": "stdout",
     "output_type": "stream",
     "text": [
      "[<Element div at 0x1e07c79e0e8>]\n"
     ]
    }
   ],
   "source": [
    "print(rest_jakarta)"
   ]
  },
  {
   "cell_type": "code",
   "execution_count": null,
   "metadata": {},
   "outputs": [],
   "source": []
  }
 ],
 "metadata": {
  "kernelspec": {
   "display_name": "Python 3",
   "language": "python",
   "name": "python3"
  },
  "language_info": {
   "codemirror_mode": {
    "name": "ipython",
    "version": 3
   },
   "file_extension": ".py",
   "mimetype": "text/x-python",
   "name": "python",
   "nbconvert_exporter": "python",
   "pygments_lexer": "ipython3",
   "version": "3.6.9"
  }
 },
 "nbformat": 4,
 "nbformat_minor": 4
}
