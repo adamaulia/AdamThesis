{
 "cells": [
  {
   "cell_type": "code",
   "execution_count": 1,
   "metadata": {},
   "outputs": [],
   "source": [
    "import requests\n",
    "import json \n",
    "from bs4 import BeautifulSoup\n",
    "from lxml import html\n",
    "import re\n",
    "import pandas as pd \n",
    "from tqdm import tqdm"
   ]
  },
  {
   "cell_type": "markdown",
   "metadata": {},
   "source": [
    "# Retrieve information from each restaurant "
   ]
  },
  {
   "cell_type": "code",
   "execution_count": 2,
   "metadata": {},
   "outputs": [],
   "source": [
    "def extract_restaurant(url, header):\n",
    "    response = requests.get(url, headers=header)\n",
    "    \n",
    "    # parsing \n",
    "    html_soup = BeautifulSoup(response.text, 'html.parser')\n",
    "    tree = html.fromstring(response.content)\n",
    "    \n",
    "    #content \n",
    "    restaurant_page = {}\n",
    "    restaurant_page['url'] = url\n",
    "\n",
    "    # restaurant element\n",
    "    # title \n",
    "    rest_title = ''\n",
    "    try :\n",
    "    # rest_title = html_soup.find_all('h1')[-1].text\n",
    "        rest_title = tree.xpath('/html/body/div[1]/div/main/div/section[3]/section/section/div/div/div/h1')[0].text\n",
    "        restaurant_page['title'] = rest_title\n",
    "    except :\n",
    "        pass \n",
    "    \n",
    "    # extract restaurant type \n",
    "    rest_type = []\n",
    "    for item in html_soup.find_all('span'): \n",
    "        try : \n",
    "            rest_type.append((item.find_all('a', href=True)[0].text))\n",
    "        except : \n",
    "            pass \n",
    "    rest_type = '|'.join(rest_type[:-1])\n",
    "    restaurant_page['rest_type'] = rest_type\n",
    "\n",
    "    # price \n",
    "    rest_price = []\n",
    "    \n",
    "    for  item in html_soup.find_all('p'):\n",
    "        if 'Rp' in item.text:\n",
    "            rest_price.append(item.text)\n",
    "    \n",
    "    rest_price = '|'.join(rest_price)\n",
    "    restaurant_page['rest_price'] = rest_price\n",
    "\n",
    "    # facility \n",
    "    rest_facility = []\n",
    "    \n",
    "    for item in html_soup.find_all('p', {'class': re.compile(r'cunMUz')}):\n",
    "        rest_facility.append(item.text)\n",
    "    restaurant_page['rest_facility'] = '|'.join(rest_facility)\n",
    "\n",
    "    # long lat \n",
    "    long_lat = [] \n",
    "    try : \n",
    "        for item in html_soup.find_all('a',href=True):\n",
    "            if 'google' in item['href'] : \n",
    "                long_lat.append(item['href'])\n",
    "            else : \n",
    "                pass \n",
    "    except :\n",
    "        pass\n",
    "        \n",
    "    restaurant_page['rest_longlat'] = list(set(long_lat))\n",
    "\n",
    "    \n",
    "    # rating \n",
    "    rating = ''\n",
    "    try : \n",
    "        rating = html_soup.find_all(\"div\", {\"class\": \"sc-1q7bklc-1 cILgox\"})[0].text\n",
    "        restaurant_page['rating'] = rating\n",
    "    except : \n",
    "        pass \n",
    "    \n",
    "    # total review \n",
    "    review = ''\n",
    "    # review = tree.xpath('//div[normalize-space(text())=\"Reviews\"]/preceding-sibling::div')\n",
    "\n",
    "    try :\n",
    "        review = tree.xpath('//*[@id=\"root\"]/div/main/div/section[3]/section/section/div/div/div/section/div/div[2]/div[1]')\n",
    "        review = review[0].text\n",
    "        restaurant_page['review'] = review\n",
    "    except : \n",
    "        restaurant_page['review'] = review\n",
    "        \n",
    "    return restaurant_page"
   ]
  },
  {
   "cell_type": "code",
   "execution_count": 21,
   "metadata": {},
   "outputs": [],
   "source": [
    "# url = 'https://www.zomato.com/jakarta/monks-kelapa-gading'\n",
    "url = 'https://www.zomato.com/jakarta/aroma-palopo-kelapa-gading/info'\n",
    "my_headers = {\"User-Agent\":\"Mozilla/5.0 (Windows NT 10.0; Win64; x64; rv:101.0) Gecko/20100101 Firefox/101.0\", \n",
    "          \"Accept\":\"text/html,application/xhtml+xml,application/xml;q=0.9,image/webp,image/apng,*/*;q=0.8\",\n",
    "              \"Accept-Language\":\"en-US,en;q=0.5\", \n",
    "             \"Accept-Encoding\":\"gzip, deflate, br\"}\n",
    "\n",
    "rest_content = extract_restaurant(url, my_headers)"
   ]
  },
  {
   "cell_type": "code",
   "execution_count": 22,
   "metadata": {},
   "outputs": [
    {
     "data": {
      "text/plain": [
       "{'url': 'https://www.zomato.com/jakarta/aroma-palopo-kelapa-gading/info',\n",
       " 'title': 'Aroma Palopo',\n",
       " 'rest_type': 'Makassar',\n",
       " 'rest_price': 'Rp80.000 for two people (approx.)',\n",
       " 'rest_facility': 'Home Delivery|Takeaway Available|Indoor Seating|Smoking Area|No Alcohol Available',\n",
       " 'rest_longlat': ['https://www.google.com/maps/dir/?api=1&destination=-6.1714440000,106.8982310000'],\n",
       " 'rating': '3.7',\n",
       " 'review': '20'}"
      ]
     },
     "execution_count": 22,
     "metadata": {},
     "output_type": "execute_result"
    }
   ],
   "source": [
    "rest_content"
   ]
  },
  {
   "cell_type": "code",
   "execution_count": 34,
   "metadata": {},
   "outputs": [],
   "source": [
    "# for pickle file \n",
    "\n",
    "df = pd.read_pickle('data/restaurant_raw2_extra.pickle')\n",
    "df = df.dropna()\n",
    "df = df.rename(columns={'link':'rest_url'})\n",
    "df = df.explode('rest_url')"
   ]
  },
  {
   "cell_type": "code",
   "execution_count": 24,
   "metadata": {},
   "outputs": [],
   "source": [
    "# for csv input \n",
    "\n",
    "df = pd.read_csv('data/1_bodebek.csv')\n",
    "df = df.dropna()\n",
    "df = df.drop_duplicates()\n",
    "df = df.rename(columns={'link':'rest_url'})\n",
    "df = df.explode('rest_url')\n",
    "# df2 = pd.read_csv('3_jak_rest_detail.csv')"
   ]
  },
  {
   "cell_type": "code",
   "execution_count": 10,
   "metadata": {},
   "outputs": [],
   "source": [
    "# df.shape, df2.shape"
   ]
  },
  {
   "cell_type": "code",
   "execution_count": 11,
   "metadata": {},
   "outputs": [],
   "source": [
    "# df[~df.rest_url.isin(df2['url'])]"
   ]
  },
  {
   "cell_type": "code",
   "execution_count": 13,
   "metadata": {},
   "outputs": [],
   "source": [
    "# df['rest_url'].value_counts()"
   ]
  },
  {
   "cell_type": "code",
   "execution_count": 15,
   "metadata": {},
   "outputs": [],
   "source": [
    "# df['rest_url'].value_counts()"
   ]
  },
  {
   "cell_type": "code",
   "execution_count": 11,
   "metadata": {},
   "outputs": [],
   "source": [
    "# df3 = pd.merge(df,df2['url'],left_on='rest_url',right_on='url',how='left')"
   ]
  },
  {
   "cell_type": "code",
   "execution_count": 16,
   "metadata": {},
   "outputs": [],
   "source": [
    "# df3.head()"
   ]
  },
  {
   "cell_type": "code",
   "execution_count": 17,
   "metadata": {},
   "outputs": [],
   "source": [
    "# df3.shape"
   ]
  },
  {
   "cell_type": "code",
   "execution_count": 18,
   "metadata": {},
   "outputs": [],
   "source": [
    "# df3.isnull().sum()"
   ]
  },
  {
   "cell_type": "code",
   "execution_count": 36,
   "metadata": {},
   "outputs": [
    {
     "name": "stderr",
     "output_type": "stream",
     "text": [
      "2502it [38:56,  1.07it/s]\n"
     ]
    }
   ],
   "source": [
    "result = []\n",
    "for url in tqdm(df.itertuples()):\n",
    "    result.append(extract_restaurant(url.rest_url, my_headers))"
   ]
  },
  {
   "cell_type": "code",
   "execution_count": 37,
   "metadata": {},
   "outputs": [],
   "source": [
    "df_result = pd.DataFrame(result)"
   ]
  },
  {
   "cell_type": "code",
   "execution_count": 38,
   "metadata": {},
   "outputs": [
    {
     "data": {
      "text/html": [
       "<div>\n",
       "<style scoped>\n",
       "    .dataframe tbody tr th:only-of-type {\n",
       "        vertical-align: middle;\n",
       "    }\n",
       "\n",
       "    .dataframe tbody tr th {\n",
       "        vertical-align: top;\n",
       "    }\n",
       "\n",
       "    .dataframe thead th {\n",
       "        text-align: right;\n",
       "    }\n",
       "</style>\n",
       "<table border=\"1\" class=\"dataframe\">\n",
       "  <thead>\n",
       "    <tr style=\"text-align: right;\">\n",
       "      <th></th>\n",
       "      <th>url</th>\n",
       "      <th>title</th>\n",
       "      <th>rest_type</th>\n",
       "      <th>rest_price</th>\n",
       "      <th>rest_facility</th>\n",
       "      <th>rest_longlat</th>\n",
       "      <th>rating</th>\n",
       "      <th>review</th>\n",
       "    </tr>\n",
       "  </thead>\n",
       "  <tbody>\n",
       "    <tr>\n",
       "      <th>2497</th>\n",
       "      <td>https://www.zomato.com/jakarta/coffee-san9a-be...</td>\n",
       "      <td>Coffee SAN9A</td>\n",
       "      <td>Cafe|Indonesian|Coffee|Tea</td>\n",
       "      <td>Rp80.000 for two people (approx.)</td>\n",
       "      <td>Breakfast|Takeaway Available|Desserts and Bake...</td>\n",
       "      <td>[https://www.google.com/maps/dir/?api=1&amp;destin...</td>\n",
       "      <td>4.1</td>\n",
       "      <td>157</td>\n",
       "    </tr>\n",
       "    <tr>\n",
       "      <th>2498</th>\n",
       "      <td>https://www.zomato.com/jakarta/kedai-abuya-bek...</td>\n",
       "      <td>Kedai Abuya</td>\n",
       "      <td>Indonesian</td>\n",
       "      <td>Rp100.000 for two people (approx.)</td>\n",
       "      <td>Home Delivery|Takeaway Available|Indoor Seatin...</td>\n",
       "      <td>[https://www.google.com/maps/dir/?api=1&amp;destin...</td>\n",
       "      <td>-</td>\n",
       "      <td>2</td>\n",
       "    </tr>\n",
       "    <tr>\n",
       "      <th>2499</th>\n",
       "      <td>https://www.zomato.com/jakarta/cafe-serabi-ban...</td>\n",
       "      <td>Cafe Serabi Banting &amp; Coffee</td>\n",
       "      <td>Desserts|Indonesian</td>\n",
       "      <td>Rp80.000 for two people (approx.)</td>\n",
       "      <td>Takeaway Available|Desserts and Bakes|Indoor S...</td>\n",
       "      <td>[https://www.google.com/maps/dir/?api=1&amp;destin...</td>\n",
       "      <td>-</td>\n",
       "      <td>2</td>\n",
       "    </tr>\n",
       "    <tr>\n",
       "      <th>2500</th>\n",
       "      <td>https://www.zomato.com/jakarta/2kang-kopi-beka...</td>\n",
       "      <td>2kang Kopi</td>\n",
       "      <td>Coffee|Fusion</td>\n",
       "      <td>Rp100.000 for two people (approx.)</td>\n",
       "      <td>Home Delivery|Takeaway Available|Indoor Seatin...</td>\n",
       "      <td>[https://www.google.com/maps/dir/?api=1&amp;destin...</td>\n",
       "      <td>3.5</td>\n",
       "      <td>4</td>\n",
       "    </tr>\n",
       "    <tr>\n",
       "      <th>2501</th>\n",
       "      <td>https://www.zomato.com/jakarta/es-cow-bar-beka...</td>\n",
       "      <td>ES COW BAR</td>\n",
       "      <td>Beverages|Snacks|Indonesian</td>\n",
       "      <td>Rp100.000 for two people (approx.)</td>\n",
       "      <td>Takeaway Available|Indoor Seating|No Alcohol A...</td>\n",
       "      <td>[https://www.google.com/maps/dir/?api=1&amp;destin...</td>\n",
       "      <td>3.3</td>\n",
       "      <td>6</td>\n",
       "    </tr>\n",
       "  </tbody>\n",
       "</table>\n",
       "</div>"
      ],
      "text/plain": [
       "                                                    url  \\\n",
       "2497  https://www.zomato.com/jakarta/coffee-san9a-be...   \n",
       "2498  https://www.zomato.com/jakarta/kedai-abuya-bek...   \n",
       "2499  https://www.zomato.com/jakarta/cafe-serabi-ban...   \n",
       "2500  https://www.zomato.com/jakarta/2kang-kopi-beka...   \n",
       "2501  https://www.zomato.com/jakarta/es-cow-bar-beka...   \n",
       "\n",
       "                             title                    rest_type  \\\n",
       "2497                  Coffee SAN9A   Cafe|Indonesian|Coffee|Tea   \n",
       "2498                   Kedai Abuya                   Indonesian   \n",
       "2499  Cafe Serabi Banting & Coffee          Desserts|Indonesian   \n",
       "2500                    2kang Kopi                Coffee|Fusion   \n",
       "2501                    ES COW BAR  Beverages|Snacks|Indonesian   \n",
       "\n",
       "                              rest_price  \\\n",
       "2497   Rp80.000 for two people (approx.)   \n",
       "2498  Rp100.000 for two people (approx.)   \n",
       "2499   Rp80.000 for two people (approx.)   \n",
       "2500  Rp100.000 for two people (approx.)   \n",
       "2501  Rp100.000 for two people (approx.)   \n",
       "\n",
       "                                          rest_facility  \\\n",
       "2497  Breakfast|Takeaway Available|Desserts and Bake...   \n",
       "2498  Home Delivery|Takeaway Available|Indoor Seatin...   \n",
       "2499  Takeaway Available|Desserts and Bakes|Indoor S...   \n",
       "2500  Home Delivery|Takeaway Available|Indoor Seatin...   \n",
       "2501  Takeaway Available|Indoor Seating|No Alcohol A...   \n",
       "\n",
       "                                           rest_longlat rating review  \n",
       "2497  [https://www.google.com/maps/dir/?api=1&destin...    4.1    157  \n",
       "2498  [https://www.google.com/maps/dir/?api=1&destin...      -      2  \n",
       "2499  [https://www.google.com/maps/dir/?api=1&destin...      -      2  \n",
       "2500  [https://www.google.com/maps/dir/?api=1&destin...    3.5      4  \n",
       "2501  [https://www.google.com/maps/dir/?api=1&destin...    3.3      6  "
      ]
     },
     "execution_count": 38,
     "metadata": {},
     "output_type": "execute_result"
    }
   ],
   "source": [
    "df_result.tail()"
   ]
  },
  {
   "cell_type": "code",
   "execution_count": 39,
   "metadata": {},
   "outputs": [],
   "source": [
    "# df_result.to_csv('jakarta_restaurant_detail3.csv',index=False)\n",
    "df_result.to_csv('data/2_bodebek_restaurant_detail3.csv',index=False)"
   ]
  },
  {
   "cell_type": "code",
   "execution_count": null,
   "metadata": {},
   "outputs": [],
   "source": [
    "%%time\n",
    "df['rest_info'] = df['rest_url'].apply(extract_restaurant, header = my_headers)"
   ]
  },
  {
   "cell_type": "code",
   "execution_count": null,
   "metadata": {},
   "outputs": [],
   "source": []
  },
  {
   "cell_type": "code",
   "execution_count": 52,
   "metadata": {},
   "outputs": [],
   "source": [
    "# set url \n",
    "url = 'https://www.zomato.com/jakarta/aroma-palopo-kelapa-gading/info'\n",
    "response = requests.get(url, headers=my_headers)\n",
    "\n",
    "# parsing \n",
    "html_soup = BeautifulSoup(response.text, 'html.parser')\n",
    "tree = html.fromstring(response.content)"
   ]
  },
  {
   "cell_type": "code",
   "execution_count": 54,
   "metadata": {},
   "outputs": [],
   "source": [
    "# testing area for xpath \n",
    "rating = tree.xpath('//div[normalize-space(text())=\"Reviews\"]/preceding-sibling::div')\n",
    "\n",
    "# tes = tree.xpath('/html/body/div[1]/div/main/div/section[4]/section/article/section/div[2]/a')\n",
    "\n",
    "price = tree.xpath('//*[@id=\"root\"]/div[2]/main/div/section[4]/section/section/article[1]/section[2]/p[2]')\n",
    "# help(tes[0])\n",
    "# print(tes[0].get_attribute(\"value\"))\n",
    "\n",
    "facility = tree.xpath('//*[@id=\"root\"]/div[2]/main/div/section[4]/section/section/article[1]/section[2]/h3[4]')"
   ]
  },
  {
   "cell_type": "code",
   "execution_count": 55,
   "metadata": {},
   "outputs": [
    {
     "name": "stdout",
     "output_type": "stream",
     "text": [
      "Home Delivery\n",
      "Takeaway Available\n",
      "Indoor Seating\n",
      "Smoking Area\n",
      "No Alcohol Available\n"
     ]
    }
   ],
   "source": [
    "# rating[0].text\n",
    "for item in html_soup.find_all('p', {'class': re.compile(r'cunMUz')}):\n",
    "    print (item.text)\n",
    "# sc-1hez2tp-0 cunMUz"
   ]
  },
  {
   "cell_type": "code",
   "execution_count": 16,
   "metadata": {},
   "outputs": [],
   "source": [
    "main_url = 'https://www.zomato.com/jakarta'\n",
    "response = requests.get(main_url, headers=my_headers)\n",
    "\n",
    "# parsing \n",
    "html_soup = BeautifulSoup(response.text, 'html.parser')\n",
    "tree = html.fromstring(response.content)"
   ]
  },
  {
   "cell_type": "code",
   "execution_count": 17,
   "metadata": {},
   "outputs": [],
   "source": [
    "# extract \n",
    "\n",
    "rest_jakarta = tree.xpath('/html/body/div[1]/div/div[4]/div[4]/div[2]/div')"
   ]
  },
  {
   "cell_type": "code",
   "execution_count": 42,
   "metadata": {},
   "outputs": [
    {
     "name": "stdout",
     "output_type": "stream",
     "text": [
      "div\n"
     ]
    }
   ],
   "source": [
    "for item in rest_jakarta[0][0]:\n",
    "#     print(item.tag)\n",
    "    for subitem in item:\n",
    "        print(subitem.tag)"
   ]
  },
  {
   "cell_type": "code",
   "execution_count": 43,
   "metadata": {},
   "outputs": [
    {
     "name": "stdout",
     "output_type": "stream",
     "text": [
      "[<Element div at 0x1e07c79e0e8>]\n"
     ]
    }
   ],
   "source": [
    "print(rest_jakarta)"
   ]
  },
  {
   "cell_type": "code",
   "execution_count": null,
   "metadata": {},
   "outputs": [],
   "source": []
  }
 ],
 "metadata": {
  "kernelspec": {
   "display_name": "Python 3.8.8 ('base')",
   "language": "python",
   "name": "python3"
  },
  "language_info": {
   "codemirror_mode": {
    "name": "ipython",
    "version": 3
   },
   "file_extension": ".py",
   "mimetype": "text/x-python",
   "name": "python",
   "nbconvert_exporter": "python",
   "pygments_lexer": "ipython3",
   "version": "3.8.8"
  },
  "vscode": {
   "interpreter": {
    "hash": "9980599ad9850bdffd342280c0ae1db934122879fcb1d3c5fb59c8802b20124c"
   }
  }
 },
 "nbformat": 4,
 "nbformat_minor": 4
}
