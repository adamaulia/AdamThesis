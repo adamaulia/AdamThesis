{
 "cells": [
  {
   "cell_type": "code",
   "execution_count": 1,
   "metadata": {},
   "outputs": [],
   "source": [
    "import requests\n",
    "import json \n",
    "from bs4 import BeautifulSoup\n",
    "from lxml import html\n",
    "import re\n",
    "import pandas as pd \n",
    "from tqdm import tqdm"
   ]
  },
  {
   "cell_type": "markdown",
   "metadata": {},
   "source": [
    "# Retrieve information from each restaurant "
   ]
  },
  {
   "cell_type": "code",
   "execution_count": 2,
   "metadata": {},
   "outputs": [],
   "source": [
    "def extract_restaurant(url, header):\n",
    "    response = requests.get(url, headers=header)\n",
    "    \n",
    "    # parsing \n",
    "    html_soup = BeautifulSoup(response.text, 'html.parser')\n",
    "    tree = html.fromstring(response.content)\n",
    "    \n",
    "    #content \n",
    "    restaurant_page = {}\n",
    "    restaurant_page['url'] = url\n",
    "\n",
    "    # restaurant element\n",
    "    # title \n",
    "    rest_title = ''\n",
    "    try :\n",
    "    # rest_title = html_soup.find_all('h1')[-1].text\n",
    "        rest_title = tree.xpath('/html/body/div[1]/div/main/div/section[3]/section/section/div/div/div/h1')[0].text\n",
    "        restaurant_page['title'] = rest_title\n",
    "    except :\n",
    "        pass \n",
    "    \n",
    "    # extract restaurant type \n",
    "    rest_type = []\n",
    "    for item in html_soup.find_all('span'): \n",
    "        try : \n",
    "            rest_type.append((item.find_all('a', href=True)[0].text))\n",
    "        except : \n",
    "            pass \n",
    "    rest_type = '|'.join(rest_type[:-1])\n",
    "    restaurant_page['rest_type'] = rest_type\n",
    "\n",
    "    # price \n",
    "    rest_price = []\n",
    "    \n",
    "    for  item in html_soup.find_all('p'):\n",
    "        if 'Rp' in item.text:\n",
    "            rest_price.append(item.text)\n",
    "    \n",
    "    rest_price = '|'.join(rest_price)\n",
    "    restaurant_page['rest_price'] = rest_price\n",
    "\n",
    "    # facility \n",
    "    rest_facility = []\n",
    "    \n",
    "    for item in html_soup.find_all('p', {'class': re.compile(r'cunMUz')}):\n",
    "        rest_facility.append(item.text)\n",
    "    restaurant_page['rest_facility'] = '|'.join(rest_facility)\n",
    "\n",
    "    # long lat \n",
    "    long_lat = [] \n",
    "    try : \n",
    "        for item in html_soup.find_all('a',href=True):\n",
    "            if 'google' in item['href'] : \n",
    "                long_lat.append(item['href'])\n",
    "            else : \n",
    "                pass \n",
    "    except :\n",
    "        pass\n",
    "        \n",
    "    restaurant_page['rest_longlat'] = list(set(long_lat))\n",
    "\n",
    "    \n",
    "    # rating \n",
    "    rating = ''\n",
    "    try : \n",
    "        rating = html_soup.find_all(\"div\", {\"class\": \"sc-1q7bklc-1 cILgox\"})[0].text\n",
    "        restaurant_page['rating'] = rating\n",
    "    except : \n",
    "        pass \n",
    "    \n",
    "    # total review \n",
    "    review = ''\n",
    "    # review = tree.xpath('//div[normalize-space(text())=\"Reviews\"]/preceding-sibling::div')\n",
    "\n",
    "    try :\n",
    "        review = tree.xpath('//*[@id=\"root\"]/div/main/div/section[3]/section/section/div/div/div/section/div/div[2]/div[1]')\n",
    "        review = review[0].text\n",
    "        restaurant_page['review'] = review\n",
    "    except : \n",
    "        restaurant_page['review'] = review\n",
    "        \n",
    "    return restaurant_page"
   ]
  },
  {
   "cell_type": "code",
   "execution_count": 3,
   "metadata": {},
   "outputs": [],
   "source": [
    "# url = 'https://www.zomato.com/jakarta/monks-kelapa-gading'\n",
    "url = 'https://www.zomato.com/jakarta/aroma-palopo-kelapa-gading/info'\n",
    "my_headers = {\"User-Agent\":\"Mozilla/5.0 (Windows NT 10.0; Win64; x64; rv:101.0) Gecko/20100101 Firefox/101.0\", \n",
    "          \"Accept\":\"text/html,application/xhtml+xml,application/xml;q=0.9,image/webp,image/apng,*/*;q=0.8\",\n",
    "              \"Accept-Language\":\"en-US,en;q=0.5\", \n",
    "             \"Accept-Encoding\":\"gzip, deflate, br\"}\n",
    "\n",
    "rest_content = extract_restaurant(url, my_headers)"
   ]
  },
  {
   "cell_type": "code",
   "execution_count": 4,
   "metadata": {},
   "outputs": [
    {
     "data": {
      "text/plain": [
       "{'url': 'https://www.zomato.com/jakarta/aroma-palopo-kelapa-gading/info',\n",
       " 'title': 'Aroma Palopo',\n",
       " 'rest_type': 'Makassar',\n",
       " 'rest_price': 'Rp80.000 for two people (approx.)',\n",
       " 'rest_facility': 'Home Delivery|Takeaway Available|Indoor Seating|Smoking Area|No Alcohol Available',\n",
       " 'rest_longlat': ['https://www.google.com/maps/dir/?api=1&destination=-6.1714440000,106.8982310000'],\n",
       " 'rating': '3.7',\n",
       " 'review': '20'}"
      ]
     },
     "execution_count": 4,
     "metadata": {},
     "output_type": "execute_result"
    }
   ],
   "source": [
    "rest_content"
   ]
  },
  {
   "cell_type": "code",
   "execution_count": 30,
   "metadata": {},
   "outputs": [],
   "source": [
    "df = pd.read_csv('1_jakarta_rest.csv')\n",
    "df = df.dropna()\n",
    "df = df.drop_duplicates()\n",
    "df2 = pd.read_csv('3_jak_rest_detail.csv')"
   ]
  },
  {
   "cell_type": "code",
   "execution_count": 32,
   "metadata": {},
   "outputs": [
    {
     "data": {
      "text/html": [
       "<div>\n",
       "<style scoped>\n",
       "    .dataframe tbody tr th:only-of-type {\n",
       "        vertical-align: middle;\n",
       "    }\n",
       "\n",
       "    .dataframe tbody tr th {\n",
       "        vertical-align: top;\n",
       "    }\n",
       "\n",
       "    .dataframe thead th {\n",
       "        text-align: right;\n",
       "    }\n",
       "</style>\n",
       "<table border=\"1\" class=\"dataframe\">\n",
       "  <thead>\n",
       "    <tr style=\"text-align: right;\">\n",
       "      <th></th>\n",
       "      <th>district</th>\n",
       "      <th>rest_url</th>\n",
       "      <th>count</th>\n",
       "    </tr>\n",
       "  </thead>\n",
       "  <tbody>\n",
       "    <tr>\n",
       "      <th>1473</th>\n",
       "      <td>https://www.zomato.com/jakarta/thamrin-restaur...</td>\n",
       "      <td>https://www.zomato.com/jakarta/namelaka-menten...</td>\n",
       "      <td>501</td>\n",
       "    </tr>\n",
       "    <tr>\n",
       "      <th>6509</th>\n",
       "      <td>https://www.zomato.com/jakarta/setiabudi-resta...</td>\n",
       "      <td>https://www.zomato.com/jakarta/namelaka-menten...</td>\n",
       "      <td>501</td>\n",
       "    </tr>\n",
       "    <tr>\n",
       "      <th>8592</th>\n",
       "      <td>https://www.zomato.com/jakarta/menteng-restaur...</td>\n",
       "      <td>https://www.zomato.com/jakarta/namelaka-menten...</td>\n",
       "      <td>501</td>\n",
       "    </tr>\n",
       "    <tr>\n",
       "      <th>9700</th>\n",
       "      <td>https://www.zomato.com/jakarta/cikini-restaurants</td>\n",
       "      <td>https://www.zomato.com/jakarta/namelaka-menten...</td>\n",
       "      <td>489</td>\n",
       "    </tr>\n",
       "    <tr>\n",
       "      <th>9981</th>\n",
       "      <td>https://www.zomato.com/jakarta/menteng-restaur...</td>\n",
       "      <td>https://www.zomato.com/jakarta/namelaka-menten...</td>\n",
       "      <td>9</td>\n",
       "    </tr>\n",
       "    <tr>\n",
       "      <th>10127</th>\n",
       "      <td>https://www.zomato.com/jakarta/cikini-restaurants</td>\n",
       "      <td>https://www.zomato.com/jakarta/namelaka-menten...</td>\n",
       "      <td>501</td>\n",
       "    </tr>\n",
       "  </tbody>\n",
       "</table>\n",
       "</div>"
      ],
      "text/plain": [
       "                                                district  \\\n",
       "1473   https://www.zomato.com/jakarta/thamrin-restaur...   \n",
       "6509   https://www.zomato.com/jakarta/setiabudi-resta...   \n",
       "8592   https://www.zomato.com/jakarta/menteng-restaur...   \n",
       "9700   https://www.zomato.com/jakarta/cikini-restaurants   \n",
       "9981   https://www.zomato.com/jakarta/menteng-restaur...   \n",
       "10127  https://www.zomato.com/jakarta/cikini-restaurants   \n",
       "\n",
       "                                                rest_url  count  \n",
       "1473   https://www.zomato.com/jakarta/namelaka-menten...    501  \n",
       "6509   https://www.zomato.com/jakarta/namelaka-menten...    501  \n",
       "8592   https://www.zomato.com/jakarta/namelaka-menten...    501  \n",
       "9700   https://www.zomato.com/jakarta/namelaka-menten...    489  \n",
       "9981   https://www.zomato.com/jakarta/namelaka-menten...      9  \n",
       "10127  https://www.zomato.com/jakarta/namelaka-menten...    501  "
      ]
     },
     "execution_count": 32,
     "metadata": {},
     "output_type": "execute_result"
    }
   ],
   "source": [
    "df[df['rest_url']=='https://www.zomato.com/jakarta/namelaka-menteng/info']"
   ]
  },
  {
   "cell_type": "code",
   "execution_count": 31,
   "metadata": {},
   "outputs": [
    {
     "data": {
      "text/plain": [
       "((10558, 3), (7305, 8))"
      ]
     },
     "execution_count": 31,
     "metadata": {},
     "output_type": "execute_result"
    }
   ],
   "source": [
    "df.shape, df2.shape"
   ]
  },
  {
   "cell_type": "code",
   "execution_count": 22,
   "metadata": {},
   "outputs": [
    {
     "data": {
      "text/html": [
       "<div>\n",
       "<style scoped>\n",
       "    .dataframe tbody tr th:only-of-type {\n",
       "        vertical-align: middle;\n",
       "    }\n",
       "\n",
       "    .dataframe tbody tr th {\n",
       "        vertical-align: top;\n",
       "    }\n",
       "\n",
       "    .dataframe thead th {\n",
       "        text-align: right;\n",
       "    }\n",
       "</style>\n",
       "<table border=\"1\" class=\"dataframe\">\n",
       "  <thead>\n",
       "    <tr style=\"text-align: right;\">\n",
       "      <th></th>\n",
       "      <th>district</th>\n",
       "      <th>rest_url</th>\n",
       "      <th>count</th>\n",
       "    </tr>\n",
       "  </thead>\n",
       "  <tbody>\n",
       "  </tbody>\n",
       "</table>\n",
       "</div>"
      ],
      "text/plain": [
       "Empty DataFrame\n",
       "Columns: [district, rest_url, count]\n",
       "Index: []"
      ]
     },
     "execution_count": 22,
     "metadata": {},
     "output_type": "execute_result"
    }
   ],
   "source": [
    "df[~df.rest_url.isin(df2['url'])]"
   ]
  },
  {
   "cell_type": "code",
   "execution_count": 23,
   "metadata": {},
   "outputs": [
    {
     "data": {
      "text/plain": [
       "https://www.zomato.com/jakarta/namelaka-menteng/info                            6\n",
       "https://www.zomato.com/jakarta/bunga-rampai-menteng/info                        6\n",
       "https://www.zomato.com/jakarta/al-jazeerah-signature-menteng/info               6\n",
       "https://www.zomato.com/jakarta/maple-oak-menteng/info                           6\n",
       "https://www.zomato.com/jakarta/tugu-kunstkring-paleis-menteng/info              6\n",
       "                                                                               ..\n",
       "https://www.zomato.com/jakarta/warung-sate-solo-pondok-sri-pondok-indah/info    1\n",
       "https://www.zomato.com/jakarta/onezo-tanjung-duren/info                         1\n",
       "https://www.zomato.com/jakarta/komuja-coffee-pantai-indah-kapuk/info            1\n",
       "https://www.zomato.com/jakarta/koi-teppanyaki-pondok-indah/info                 1\n",
       "https://www.zomato.com/jakarta/imperial-kitchen-dimsum-tebet/info               1\n",
       "Name: rest_url, Length: 7277, dtype: int64"
      ]
     },
     "execution_count": 23,
     "metadata": {},
     "output_type": "execute_result"
    }
   ],
   "source": [
    "df['rest_url'].value_counts()"
   ]
  },
  {
   "cell_type": "code",
   "execution_count": 29,
   "metadata": {},
   "outputs": [
    {
     "data": {
      "text/plain": [
       "https://www.zomato.com/jakarta/namelaka-menteng/info                            6\n",
       "https://www.zomato.com/jakarta/bunga-rampai-menteng/info                        6\n",
       "https://www.zomato.com/jakarta/al-jazeerah-signature-menteng/info               6\n",
       "https://www.zomato.com/jakarta/maple-oak-menteng/info                           6\n",
       "https://www.zomato.com/jakarta/tugu-kunstkring-paleis-menteng/info              6\n",
       "                                                                               ..\n",
       "https://www.zomato.com/jakarta/warung-sate-solo-pondok-sri-pondok-indah/info    1\n",
       "https://www.zomato.com/jakarta/onezo-tanjung-duren/info                         1\n",
       "https://www.zomato.com/jakarta/komuja-coffee-pantai-indah-kapuk/info            1\n",
       "https://www.zomato.com/jakarta/koi-teppanyaki-pondok-indah/info                 1\n",
       "https://www.zomato.com/jakarta/imperial-kitchen-dimsum-tebet/info               1\n",
       "Name: rest_url, Length: 7277, dtype: int64"
      ]
     },
     "execution_count": 29,
     "metadata": {},
     "output_type": "execute_result"
    }
   ],
   "source": [
    "df['rest_url'].value_counts()"
   ]
  },
  {
   "cell_type": "code",
   "execution_count": 11,
   "metadata": {},
   "outputs": [],
   "source": [
    "df3 = pd.merge(df,df2['url'],left_on='rest_url',right_on='url',how='left')"
   ]
  },
  {
   "cell_type": "code",
   "execution_count": 16,
   "metadata": {},
   "outputs": [
    {
     "data": {
      "text/html": [
       "<div>\n",
       "<style scoped>\n",
       "    .dataframe tbody tr th:only-of-type {\n",
       "        vertical-align: middle;\n",
       "    }\n",
       "\n",
       "    .dataframe tbody tr th {\n",
       "        vertical-align: top;\n",
       "    }\n",
       "\n",
       "    .dataframe thead th {\n",
       "        text-align: right;\n",
       "    }\n",
       "</style>\n",
       "<table border=\"1\" class=\"dataframe\">\n",
       "  <thead>\n",
       "    <tr style=\"text-align: right;\">\n",
       "      <th></th>\n",
       "      <th>district</th>\n",
       "      <th>rest_url</th>\n",
       "      <th>count</th>\n",
       "      <th>url</th>\n",
       "    </tr>\n",
       "  </thead>\n",
       "  <tbody>\n",
       "    <tr>\n",
       "      <th>0</th>\n",
       "      <td>https://www.zomato.com/jakarta/kelapa-gading-r...</td>\n",
       "      <td>https://www.zomato.com/jakarta/wakacao-1-kelap...</td>\n",
       "      <td>501</td>\n",
       "      <td>https://www.zomato.com/jakarta/wakacao-1-kelap...</td>\n",
       "    </tr>\n",
       "    <tr>\n",
       "      <th>1</th>\n",
       "      <td>https://www.zomato.com/jakarta/kelapa-gading-r...</td>\n",
       "      <td>https://www.zomato.com/jakarta/the-coffee-bean...</td>\n",
       "      <td>501</td>\n",
       "      <td>https://www.zomato.com/jakarta/the-coffee-bean...</td>\n",
       "    </tr>\n",
       "    <tr>\n",
       "      <th>2</th>\n",
       "      <td>https://www.zomato.com/jakarta/kelapa-gading-r...</td>\n",
       "      <td>https://www.zomato.com/jakarta/angke-kelapa-ga...</td>\n",
       "      <td>501</td>\n",
       "      <td>https://www.zomato.com/jakarta/angke-kelapa-ga...</td>\n",
       "    </tr>\n",
       "    <tr>\n",
       "      <th>3</th>\n",
       "      <td>https://www.zomato.com/jakarta/kelapa-gading-r...</td>\n",
       "      <td>https://www.zomato.com/jakarta/ikan-nila-pak-u...</td>\n",
       "      <td>501</td>\n",
       "      <td>https://www.zomato.com/jakarta/ikan-nila-pak-u...</td>\n",
       "    </tr>\n",
       "    <tr>\n",
       "      <th>4</th>\n",
       "      <td>https://www.zomato.com/jakarta/kelapa-gading-r...</td>\n",
       "      <td>https://www.zomato.com/jakarta/hong-kong-sheng...</td>\n",
       "      <td>501</td>\n",
       "      <td>https://www.zomato.com/jakarta/hong-kong-sheng...</td>\n",
       "    </tr>\n",
       "  </tbody>\n",
       "</table>\n",
       "</div>"
      ],
      "text/plain": [
       "                                            district  \\\n",
       "0  https://www.zomato.com/jakarta/kelapa-gading-r...   \n",
       "1  https://www.zomato.com/jakarta/kelapa-gading-r...   \n",
       "2  https://www.zomato.com/jakarta/kelapa-gading-r...   \n",
       "3  https://www.zomato.com/jakarta/kelapa-gading-r...   \n",
       "4  https://www.zomato.com/jakarta/kelapa-gading-r...   \n",
       "\n",
       "                                            rest_url  count  \\\n",
       "0  https://www.zomato.com/jakarta/wakacao-1-kelap...    501   \n",
       "1  https://www.zomato.com/jakarta/the-coffee-bean...    501   \n",
       "2  https://www.zomato.com/jakarta/angke-kelapa-ga...    501   \n",
       "3  https://www.zomato.com/jakarta/ikan-nila-pak-u...    501   \n",
       "4  https://www.zomato.com/jakarta/hong-kong-sheng...    501   \n",
       "\n",
       "                                                 url  \n",
       "0  https://www.zomato.com/jakarta/wakacao-1-kelap...  \n",
       "1  https://www.zomato.com/jakarta/the-coffee-bean...  \n",
       "2  https://www.zomato.com/jakarta/angke-kelapa-ga...  \n",
       "3  https://www.zomato.com/jakarta/ikan-nila-pak-u...  \n",
       "4  https://www.zomato.com/jakarta/hong-kong-sheng...  "
      ]
     },
     "execution_count": 16,
     "metadata": {},
     "output_type": "execute_result"
    }
   ],
   "source": [
    "df3.head()"
   ]
  },
  {
   "cell_type": "code",
   "execution_count": 17,
   "metadata": {},
   "outputs": [
    {
     "data": {
      "text/plain": [
       "(10646, 4)"
      ]
     },
     "execution_count": 17,
     "metadata": {},
     "output_type": "execute_result"
    }
   ],
   "source": [
    "df3.shape"
   ]
  },
  {
   "cell_type": "code",
   "execution_count": 18,
   "metadata": {},
   "outputs": [
    {
     "data": {
      "text/plain": [
       "district    0\n",
       "rest_url    0\n",
       "count       0\n",
       "url         0\n",
       "dtype: int64"
      ]
     },
     "execution_count": 18,
     "metadata": {},
     "output_type": "execute_result"
    }
   ],
   "source": [
    "df3.isnull().sum()"
   ]
  },
  {
   "cell_type": "code",
   "execution_count": 46,
   "metadata": {},
   "outputs": [
    {
     "data": {
      "text/html": [
       "<div>\n",
       "<style scoped>\n",
       "    .dataframe tbody tr th:only-of-type {\n",
       "        vertical-align: middle;\n",
       "    }\n",
       "\n",
       "    .dataframe tbody tr th {\n",
       "        vertical-align: top;\n",
       "    }\n",
       "\n",
       "    .dataframe thead th {\n",
       "        text-align: right;\n",
       "    }\n",
       "</style>\n",
       "<table border=\"1\" class=\"dataframe\">\n",
       "  <thead>\n",
       "    <tr style=\"text-align: right;\">\n",
       "      <th></th>\n",
       "      <th>district</th>\n",
       "      <th>rest_url</th>\n",
       "      <th>count</th>\n",
       "    </tr>\n",
       "  </thead>\n",
       "  <tbody>\n",
       "    <tr>\n",
       "      <th>5224</th>\n",
       "      <td>https://www.zomato.com/jakarta/fatmawati-resta...</td>\n",
       "      <td>https://www.zomato.com/jakarta/sgd-tofu-house-...</td>\n",
       "      <td>501</td>\n",
       "    </tr>\n",
       "    <tr>\n",
       "      <th>5225</th>\n",
       "      <td>https://www.zomato.com/jakarta/fatmawati-resta...</td>\n",
       "      <td>https://www.zomato.com/jakarta/house-of-omuric...</td>\n",
       "      <td>501</td>\n",
       "    </tr>\n",
       "    <tr>\n",
       "      <th>5226</th>\n",
       "      <td>https://www.zomato.com/jakarta/fatmawati-resta...</td>\n",
       "      <td>https://www.zomato.com/jakarta/waroeng-modus-1...</td>\n",
       "      <td>501</td>\n",
       "    </tr>\n",
       "    <tr>\n",
       "      <th>5227</th>\n",
       "      <td>https://www.zomato.com/jakarta/fatmawati-resta...</td>\n",
       "      <td>https://www.zomato.com/jakarta/white-tree-caf%...</td>\n",
       "      <td>501</td>\n",
       "    </tr>\n",
       "    <tr>\n",
       "      <th>5228</th>\n",
       "      <td>https://www.zomato.com/jakarta/fatmawati-resta...</td>\n",
       "      <td>https://www.zomato.com/jakarta/pink-pink-fatma...</td>\n",
       "      <td>501</td>\n",
       "    </tr>\n",
       "    <tr>\n",
       "      <th>...</th>\n",
       "      <td>...</td>\n",
       "      <td>...</td>\n",
       "      <td>...</td>\n",
       "    </tr>\n",
       "    <tr>\n",
       "      <th>10555</th>\n",
       "      <td>https://www.zomato.com/jakarta/dharmawangsa-re...</td>\n",
       "      <td>https://www.zomato.com/jakarta/porter-bar-kema...</td>\n",
       "      <td>501</td>\n",
       "    </tr>\n",
       "    <tr>\n",
       "      <th>10556</th>\n",
       "      <td>https://www.zomato.com/jakarta/dharmawangsa-re...</td>\n",
       "      <td>https://www.zomato.com/jakarta/amertha-warung-...</td>\n",
       "      <td>501</td>\n",
       "    </tr>\n",
       "    <tr>\n",
       "      <th>10557</th>\n",
       "      <td>https://www.zomato.com/jakarta/dharmawangsa-re...</td>\n",
       "      <td>https://www.zomato.com/jakarta/izakaya-taichan...</td>\n",
       "      <td>501</td>\n",
       "    </tr>\n",
       "    <tr>\n",
       "      <th>10558</th>\n",
       "      <td>https://www.zomato.com/jakarta/dharmawangsa-re...</td>\n",
       "      <td>https://www.zomato.com/jakarta/soto-ayam-amben...</td>\n",
       "      <td>501</td>\n",
       "    </tr>\n",
       "    <tr>\n",
       "      <th>10559</th>\n",
       "      <td>https://www.zomato.com/jakarta/dharmawangsa-re...</td>\n",
       "      <td>https://www.zomato.com/jakarta/sapo-oriental-b...</td>\n",
       "      <td>501</td>\n",
       "    </tr>\n",
       "  </tbody>\n",
       "</table>\n",
       "<p>5335 rows × 3 columns</p>\n",
       "</div>"
      ],
      "text/plain": [
       "                                                district  \\\n",
       "5224   https://www.zomato.com/jakarta/fatmawati-resta...   \n",
       "5225   https://www.zomato.com/jakarta/fatmawati-resta...   \n",
       "5226   https://www.zomato.com/jakarta/fatmawati-resta...   \n",
       "5227   https://www.zomato.com/jakarta/fatmawati-resta...   \n",
       "5228   https://www.zomato.com/jakarta/fatmawati-resta...   \n",
       "...                                                  ...   \n",
       "10555  https://www.zomato.com/jakarta/dharmawangsa-re...   \n",
       "10556  https://www.zomato.com/jakarta/dharmawangsa-re...   \n",
       "10557  https://www.zomato.com/jakarta/dharmawangsa-re...   \n",
       "10558  https://www.zomato.com/jakarta/dharmawangsa-re...   \n",
       "10559  https://www.zomato.com/jakarta/dharmawangsa-re...   \n",
       "\n",
       "                                                rest_url  count  \n",
       "5224   https://www.zomato.com/jakarta/sgd-tofu-house-...    501  \n",
       "5225   https://www.zomato.com/jakarta/house-of-omuric...    501  \n",
       "5226   https://www.zomato.com/jakarta/waroeng-modus-1...    501  \n",
       "5227   https://www.zomato.com/jakarta/white-tree-caf%...    501  \n",
       "5228   https://www.zomato.com/jakarta/pink-pink-fatma...    501  \n",
       "...                                                  ...    ...  \n",
       "10555  https://www.zomato.com/jakarta/porter-bar-kema...    501  \n",
       "10556  https://www.zomato.com/jakarta/amertha-warung-...    501  \n",
       "10557  https://www.zomato.com/jakarta/izakaya-taichan...    501  \n",
       "10558  https://www.zomato.com/jakarta/soto-ayam-amben...    501  \n",
       "10559  https://www.zomato.com/jakarta/sapo-oriental-b...    501  \n",
       "\n",
       "[5335 rows x 3 columns]"
      ]
     },
     "execution_count": 46,
     "metadata": {},
     "output_type": "execute_result"
    }
   ],
   "source": [
    "df.iloc[5223:,:]"
   ]
  },
  {
   "cell_type": "code",
   "execution_count": 47,
   "metadata": {},
   "outputs": [
    {
     "name": "stderr",
     "output_type": "stream",
     "text": [
      "5335it [3:32:04,  2.39s/it]\n"
     ]
    }
   ],
   "source": [
    "result = []\n",
    "for url in tqdm(df.iloc[5223:,:].itertuples()):\n",
    "    result.append(extract_restaurant(url.rest_url, my_headers))"
   ]
  },
  {
   "cell_type": "code",
   "execution_count": 48,
   "metadata": {},
   "outputs": [],
   "source": [
    "df_result = pd.DataFrame(result)"
   ]
  },
  {
   "cell_type": "code",
   "execution_count": 49,
   "metadata": {},
   "outputs": [
    {
     "data": {
      "text/html": [
       "<div>\n",
       "<style scoped>\n",
       "    .dataframe tbody tr th:only-of-type {\n",
       "        vertical-align: middle;\n",
       "    }\n",
       "\n",
       "    .dataframe tbody tr th {\n",
       "        vertical-align: top;\n",
       "    }\n",
       "\n",
       "    .dataframe thead th {\n",
       "        text-align: right;\n",
       "    }\n",
       "</style>\n",
       "<table border=\"1\" class=\"dataframe\">\n",
       "  <thead>\n",
       "    <tr style=\"text-align: right;\">\n",
       "      <th></th>\n",
       "      <th>url</th>\n",
       "      <th>title</th>\n",
       "      <th>rest_type</th>\n",
       "      <th>rest_price</th>\n",
       "      <th>rest_facility</th>\n",
       "      <th>rest_longlat</th>\n",
       "      <th>rating</th>\n",
       "      <th>review</th>\n",
       "    </tr>\n",
       "  </thead>\n",
       "  <tbody>\n",
       "    <tr>\n",
       "      <th>5330</th>\n",
       "      <td>https://www.zomato.com/jakarta/porter-bar-kema...</td>\n",
       "      <td>Porter Bar</td>\n",
       "      <td>Western|Finger Food</td>\n",
       "      <td>Rp200.000 for two people (approx.) Without alc...</td>\n",
       "      <td>Takeaway Available|Full Bar Available|Smoking ...</td>\n",
       "      <td>[https://www.google.com/maps/dir/?api=1&amp;destin...</td>\n",
       "      <td>3.6</td>\n",
       "      <td>93</td>\n",
       "    </tr>\n",
       "    <tr>\n",
       "      <th>5331</th>\n",
       "      <td>https://www.zomato.com/jakarta/amertha-warung-...</td>\n",
       "      <td>Amertha Warung Coffee</td>\n",
       "      <td>Coffee|Indonesian</td>\n",
       "      <td>Rp160.000 for two people (approx.)</td>\n",
       "      <td>Breakfast|Takeaway Available|Valet Parking Ava...</td>\n",
       "      <td>[https://www.google.com/maps/dir/?api=1&amp;destin...</td>\n",
       "      <td>3.8</td>\n",
       "      <td>45</td>\n",
       "    </tr>\n",
       "    <tr>\n",
       "      <th>5332</th>\n",
       "      <td>https://www.zomato.com/jakarta/izakaya-taichan...</td>\n",
       "      <td>Izakaya Taichan</td>\n",
       "      <td>Japanese|Ramen|Sushi</td>\n",
       "      <td>Rp300.000 for two people (approx.) Without alc...</td>\n",
       "      <td>Takeaway Available|Wine and Beer|Indoor Seatin...</td>\n",
       "      <td>[https://www.google.com/maps/dir/?api=1&amp;destin...</td>\n",
       "      <td>3.5</td>\n",
       "      <td>65</td>\n",
       "    </tr>\n",
       "    <tr>\n",
       "      <th>5333</th>\n",
       "      <td>https://www.zomato.com/jakarta/soto-ayam-amben...</td>\n",
       "      <td>Soto Ayam Ambengan Pak Sadi (ASLI)</td>\n",
       "      <td>Soto|Jawa</td>\n",
       "      <td>Rp150.000 for two people (approx.)</td>\n",
       "      <td>Breakfast|Takeaway Available|Wifi|Indoor Seati...</td>\n",
       "      <td>[https://www.google.com/maps/dir/?api=1&amp;destin...</td>\n",
       "      <td>4.0</td>\n",
       "      <td>96</td>\n",
       "    </tr>\n",
       "    <tr>\n",
       "      <th>5334</th>\n",
       "      <td>https://www.zomato.com/jakarta/sapo-oriental-b...</td>\n",
       "      <td>Sapo Oriental</td>\n",
       "      <td>Chinese</td>\n",
       "      <td>Rp200.000 for two people (approx.)</td>\n",
       "      <td>Home Delivery|Takeaway Available|Indoor Seatin...</td>\n",
       "      <td>[https://www.google.com/maps/dir/?api=1&amp;destin...</td>\n",
       "      <td>4.2</td>\n",
       "      <td>137</td>\n",
       "    </tr>\n",
       "  </tbody>\n",
       "</table>\n",
       "</div>"
      ],
      "text/plain": [
       "                                                    url  \\\n",
       "5330  https://www.zomato.com/jakarta/porter-bar-kema...   \n",
       "5331  https://www.zomato.com/jakarta/amertha-warung-...   \n",
       "5332  https://www.zomato.com/jakarta/izakaya-taichan...   \n",
       "5333  https://www.zomato.com/jakarta/soto-ayam-amben...   \n",
       "5334  https://www.zomato.com/jakarta/sapo-oriental-b...   \n",
       "\n",
       "                                   title             rest_type  \\\n",
       "5330                          Porter Bar   Western|Finger Food   \n",
       "5331               Amertha Warung Coffee     Coffee|Indonesian   \n",
       "5332                     Izakaya Taichan  Japanese|Ramen|Sushi   \n",
       "5333  Soto Ayam Ambengan Pak Sadi (ASLI)             Soto|Jawa   \n",
       "5334                       Sapo Oriental               Chinese   \n",
       "\n",
       "                                             rest_price  \\\n",
       "5330  Rp200.000 for two people (approx.) Without alc...   \n",
       "5331                 Rp160.000 for two people (approx.)   \n",
       "5332  Rp300.000 for two people (approx.) Without alc...   \n",
       "5333                 Rp150.000 for two people (approx.)   \n",
       "5334                 Rp200.000 for two people (approx.)   \n",
       "\n",
       "                                          rest_facility  \\\n",
       "5330  Takeaway Available|Full Bar Available|Smoking ...   \n",
       "5331  Breakfast|Takeaway Available|Valet Parking Ava...   \n",
       "5332  Takeaway Available|Wine and Beer|Indoor Seatin...   \n",
       "5333  Breakfast|Takeaway Available|Wifi|Indoor Seati...   \n",
       "5334  Home Delivery|Takeaway Available|Indoor Seatin...   \n",
       "\n",
       "                                           rest_longlat rating review  \n",
       "5330  [https://www.google.com/maps/dir/?api=1&destin...    3.6     93  \n",
       "5331  [https://www.google.com/maps/dir/?api=1&destin...    3.8     45  \n",
       "5332  [https://www.google.com/maps/dir/?api=1&destin...    3.5     65  \n",
       "5333  [https://www.google.com/maps/dir/?api=1&destin...    4.0     96  \n",
       "5334  [https://www.google.com/maps/dir/?api=1&destin...    4.2    137  "
      ]
     },
     "execution_count": 49,
     "metadata": {},
     "output_type": "execute_result"
    }
   ],
   "source": [
    "df_result.tail()"
   ]
  },
  {
   "cell_type": "code",
   "execution_count": 50,
   "metadata": {},
   "outputs": [],
   "source": [
    "df_result.to_csv('jakarta_restaurant_detail3.csv',index=False)"
   ]
  },
  {
   "cell_type": "code",
   "execution_count": null,
   "metadata": {},
   "outputs": [],
   "source": [
    "%%time\n",
    "df['rest_info'] = df['rest_url'].apply(extract_restaurant, header = my_headers)"
   ]
  },
  {
   "cell_type": "code",
   "execution_count": null,
   "metadata": {},
   "outputs": [],
   "source": []
  },
  {
   "cell_type": "code",
   "execution_count": 52,
   "metadata": {},
   "outputs": [],
   "source": [
    "# set url \n",
    "url = 'https://www.zomato.com/jakarta/aroma-palopo-kelapa-gading/info'\n",
    "response = requests.get(url, headers=my_headers)\n",
    "\n",
    "# parsing \n",
    "html_soup = BeautifulSoup(response.text, 'html.parser')\n",
    "tree = html.fromstring(response.content)"
   ]
  },
  {
   "cell_type": "code",
   "execution_count": 54,
   "metadata": {},
   "outputs": [],
   "source": [
    "# testing area for xpath \n",
    "rating = tree.xpath('//div[normalize-space(text())=\"Reviews\"]/preceding-sibling::div')\n",
    "\n",
    "# tes = tree.xpath('/html/body/div[1]/div/main/div/section[4]/section/article/section/div[2]/a')\n",
    "\n",
    "price = tree.xpath('//*[@id=\"root\"]/div[2]/main/div/section[4]/section/section/article[1]/section[2]/p[2]')\n",
    "# help(tes[0])\n",
    "# print(tes[0].get_attribute(\"value\"))\n",
    "\n",
    "facility = tree.xpath('//*[@id=\"root\"]/div[2]/main/div/section[4]/section/section/article[1]/section[2]/h3[4]')"
   ]
  },
  {
   "cell_type": "code",
   "execution_count": 55,
   "metadata": {},
   "outputs": [
    {
     "name": "stdout",
     "output_type": "stream",
     "text": [
      "Home Delivery\n",
      "Takeaway Available\n",
      "Indoor Seating\n",
      "Smoking Area\n",
      "No Alcohol Available\n"
     ]
    }
   ],
   "source": [
    "# rating[0].text\n",
    "for item in html_soup.find_all('p', {'class': re.compile(r'cunMUz')}):\n",
    "    print (item.text)\n",
    "# sc-1hez2tp-0 cunMUz"
   ]
  },
  {
   "cell_type": "code",
   "execution_count": 16,
   "metadata": {},
   "outputs": [],
   "source": [
    "main_url = 'https://www.zomato.com/jakarta'\n",
    "response = requests.get(main_url, headers=my_headers)\n",
    "\n",
    "# parsing \n",
    "html_soup = BeautifulSoup(response.text, 'html.parser')\n",
    "tree = html.fromstring(response.content)"
   ]
  },
  {
   "cell_type": "code",
   "execution_count": 17,
   "metadata": {},
   "outputs": [],
   "source": [
    "# extract \n",
    "\n",
    "rest_jakarta = tree.xpath('/html/body/div[1]/div/div[4]/div[4]/div[2]/div')"
   ]
  },
  {
   "cell_type": "code",
   "execution_count": 42,
   "metadata": {},
   "outputs": [
    {
     "name": "stdout",
     "output_type": "stream",
     "text": [
      "div\n"
     ]
    }
   ],
   "source": [
    "for item in rest_jakarta[0][0]:\n",
    "#     print(item.tag)\n",
    "    for subitem in item:\n",
    "        print(subitem.tag)"
   ]
  },
  {
   "cell_type": "code",
   "execution_count": 43,
   "metadata": {},
   "outputs": [
    {
     "name": "stdout",
     "output_type": "stream",
     "text": [
      "[<Element div at 0x1e07c79e0e8>]\n"
     ]
    }
   ],
   "source": [
    "print(rest_jakarta)"
   ]
  },
  {
   "cell_type": "code",
   "execution_count": null,
   "metadata": {},
   "outputs": [],
   "source": []
  }
 ],
 "metadata": {
  "kernelspec": {
   "display_name": "Python 3",
   "language": "python",
   "name": "python3"
  },
  "language_info": {
   "codemirror_mode": {
    "name": "ipython",
    "version": 3
   },
   "file_extension": ".py",
   "mimetype": "text/x-python",
   "name": "python",
   "nbconvert_exporter": "python",
   "pygments_lexer": "ipython3",
   "version": "3.6.9"
  }
 },
 "nbformat": 4,
 "nbformat_minor": 4
}
