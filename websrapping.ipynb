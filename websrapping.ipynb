{
 "cells": [
  {
   "cell_type": "code",
   "execution_count": 1,
   "metadata": {},
   "outputs": [],
   "source": [
    "import requests\n",
    "import json \n",
    "from bs4 import BeautifulSoup\n",
    "from lxml import html"
   ]
  },
  {
   "cell_type": "code",
   "execution_count": 2,
   "metadata": {},
   "outputs": [],
   "source": [
    "my_headers = {\"User-Agent\":\"Mozilla/5.0 (Windows NT 10.0; Win64; x64; rv:101.0) Gecko/20100101 Firefox/101.0\", \n",
    "          \"Accept\":\"text/html,application/xhtml+xml,application/xml;q=0.9,image/webp,image/apng,*/*;q=0.8\",\n",
    "              \"Accept-Language\":\"en-US,en;q=0.5\", \n",
    "             \"Accept-Encoding\":\"gzip, deflate, br\"}"
   ]
  },
  {
   "cell_type": "code",
   "execution_count": 3,
   "metadata": {},
   "outputs": [],
   "source": [
    "# get all restaurant content \n",
    "\n",
    "url = 'https://www.zomato.com/jakarta/monks-kelapa-gading'\n",
    "response = requests.get(url, headers=my_headers)"
   ]
  },
  {
   "cell_type": "code",
   "execution_count": 4,
   "metadata": {},
   "outputs": [
    {
     "data": {
      "text/plain": [
       "bs4.BeautifulSoup"
      ]
     },
     "execution_count": 4,
     "metadata": {},
     "output_type": "execute_result"
    }
   ],
   "source": [
    "html_soup = BeautifulSoup(response.text, 'html.parser')\n",
    "tree = html.fromstring(response.content)\n",
    "type(html_soup)"
   ]
  },
  {
   "cell_type": "code",
   "execution_count": 5,
   "metadata": {},
   "outputs": [],
   "source": [
    "rating = tree.xpath('//div[normalize-space(text())=\"Reviews\"]/preceding-sibling::div')"
   ]
  },
  {
   "cell_type": "code",
   "execution_count": 6,
   "metadata": {},
   "outputs": [],
   "source": [
    "tes = tree.xpath('/html/body/div[1]/div/main/div/section[4]/section/article/section/div[2]/a')\n",
    "# help(tes[0])\n",
    "# print(tes[0].get_attribute(\"value\"))"
   ]
  },
  {
   "cell_type": "code",
   "execution_count": 7,
   "metadata": {},
   "outputs": [],
   "source": [
    "restaurant_page = {}\n",
    "\n",
    "restaurant_page['url'] = url\n",
    "\n",
    "# restaurant element\n",
    "\n",
    "# title \n",
    "rest_title = ''\n",
    "# rest_title = html_soup.find_all('h1')[-1].text\n",
    "rest_title = tree.xpath('/html/body/div[1]/div/main/div/section[3]/section/section/div/div/div/h1')[0].text\n",
    "restaurant_page['title'] = rest_title\n",
    "\n",
    "# extract restaurant type \n",
    "rest_type = []\n",
    "for item in html_soup.find_all('span'): \n",
    "    try : \n",
    "        rest_type.append((item.find_all('a', href=True)[0].text))\n",
    "    except : \n",
    "        pass \n",
    "rest_type = rest_type[:-1]\n",
    "\n",
    "restaurant_page['rest_type'] = rest_type\n",
    "\n",
    "# price \n",
    "rest_price = ''\n",
    "rest_price = html_soup.find_all('p')[7].text\n",
    "# rest_price = tree.xpath('/html/body/div[1]/div/main/div/section[4]/section/section/article[1]/section[2]/p[3]')[0].text\n",
    "restaurant_page['rest_price'] = rest_price\n",
    "\n",
    "# facility \n",
    "rest_facility = []\n",
    "for item in html_soup.find_all('p')[11:20]:\n",
    "    rest_facility.append(item.text)\n",
    "\n",
    "restaurant_page['rest_facility'] = rest_facility\n",
    "\n",
    "# long lat \n",
    "long_lat = [] \n",
    "for item in html_soup.find_all('a',href=True):\n",
    "    if 'google' in item['href'] : \n",
    "        long_lat.append(item['href'])\n",
    "    else : \n",
    "        pass \n",
    "restaurant_page['rest_longlat'] = list(set(long_lat))[0]\n",
    "    \n",
    "# rating \n",
    "rating = ''\n",
    "rating = html_soup.find_all(\"div\", {\"class\": \"sc-1q7bklc-1 cILgox\"})[0].text\n",
    "restaurant_page['rating'] = rating\n",
    "\n",
    "# total review \n",
    "review = ''\n",
    "# review = tree.xpath('//div[normalize-space(text())=\"Reviews\"]/preceding-sibling::div')\n",
    "\n",
    "review = tree.xpath('//*[@id=\"root\"]/div/main/div/section[3]/section/section/div/div/div/section/div/div[2]/div[1]')\n",
    "review = review[0].text\n",
    "restaurant_page['review'] = review"
   ]
  },
  {
   "cell_type": "code",
   "execution_count": 8,
   "metadata": {},
   "outputs": [
    {
     "data": {
      "text/plain": [
       "{'url': 'https://www.zomato.com/jakarta/monks-kelapa-gading',\n",
       " 'title': 'MONKS',\n",
       " 'rest_type': ['Western', 'Asian', 'Cafe'],\n",
       " 'rest_price': 'Rp250.000 for two people (approx.)',\n",
       " 'rest_facility': ['Breakfast',\n",
       "  'Home Delivery',\n",
       "  'Takeaway Available',\n",
       "  'Wifi',\n",
       "  'Kid Friendly',\n",
       "  'Group Meal',\n",
       "  'Smoking Area',\n",
       "  'Outdoor Seating',\n",
       "  'Indoor Seating'],\n",
       " 'rest_longlat': 'https://www.google.com/maps/dir/?api=1&destination=-6.1640986132,106.9112386555',\n",
       " 'rating': '4.2',\n",
       " 'review': '914'}"
      ]
     },
     "execution_count": 8,
     "metadata": {},
     "output_type": "execute_result"
    }
   ],
   "source": [
    "restaurant_page"
   ]
  },
  {
   "cell_type": "code",
   "execution_count": 94,
   "metadata": {},
   "outputs": [
    {
     "name": "stdout",
     "output_type": "stream",
     "text": [
      "By using this site you agree to Zomato's use of cookies to give you a personalised experience. Please read the  cookie policy  for more information or to delete/block them.Acceptcrosslocation-filldown-trianglecurrent-locationDetect current locationUsing GPSSearchLog inSign upHome/Indonesia/Jakarta/North Jakarta/Kelapa Gading/MONKS/View Gallerycamera-addAdd PhotosMONKS4.2star-fill914 ReviewsWestern, Asian, CafeKelapa Gading, Jakarta9h – 21h (Today)info-linestar-emptyAdd Reviewdirection-lineDirectionbookmark-addBookmarkshareShareOverviewReviewsPhotosMenuAbout this placeRESTAURANT SAFETY MEASUREWell Sanitized KitchenMenuSee all menusright-triangleCuisinesWesternAsianCafePopular DishesBacon, Hot Chocolate, Cappuccino, Curry, Latte, CoffeePeople Say This Place Is Known ForAppetizers, Comfortable Seating Area, Fusion Dishes, Family Place, Breakfast, DesignAverage CostRp250.000 for two people (approx.)How do we calculate cost for two?Cash and Cards acceptedMore InfoBreakfastHome DeliveryTakeaway AvailableWifiKid FriendlyGroup MealSmoking AreaOutdoor SeatingIndoor SeatingTable booking recommendedNo Alcohol AvailableFeatured InPicture Perfect34 Placesright-triangleSimilar RestaurantsAre you a food blogger?Add a Zomato spoonback to your blog.right-triangleRate your dining experience1star-fill2star-fill3star-fill4star-fill5star-fillWrite a ReviewReview HighlightsBacon Hot Chocolate Cappuccino Curry Latte Coffee Appetizers Comfortable Seating Area Fusion Dishes Family Place Breakfast Design Anti Hungry Club208 reviews11 FollowersFollow5star-fillDINING11 months agoMonks (diambil sebelum PPKM) -- Sebuah cafe cozy yang terletak di Kelapa Gading.Di sini, gue memesan: Salted Caramel Coffee (45k) & Croffle Biscoff (32k). Harganya emang agak lumayan tapi, di sisi lain, ambience tempatnya worth it.Rasanya?1). Salted Caramel Coffee: Rasa kopinya lebih dominan ke manis tapi, ada hint rasa pahitnya. Dan teksturnya agak kental cair dengan sedikit foamy di atas.2). Croffle Biscoff: Teksturnya lembut di mulut. Dan rasanya dominan ke arah manis karamel tapi, pas rasa manisnya alias gak kemanisan.Ambience tempatnya luas dan cozy, mereka ada dua lantai yang cocok buat dijadikan tempat nongkrong. Tempatnya juga adem. Pelayanannya juga ramah dan friendly.antihungryclub.blogspot.com+2 Photo(s)0 Votes for helpful, 0 Commentsthumb-upHelpfulchatCommentshareShareCewek Rakus785 reviews124 FollowersFollow4star-fillDININGFeb 27, 2021Tempat ngopi aku kali ini dari monks , coffee shop di kelapa gading Yang recommended banget Untuk kalian cobain . Disini selain kopi ada juga varian non kopi nya , terdapat juga ragam appetizer serta main course Yang menggoda . Tempatnya pun juga Ngakak banget dan bikin betah . Cus langsung aja merapat dijamin puas . Happy weekend Gaes 📸 : Onion Rings (enak dan crunchy , ditambah saus Sambal semakin menambah kenikmatan) X Hot Cappucino (kopinya enak serta susu nya ngak bikin enek) 🕐 : 08.30-21.00 (Jumat & Sabtu 09.00-21.30) 📍 : Monks ; Ruko Graha Boulevard Timur Blok ND1 , Kelapa Gading , Jakarta utara , Jakarta +2 Photo(s)0 Votes for helpful, 0 Commentsthumb-upHelpfulchatCommentshareShareView all reviewsright-triangleHELP US MAKE ZOMATO BETTERReport an error in this listingHelp us make Zomato more updated and relevant for everyoneReport nowright-triangleCall+6283807397288 +622122452487DirectionⒸ OpenStreetMap contributorsKomplek Graha Boulevard Timur, Summarecon Kelapa Gading, Jl. Boulevard Timur, Blok ND 1 No. 51, Kelapa Gading, JakartacopyCopydirectionDirectionRelated to MONKS, Kelapa GadingRestaurants in Jakarta, Jakarta Restaurants, Kelapa Gading restaurants, Best Kelapa Gading restaurants, North Jakarta restaurants, Casual Dining in Jakarta, Casual Dining near me, Casual Dining in North Jakarta, Casual Dining in Kelapa Gading, Café in Jakarta, Café near me, Café in North Jakarta, Café in Kelapa Gading, New Year Parties in Jakarta, Christmas' Special in JakartaRestaurants around Kelapa GadingPulo Gadung restaurants, Koja restaurants, Sunter restaurants, Rawamangun restaurantsFrequent searches leading to this pagemonks kelapa gading, monks, monks cafe kelapa gading, monks cafe, monks menuSelect CountryIndiaAustraliaBrazilCanadaChileCzech RepublicIndonesiaIrelandItalyLebanonMalaysiaNew ZealandPhilippinesPolandPortugalQatarSingaporeSlovakiaSouth AfricaSri LankaTurkeyUAEUnited KingdomUSAIndonesiachevron-downSelect Languagelanguage-globeEnglishchevron-downAbout ZomatoWho We AreBlogWork With UsInvestor RelationsReport FraudZomaverseZomatoFeeding IndiaHyperpureZomalandFor EnterprisesZomato For WorkLearn MorePrivacySecurityTermsSitemapSocial linksBy continuing past this page, you agree to our Terms of Service, Cookie Policy, Privacy Policy and Content Policies. All trademarks are properties of their respective owners. 2008-2022 © Zomato™ Ltd. All rights reserved.\n",
      "location-filldown-trianglecurrent-locationDetect current locationUsing GPSSearchLog inSign upHome/Indonesia/Jakarta/North Jakarta/Kelapa Gading/MONKS/View Gallerycamera-addAdd PhotosMONKS4.2star-fill914 ReviewsWestern, Asian, CafeKelapa Gading, Jakarta9h – 21h (Today)info-linestar-emptyAdd Reviewdirection-lineDirectionbookmark-addBookmarkshareShareOverviewReviewsPhotosMenuAbout this placeRESTAURANT SAFETY MEASUREWell Sanitized KitchenMenuSee all menusright-triangleCuisinesWesternAsianCafePopular DishesBacon, Hot Chocolate, Cappuccino, Curry, Latte, CoffeePeople Say This Place Is Known ForAppetizers, Comfortable Seating Area, Fusion Dishes, Family Place, Breakfast, DesignAverage CostRp250.000 for two people (approx.)How do we calculate cost for two?Cash and Cards acceptedMore InfoBreakfastHome DeliveryTakeaway AvailableWifiKid FriendlyGroup MealSmoking AreaOutdoor SeatingIndoor SeatingTable booking recommendedNo Alcohol AvailableFeatured InPicture Perfect34 Placesright-triangleSimilar RestaurantsAre you a food blogger?Add a Zomato spoonback to your blog.right-triangleRate your dining experience1star-fill2star-fill3star-fill4star-fill5star-fillWrite a ReviewReview HighlightsBacon Hot Chocolate Cappuccino Curry Latte Coffee Appetizers Comfortable Seating Area Fusion Dishes Family Place Breakfast Design Anti Hungry Club208 reviews11 FollowersFollow5star-fillDINING11 months agoMonks (diambil sebelum PPKM) -- Sebuah cafe cozy yang terletak di Kelapa Gading.Di sini, gue memesan: Salted Caramel Coffee (45k) & Croffle Biscoff (32k). Harganya emang agak lumayan tapi, di sisi lain, ambience tempatnya worth it.Rasanya?1). Salted Caramel Coffee: Rasa kopinya lebih dominan ke manis tapi, ada hint rasa pahitnya. Dan teksturnya agak kental cair dengan sedikit foamy di atas.2). Croffle Biscoff: Teksturnya lembut di mulut. Dan rasanya dominan ke arah manis karamel tapi, pas rasa manisnya alias gak kemanisan.Ambience tempatnya luas dan cozy, mereka ada dua lantai yang cocok buat dijadikan tempat nongkrong. Tempatnya juga adem. Pelayanannya juga ramah dan friendly.antihungryclub.blogspot.com+2 Photo(s)0 Votes for helpful, 0 Commentsthumb-upHelpfulchatCommentshareShareCewek Rakus785 reviews124 FollowersFollow4star-fillDININGFeb 27, 2021Tempat ngopi aku kali ini dari monks , coffee shop di kelapa gading Yang recommended banget Untuk kalian cobain . Disini selain kopi ada juga varian non kopi nya , terdapat juga ragam appetizer serta main course Yang menggoda . Tempatnya pun juga Ngakak banget dan bikin betah . Cus langsung aja merapat dijamin puas . Happy weekend Gaes 📸 : Onion Rings (enak dan crunchy , ditambah saus Sambal semakin menambah kenikmatan) X Hot Cappucino (kopinya enak serta susu nya ngak bikin enek) 🕐 : 08.30-21.00 (Jumat & Sabtu 09.00-21.30) 📍 : Monks ; Ruko Graha Boulevard Timur Blok ND1 , Kelapa Gading , Jakarta utara , Jakarta +2 Photo(s)0 Votes for helpful, 0 Commentsthumb-upHelpfulchatCommentshareShareView all reviewsright-triangleHELP US MAKE ZOMATO BETTERReport an error in this listingHelp us make Zomato more updated and relevant for everyoneReport nowright-triangleCall+6283807397288 +622122452487DirectionⒸ OpenStreetMap contributorsKomplek Graha Boulevard Timur, Summarecon Kelapa Gading, Jl. Boulevard Timur, Blok ND 1 No. 51, Kelapa Gading, JakartacopyCopydirectionDirectionRelated to MONKS, Kelapa GadingRestaurants in Jakarta, Jakarta Restaurants, Kelapa Gading restaurants, Best Kelapa Gading restaurants, North Jakarta restaurants, Casual Dining in Jakarta, Casual Dining near me, Casual Dining in North Jakarta, Casual Dining in Kelapa Gading, Café in Jakarta, Café near me, Café in North Jakarta, Café in Kelapa Gading, New Year Parties in Jakarta, Christmas' Special in JakartaRestaurants around Kelapa GadingPulo Gadung restaurants, Koja restaurants, Sunter restaurants, Rawamangun restaurantsFrequent searches leading to this pagemonks kelapa gading, monks, monks cafe kelapa gading, monks cafe, monks menuSelect CountryIndiaAustraliaBrazilCanadaChileCzech RepublicIndonesiaIrelandItalyLebanonMalaysiaNew ZealandPhilippinesPolandPortugalQatarSingaporeSlovakiaSouth AfricaSri LankaTurkeyUAEUnited KingdomUSAIndonesiachevron-downSelect Languagelanguage-globeEnglishchevron-downAbout ZomatoWho We AreBlogWork With UsInvestor RelationsReport FraudZomaverseZomatoFeeding IndiaHyperpureZomalandFor EnterprisesZomato For WorkLearn MorePrivacySecurityTermsSitemapSocial linksBy continuing past this page, you agree to our Terms of Service, Cookie Policy, Privacy Policy and Content Policies. All trademarks are properties of their respective owners. 2008-2022 © Zomato™ Ltd. All rights reserved.\n",
      "Home/Indonesia/Jakarta/North Jakarta/Kelapa Gading/MONKS/View Gallerycamera-addAdd PhotosMONKS4.2star-fill914 ReviewsWestern, Asian, CafeKelapa Gading, Jakarta9h – 21h (Today)info-linestar-emptyAdd Reviewdirection-lineDirectionbookmark-addBookmarkshareShareOverviewReviewsPhotosMenuAbout this placeRESTAURANT SAFETY MEASUREWell Sanitized KitchenMenuSee all menusright-triangleCuisinesWesternAsianCafePopular DishesBacon, Hot Chocolate, Cappuccino, Curry, Latte, CoffeePeople Say This Place Is Known ForAppetizers, Comfortable Seating Area, Fusion Dishes, Family Place, Breakfast, DesignAverage CostRp250.000 for two people (approx.)How do we calculate cost for two?Cash and Cards acceptedMore InfoBreakfastHome DeliveryTakeaway AvailableWifiKid FriendlyGroup MealSmoking AreaOutdoor SeatingIndoor SeatingTable booking recommendedNo Alcohol AvailableFeatured InPicture Perfect34 Placesright-triangleSimilar RestaurantsAre you a food blogger?Add a Zomato spoonback to your blog.right-triangleRate your dining experience1star-fill2star-fill3star-fill4star-fill5star-fillWrite a ReviewReview HighlightsBacon Hot Chocolate Cappuccino Curry Latte Coffee Appetizers Comfortable Seating Area Fusion Dishes Family Place Breakfast Design Anti Hungry Club208 reviews11 FollowersFollow5star-fillDINING11 months agoMonks (diambil sebelum PPKM) -- Sebuah cafe cozy yang terletak di Kelapa Gading.Di sini, gue memesan: Salted Caramel Coffee (45k) & Croffle Biscoff (32k). Harganya emang agak lumayan tapi, di sisi lain, ambience tempatnya worth it.Rasanya?1). Salted Caramel Coffee: Rasa kopinya lebih dominan ke manis tapi, ada hint rasa pahitnya. Dan teksturnya agak kental cair dengan sedikit foamy di atas.2). Croffle Biscoff: Teksturnya lembut di mulut. Dan rasanya dominan ke arah manis karamel tapi, pas rasa manisnya alias gak kemanisan.Ambience tempatnya luas dan cozy, mereka ada dua lantai yang cocok buat dijadikan tempat nongkrong. Tempatnya juga adem. Pelayanannya juga ramah dan friendly.antihungryclub.blogspot.com+2 Photo(s)0 Votes for helpful, 0 Commentsthumb-upHelpfulchatCommentshareShareCewek Rakus785 reviews124 FollowersFollow4star-fillDININGFeb 27, 2021Tempat ngopi aku kali ini dari monks , coffee shop di kelapa gading Yang recommended banget Untuk kalian cobain . Disini selain kopi ada juga varian non kopi nya , terdapat juga ragam appetizer serta main course Yang menggoda . Tempatnya pun juga Ngakak banget dan bikin betah . Cus langsung aja merapat dijamin puas . Happy weekend Gaes 📸 : Onion Rings (enak dan crunchy , ditambah saus Sambal semakin menambah kenikmatan) X Hot Cappucino (kopinya enak serta susu nya ngak bikin enek) 🕐 : 08.30-21.00 (Jumat & Sabtu 09.00-21.30) 📍 : Monks ; Ruko Graha Boulevard Timur Blok ND1 , Kelapa Gading , Jakarta utara , Jakarta +2 Photo(s)0 Votes for helpful, 0 Commentsthumb-upHelpfulchatCommentshareShareView all reviewsright-triangleHELP US MAKE ZOMATO BETTERReport an error in this listingHelp us make Zomato more updated and relevant for everyoneReport nowright-triangleCall+6283807397288 +622122452487DirectionⒸ OpenStreetMap contributorsKomplek Graha Boulevard Timur, Summarecon Kelapa Gading, Jl. Boulevard Timur, Blok ND 1 No. 51, Kelapa Gading, JakartacopyCopydirectionDirectionRelated to MONKS, Kelapa GadingRestaurants in Jakarta, Jakarta Restaurants, Kelapa Gading restaurants, Best Kelapa Gading restaurants, North Jakarta restaurants, Casual Dining in Jakarta, Casual Dining near me, Casual Dining in North Jakarta, Casual Dining in Kelapa Gading, Café in Jakarta, Café near me, Café in North Jakarta, Café in Kelapa Gading, New Year Parties in Jakarta, Christmas' Special in JakartaRestaurants around Kelapa GadingPulo Gadung restaurants, Koja restaurants, Sunter restaurants, Rawamangun restaurantsFrequent searches leading to this pagemonks kelapa gading, monks, monks cafe kelapa gading, monks cafe, monks menu\n",
      "Anti Hungry Club208 reviews11 Followers\n",
      "Anti Hungry Club208 reviews11 Followers\n",
      "Cewek Rakus785 reviews124 Followers\n",
      "Cewek Rakus785 reviews124 Followers\n"
     ]
    }
   ],
   "source": [
    "# rating \n",
    "for item in html_soup.find_all(\"div\"):\n",
    "    if 'reviews' in item.text:\n",
    "        print(item.text)\n",
    "    else : \n",
    "        pass "
   ]
  },
  {
   "cell_type": "code",
   "execution_count": null,
   "metadata": {},
   "outputs": [],
   "source": []
  }
 ],
 "metadata": {
  "kernelspec": {
   "display_name": "Python 3",
   "language": "python",
   "name": "python3"
  },
  "language_info": {
   "codemirror_mode": {
    "name": "ipython",
    "version": 3
   },
   "file_extension": ".py",
   "mimetype": "text/x-python",
   "name": "python",
   "nbconvert_exporter": "python",
   "pygments_lexer": "ipython3",
   "version": "3.6.9"
  }
 },
 "nbformat": 4,
 "nbformat_minor": 4
}
